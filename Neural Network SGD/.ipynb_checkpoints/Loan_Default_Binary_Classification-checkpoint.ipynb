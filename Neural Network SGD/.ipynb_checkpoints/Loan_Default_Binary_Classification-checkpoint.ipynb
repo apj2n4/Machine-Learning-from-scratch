{
 "cells": [
  {
   "cell_type": "markdown",
   "metadata": {},
   "source": [
    "# Loan Default Binary Classification using Neural Networks & mini batch Stochastic Gradient Descent implemented using Numpy\n",
    "\n",
    "## Table of Contents\n",
    "* [1. Introduction](#Deep_neural)\n",
    "\n",
    "* [2. Implementation of the neural network with mini batch Stochastic Gradient Descent](#Implementation)\n",
    "\n",
    "* [3. Loan Default dataset & One Hot Encoding](#Loan_default)\n",
    "\n",
    "* [4. Prepping the train test sets](#train_test)    \n",
    "    \n",
    "* [5. Implemented Logistic Regression Model](#imp_log_reg)\n",
    "    \n",
    "* [6. Neural Network with Traditional Gradient Descent](#trad_NN)\n",
    "\n",
    "* [7. Training the Neural Network with mini batch Stochastic Gradient Descent](#SGD_NN)\n",
    "\n",
    "* [8. Comparison of Convergence -  Gradient Descent vs. Stochastic Gradient Descent](#comparison)\n",
    "\n",
    "* [9. Scikit Learn's Logistic Regression Classifier](#sklearn_logreg)\n",
    "\n",
    "* [10. The ROC metric](#roc)\n",
    "\n",
    "## 1. Introduction <a class=\"anchor\" id=\"Deep_neural\"></a>\n",
    "\n",
    "Stochastic gradient descent (SGD) is a popular algorithm used for finding the weights and bias arrays which minimize the cost function in a neural network's training process. Most of the modern deep learning frameworks (TensorFlow,PyTorch) use advanced optimization methods like Adam, RMSprop which are based on SGD. In this notebook a vanilla mini batch SGD has been implemented and used for predicting loan default probabilies using the <a href=\"https://www.kaggle.com/wendykan/lending-club-loan-data\">Lending Club Loan Default Dataset</a>. The Lending Club dataset is quite large (over 2 GB) with many features. <a href=\"https://arunj2014.netlify.app/blog/loan_default_notebook_prt1/\">My personal R Blogdown site</a> covers the exploratory data analysis and the simplification of the dataset in great detail. A reduced dataset with around 40000 rows and 58 features was used in this study to validate the implementation of mini batch Stochastic Gradient descent. The details about deep learning neural network implementation is described in this <a href=\"https://github.com/apj2n4/Machine-Learning-from-scratch/blob/master/Deep%20Neural%20Network%20Gradient%20Descent/Dense_neural_network_many_layers.ipynb\">notebook</a> along with validation on the breast cancer dataset. The previous implementation used a traditional gradient descent algorithm which is susceptible to getting stuck in a local minima. In mini batch SGD, the training dataset with m training examples is randomly split into many small batches of size k where $0<k<m$  at each epoch and the weights are trained on these batches (X_train_batch and y_train_batch) sequentially. The cost function is calculated based on m training samples and displayed. The random shuffles of the dataset prevents the gradient descent from getting stuck in any local minima.\n",
    "Ref. <a href=\"https://sebastianraschka.com/books.htmlRashka\"> Python Machine Learning, 3rd Edition Raschka</a>. SGD speeds up the convergence of the cost function minimization quite a bit."
   ]
  },
  {
   "cell_type": "code",
   "execution_count": 2,
   "metadata": {},
   "outputs": [],
   "source": [
    "import numpy as np\n",
    "import pandas as pd\n",
    "import seaborn as sns\n",
    "import matplotlib.pyplot as plt\n",
    "from nn_trad import dense_NN\n",
    "from logreg import logregmodel\n",
    "from sklearn.metrics import confusion_matrix, plot_confusion_matrix\n",
    "%matplotlib inline"
   ]
  },
  {
   "cell_type": "markdown",
   "metadata": {},
   "source": [
    "## 2. Implementation of the neural network with mini batch Stochastic Gradient Descent <a class=\"anchor\" id=\"Implementation\"></a>\n",
    "\n",
    "Please refer to the full implementation of a \n",
    "<a href =https://github.com/apj2n4/Machine-Learning-from-scratch/blob/master/Deep%20Neural%20Network%20Gradient%20Descent/Dense_neural_network_many_layers.ipynb> Feed forward neural network with the traditional gradient descent algorithm here.</a> The following class adds the mini batch Stochastic gradient descent optimization algorithm to the class."
   ]
  },
  {
   "cell_type": "code",
   "execution_count": 3,
   "metadata": {},
   "outputs": [],
   "source": [
    "class dense_NN_sgd():\n",
    "    def __init__(self,seed=10):        \n",
    "        self.nn_struct={}\n",
    "        self.index = int(0)\n",
    "        self.W = {}\n",
    "        self.b = {}\n",
    "        self.Z = {}\n",
    "        self.A = {}\n",
    "        self.dA = {}\n",
    "        self.dZ = {}\n",
    "        self.dW = {}\n",
    "        self.dB = {}\n",
    "        #self.cost = []\n",
    "        self.cost_list=np.array([])\n",
    "        self.random = np.random.RandomState(seed)\n",
    "    \n",
    "    ###################Scaler###################\n",
    "    def scaler_fit(self,X):\n",
    "        self.X_max = X.max(0)\n",
    "        self.X_min = X.min(0)\n",
    "            \n",
    "    def scaler_transform(self,X):\n",
    "        return (X-self.X_min)/(self.X_max-self.X_min)\n",
    "    \n",
    "    ############################################\n",
    "    \n",
    "    #################Activation functions & derivatives###################\n",
    "    ############Activation Functions############\n",
    "    def sigmoid(self,x):\n",
    "        return 1/(1+np.exp(-x))\n",
    "    \n",
    "    def RELU(self,x):\n",
    "        return np.maximum(0,x)\n",
    "    \n",
    "    def tanh(self,x):\n",
    "        return np.tanh(x)\n",
    "    \n",
    "    def leakyRELU(self,x):\n",
    "        return np.maximum(0.01*x,x)\n",
    "    \n",
    "    #############Derivatives#####################\n",
    "    def dsigmoid(self,X):\n",
    "        return self.sigmoid(X)*(1-self.sigmoid(X))\n",
    "    \n",
    "    def dRELU(self,x):\n",
    "        return np.where(x>=0.0,1,0)   \n",
    "    \n",
    "    def dtanh(self,X):\n",
    "        return (1-np.square(np.tanh(X)))\n",
    "    \n",
    "    def dleakyRELU(self,x):\n",
    "        return np.where(x>=0,0.01,1.0)\n",
    "    \n",
    "    ##############################################\n",
    "    \n",
    "    def g(self,X,fun=\"RELU\"):\n",
    "        if fun==\"RELU\":\n",
    "            return self.RELU(X)\n",
    "        if fun==\"tanh\":\n",
    "            return self.tanh(X)\n",
    "        if fun=='sigmoid':\n",
    "            return self.sigmoid(X)\n",
    "        if fun=='leakyRELU':\n",
    "            return self.leakyRELU(X)\n",
    "    \n",
    "    def g_prime(self,X,fun=\"RELU\"):\n",
    "        if fun==\"RELU\":\n",
    "            return self.dRELU(X)\n",
    "        if fun==\"tanh\":\n",
    "            return self.dtanh(X)\n",
    "        if fun=='sigmoid':\n",
    "            return self.dsigmoid(X)\n",
    "        if fun=='leakyRELU':\n",
    "            return self.dleakyRELU(X)\n",
    "    ####################################################################################\n",
    "    \n",
    "    ################################Cost Function########################################\n",
    "    def cost(self,y_true,y_pred):\n",
    "        m = y_true.shape[1]\n",
    "        return -np.sum(np.multiply(y_true,np.log(y_pred))+np.multiply((1-y_true),np.log(1-y_pred)))/m\n",
    "    \n",
    "    #####################################################################################\n",
    "           \n",
    "    def input_data(self,X,y):\n",
    "        self.scaler_fit(X)\n",
    "        X_scaled = self.scaler_transform(X)\n",
    "        self.X = X_scaled\n",
    "        self.y = y.reshape((1,-1))\n",
    "        self.m = X_scaled.T.shape[1]\n",
    "        self.n0 = X_scaled.shape[1]\n",
    "        \n",
    "\n",
    "    def add_layer(self,nodes=5,act_fun='RELU'):\n",
    "        self.index += 1\n",
    "        add_lay = {self.index:[nodes,act_fun]}\n",
    "        self.nn_struct.update(add_lay)\n",
    "        \n",
    "    def summary(self):\n",
    "        n_param = 0\n",
    "        L = max(sorted(self.nn_struct))\n",
    "        for i in range(1,L+1):\n",
    "            nodes = self.nn_struct[i][0]\n",
    "            act_fun = self.nn_struct[i][1]\n",
    "            print(\"Layer:\",i,\" Node Count:\",nodes,\" Activation Function:\",act_fun)\n",
    "            if i==1:\n",
    "                n_param += self.n0*nodes + nodes\n",
    "            else:\n",
    "                n_param += self.nn_struct[i-1][0]*nodes + nodes\n",
    "        print(\"Total Number of Trainable params:\",n_param)\n",
    "        \n",
    "    \n",
    "    ######################## Randomize the weight arrays#######################\n",
    "    def nn_compile(self):\n",
    "        self.L = max(sorted(self.nn_struct))\n",
    "        for key,value in sorted(self.nn_struct.items()):\n",
    "            if(key==1):\n",
    "                W = 0.02*self.random.rand(value[0],self.n0)\n",
    "                b = np.zeros((value[0],1))\n",
    "                self.W.update({key:W})\n",
    "                self.b.update({key:b})\n",
    "            else:\n",
    "                W = 0.02*self.random.rand(value[0],self.nn_struct[key-1][0])\n",
    "                b = np.zeros((value[0],1))\n",
    "                self.W.update({key:W})\n",
    "                self.b.update({key:b})\n",
    "    ###########################################################################\n",
    "    \n",
    "    def forward_prop(self,verbose=False):\n",
    "        L = max(sorted(self.nn_struct))\n",
    "        ##############Forward Propagation###############\n",
    "        for key,value in sorted(self.nn_struct.items()):\n",
    "            if(key==1):\n",
    "                Z = np.dot(self.W[key],self.X_batch.T)+self.b[key]\n",
    "                A = self.g(Z,fun=value[1])\n",
    "            else:\n",
    "                Z = np.dot(self.W[key],self.A[key-1])+self.b[key]\n",
    "                A = self.g(Z,fun=value[1])\n",
    "            self.Z.update({key:Z})\n",
    "            self.A.update({key:A})\n",
    "        ################################################\n",
    "        \n",
    "    \n",
    "    def back_prop(self):\n",
    "        ############### Total Number of Layers based on Input###########\n",
    "        L = max(sorted(self.nn_struct))\n",
    "        ###############Back Propagation #################\n",
    "        dAL = - (np.divide(self.y_batch, self.A[L]) - np.divide(1 - self.y_batch, 1 - self.A[L]))\n",
    "        dZ = dAL*self.g_prime(self.Z[L],fun=self.nn_struct[L][1])\n",
    "        dW = np.dot(dZ,self.A[L-1].T)/self.m\n",
    "        dB = np.sum(dZ,axis=1,keepdims=True)/self.m\n",
    "        dAL_1 =  np.dot(self.W[L].T,dZ)\n",
    "        \n",
    "        self.dA.update({L:dAL})\n",
    "        self.dZ.update({L:dZ})\n",
    "        self.dW.update({L:dW})\n",
    "        self.dB.update({L:dB})\n",
    "        self.dA.update({L-1:dAL_1})\n",
    "        \n",
    "        \n",
    "        for i in range(L-1,0,-1):\n",
    "            dZ = self.dA[i]*self.g_prime(self.Z[i],fun=self.nn_struct[i][1])\n",
    "            dW = np.dot(dZ,self.A[i-1].T)/self.m\n",
    "            dB = np.sum(dZ,axis=1,keepdims=True)/self.m                    \n",
    "            dAL_1 = np.dot(self.W[i].T,dZ)\n",
    "            if(i!=1):\n",
    "                self.dA.update({i-1:dAL_1})\n",
    "            self.dZ.update({i:dZ})\n",
    "            self.dW.update({i:dW})\n",
    "            self.dB.update({i:dB})\n",
    "         \n",
    "        for i in range(1,L+1,1):\n",
    "            self.W[i]=self.W[i]-self.alpha*self.dW[i]\n",
    "            self.b[i]=self.b[i]-self.alpha*self.dB[i]\n",
    "    \n",
    "    def fit(self,alpha=0.01,epochs=100,batch_size = 10,call_back = 10,verbose=False):\n",
    "        self.alpha = alpha\n",
    "        indices = np.arange(self.X.shape[0])\n",
    "        cb = 0\n",
    "        for i in range(1,epochs):\n",
    "            self.random.shuffle(indices)            \n",
    "            for start_idx in range(0,self.m-batch_size+1,batch_size):\n",
    "                batch_idx = indices[start_idx:start_idx+batch_size]\n",
    "                self.X_batch = self.X[batch_idx]\n",
    "                #### Asssing A0 to X_batch, the zeroth layer##\n",
    "                self.A.update({0:self.X_batch.T})\n",
    "                self.y_batch = self.y[:,batch_idx]\n",
    "                self.forward_prop(verbose)                \n",
    "                self.back_prop()\n",
    "            cost = self.cost(self.y,self.forward_predict(self.X))\n",
    "            self.cost_list = np.append(self.cost_list,cost)\n",
    "            #i=len(self.cost_list)\n",
    "            if verbose:\n",
    "                print(\"Epoch: \",i,\"Binary Cross Entropy Cost: \",cost)\n",
    "            if np.isnan(self.cost_list[i-1]):\n",
    "                break\n",
    "            if i>1:                \n",
    "                if (self.cost_list[i-2]-self.cost_list[i-1])<0:\n",
    "                    cb +=1\n",
    "                if cb > call_back:\n",
    "                    break\n",
    "    \n",
    "    def forward_predict(self,X_new):\n",
    "        L = max(sorted(self.nn_struct))\n",
    "        X_scaled = X_new\n",
    "        m = X_new.shape[0]\n",
    "        A_dict = {}\n",
    "        Z_dict = {}\n",
    "        for key,value in sorted(self.nn_struct.items()):\n",
    "            if(key==1):\n",
    "                Z = np.dot(self.W[key], X_scaled.T)+self.b[key]\n",
    "                A = self.g(Z,fun=value[1])\n",
    "            else:\n",
    "                Z = np.dot(self.W[key],A_dict[key-1])+self.b[key]\n",
    "                A = self.g(Z,fun=value[1])\n",
    "            Z_dict.update({key:Z})\n",
    "            A_dict.update({key:A})\n",
    "        y_pred = A_dict[L]               \n",
    "        return y_pred\n",
    "    \n",
    "    def predict(self,X_new):\n",
    "        L = max(sorted(self.nn_struct))\n",
    "        X_scaled = self.scaler_transform(X_new)\n",
    "        m = X_new.shape[0]\n",
    "        A_dict = {}\n",
    "        Z_dict = {}\n",
    "        for key,value in sorted(self.nn_struct.items()):\n",
    "            if(key==1):\n",
    "                Z = np.dot(self.W[key], X_scaled.T)+self.b[key]\n",
    "                A = self.g(Z,fun=value[1])\n",
    "            else:\n",
    "                Z = np.dot(self.W[key],A_dict[key-1])+self.b[key]\n",
    "                A = self.g(Z,fun=value[1])\n",
    "            Z_dict.update({key:Z})\n",
    "            A_dict.update({key:A})\n",
    "        y_pred = A_dict[L].reshape(-1)\n",
    "        y_class = np.zeros(m)\n",
    "        y_class[y_pred>0.5]=1\n",
    "        \n",
    "        return y_pred,y_class\n",
    "        "
   ]
  },
  {
   "cell_type": "markdown",
   "metadata": {},
   "source": [
    "## 3. Loan Default dataset & One Hot Encoding <a class=\"anchor\" id=\"Loan_default\"></a>"
   ]
  },
  {
   "cell_type": "code",
   "execution_count": 4,
   "metadata": {},
   "outputs": [],
   "source": [
    "df = pd.read_csv(\"loan_simplified_2.csv\")"
   ]
  },
  {
   "cell_type": "markdown",
   "metadata": {},
   "source": [
    "The simplified dataset is displayed below. Some of the dataset continuous features are displayed below. The dataset also has a lot of categorical variables with many levels.For the implemented neural network to work they need to converted into one hot encoded categorical variables meaning having only 2 levels (0s and 1s). "
   ]
  },
  {
   "cell_type": "code",
   "execution_count": 5,
   "metadata": {},
   "outputs": [
    {
     "data": {
      "text/html": [
       "<div>\n",
       "<style scoped>\n",
       "    .dataframe tbody tr th:only-of-type {\n",
       "        vertical-align: middle;\n",
       "    }\n",
       "\n",
       "    .dataframe tbody tr th {\n",
       "        vertical-align: top;\n",
       "    }\n",
       "\n",
       "    .dataframe thead th {\n",
       "        text-align: right;\n",
       "    }\n",
       "</style>\n",
       "<table border=\"1\" class=\"dataframe\">\n",
       "  <thead>\n",
       "    <tr style=\"text-align: right;\">\n",
       "      <th></th>\n",
       "      <th>loan_amnt</th>\n",
       "      <th>term</th>\n",
       "      <th>int_rate</th>\n",
       "      <th>installment</th>\n",
       "      <th>grade</th>\n",
       "      <th>emp_length</th>\n",
       "      <th>home_ownership</th>\n",
       "      <th>annual_inc</th>\n",
       "      <th>verification_status</th>\n",
       "      <th>loan_status</th>\n",
       "      <th>...</th>\n",
       "      <th>inq_last_6mths</th>\n",
       "      <th>open_acc</th>\n",
       "      <th>revol_bal</th>\n",
       "      <th>revol_util</th>\n",
       "      <th>total_acc</th>\n",
       "      <th>out_prncp</th>\n",
       "      <th>total_pymnt</th>\n",
       "      <th>total_rec_int</th>\n",
       "      <th>last_pymnt_amnt</th>\n",
       "      <th>score_days_interval</th>\n",
       "    </tr>\n",
       "  </thead>\n",
       "  <tbody>\n",
       "    <tr>\n",
       "      <th>0</th>\n",
       "      <td>24000</td>\n",
       "      <td>36 months</td>\n",
       "      <td>10.49</td>\n",
       "      <td>779.95</td>\n",
       "      <td>B</td>\n",
       "      <td>2 years</td>\n",
       "      <td>MORTGAGE</td>\n",
       "      <td>175000.0</td>\n",
       "      <td>Source Verified</td>\n",
       "      <td>Good</td>\n",
       "      <td>...</td>\n",
       "      <td>0</td>\n",
       "      <td>4</td>\n",
       "      <td>17</td>\n",
       "      <td>0.1</td>\n",
       "      <td>24</td>\n",
       "      <td>17446.91</td>\n",
       "      <td>8551.48</td>\n",
       "      <td>1998.39</td>\n",
       "      <td>779.95</td>\n",
       "      <td>334</td>\n",
       "    </tr>\n",
       "    <tr>\n",
       "      <th>1</th>\n",
       "      <td>6000</td>\n",
       "      <td>36 months</td>\n",
       "      <td>13.55</td>\n",
       "      <td>203.76</td>\n",
       "      <td>D</td>\n",
       "      <td>10+ years</td>\n",
       "      <td>RENT</td>\n",
       "      <td>38000.0</td>\n",
       "      <td>Not Verified</td>\n",
       "      <td>Default</td>\n",
       "      <td>...</td>\n",
       "      <td>0</td>\n",
       "      <td>3</td>\n",
       "      <td>39481</td>\n",
       "      <td>92.9</td>\n",
       "      <td>13</td>\n",
       "      <td>0.00</td>\n",
       "      <td>5297.24</td>\n",
       "      <td>1214.09</td>\n",
       "      <td>203.76</td>\n",
       "      <td>2801</td>\n",
       "    </tr>\n",
       "    <tr>\n",
       "      <th>2</th>\n",
       "      <td>4325</td>\n",
       "      <td>36 months</td>\n",
       "      <td>13.33</td>\n",
       "      <td>146.42</td>\n",
       "      <td>C</td>\n",
       "      <td>10+ years</td>\n",
       "      <td>MORTGAGE</td>\n",
       "      <td>92000.0</td>\n",
       "      <td>Verified</td>\n",
       "      <td>Good</td>\n",
       "      <td>...</td>\n",
       "      <td>2</td>\n",
       "      <td>18</td>\n",
       "      <td>7205</td>\n",
       "      <td>28.3</td>\n",
       "      <td>46</td>\n",
       "      <td>3822.07</td>\n",
       "      <td>725.69</td>\n",
       "      <td>222.76</td>\n",
       "      <td>146.42</td>\n",
       "      <td>184</td>\n",
       "    </tr>\n",
       "    <tr>\n",
       "      <th>3</th>\n",
       "      <td>18000</td>\n",
       "      <td>60 months</td>\n",
       "      <td>17.14</td>\n",
       "      <td>448.71</td>\n",
       "      <td>D</td>\n",
       "      <td>3 years</td>\n",
       "      <td>MORTGAGE</td>\n",
       "      <td>65000.0</td>\n",
       "      <td>Source Verified</td>\n",
       "      <td>Good</td>\n",
       "      <td>...</td>\n",
       "      <td>1</td>\n",
       "      <td>12</td>\n",
       "      <td>26240</td>\n",
       "      <td>74.9</td>\n",
       "      <td>15</td>\n",
       "      <td>0.00</td>\n",
       "      <td>20537.76</td>\n",
       "      <td>2537.76</td>\n",
       "      <td>16533.65</td>\n",
       "      <td>395</td>\n",
       "    </tr>\n",
       "    <tr>\n",
       "      <th>4</th>\n",
       "      <td>9000</td>\n",
       "      <td>36 months</td>\n",
       "      <td>9.99</td>\n",
       "      <td>290.37</td>\n",
       "      <td>B</td>\n",
       "      <td>10+ years</td>\n",
       "      <td>MORTGAGE</td>\n",
       "      <td>51000.0</td>\n",
       "      <td>Verified</td>\n",
       "      <td>Good</td>\n",
       "      <td>...</td>\n",
       "      <td>0</td>\n",
       "      <td>9</td>\n",
       "      <td>5800</td>\n",
       "      <td>49.5</td>\n",
       "      <td>26</td>\n",
       "      <td>0.00</td>\n",
       "      <td>9971.35</td>\n",
       "      <td>971.35</td>\n",
       "      <td>5638.39</td>\n",
       "      <td>1461</td>\n",
       "    </tr>\n",
       "  </tbody>\n",
       "</table>\n",
       "<p>5 rows × 22 columns</p>\n",
       "</div>"
      ],
      "text/plain": [
       "   loan_amnt       term  int_rate  installment grade emp_length  \\\n",
       "0      24000  36 months     10.49       779.95     B    2 years   \n",
       "1       6000  36 months     13.55       203.76     D  10+ years   \n",
       "2       4325  36 months     13.33       146.42     C  10+ years   \n",
       "3      18000  60 months     17.14       448.71     D    3 years   \n",
       "4       9000  36 months      9.99       290.37     B  10+ years   \n",
       "\n",
       "  home_ownership  annual_inc verification_status loan_status  ...  \\\n",
       "0       MORTGAGE    175000.0     Source Verified        Good  ...   \n",
       "1           RENT     38000.0        Not Verified     Default  ...   \n",
       "2       MORTGAGE     92000.0            Verified        Good  ...   \n",
       "3       MORTGAGE     65000.0     Source Verified        Good  ...   \n",
       "4       MORTGAGE     51000.0            Verified        Good  ...   \n",
       "\n",
       "  inq_last_6mths  open_acc  revol_bal  revol_util  total_acc  out_prncp  \\\n",
       "0              0         4         17         0.1         24   17446.91   \n",
       "1              0         3      39481        92.9         13       0.00   \n",
       "2              2        18       7205        28.3         46    3822.07   \n",
       "3              1        12      26240        74.9         15       0.00   \n",
       "4              0         9       5800        49.5         26       0.00   \n",
       "\n",
       "   total_pymnt  total_rec_int  last_pymnt_amnt  score_days_interval  \n",
       "0      8551.48        1998.39           779.95                  334  \n",
       "1      5297.24        1214.09           203.76                 2801  \n",
       "2       725.69         222.76           146.42                  184  \n",
       "3     20537.76        2537.76         16533.65                  395  \n",
       "4      9971.35         971.35          5638.39                 1461  \n",
       "\n",
       "[5 rows x 22 columns]"
      ]
     },
     "execution_count": 5,
     "metadata": {},
     "output_type": "execute_result"
    }
   ],
   "source": [
    "df.head()"
   ]
  },
  {
   "cell_type": "code",
   "execution_count": 6,
   "metadata": {},
   "outputs": [
    {
     "data": {
      "text/html": [
       "<div>\n",
       "<style scoped>\n",
       "    .dataframe tbody tr th:only-of-type {\n",
       "        vertical-align: middle;\n",
       "    }\n",
       "\n",
       "    .dataframe tbody tr th {\n",
       "        vertical-align: top;\n",
       "    }\n",
       "\n",
       "    .dataframe thead th {\n",
       "        text-align: right;\n",
       "    }\n",
       "</style>\n",
       "<table border=\"1\" class=\"dataframe\">\n",
       "  <thead>\n",
       "    <tr style=\"text-align: right;\">\n",
       "      <th></th>\n",
       "      <th>loan_amnt</th>\n",
       "      <th>int_rate</th>\n",
       "      <th>installment</th>\n",
       "      <th>annual_inc</th>\n",
       "      <th>dti</th>\n",
       "      <th>inq_last_6mths</th>\n",
       "      <th>open_acc</th>\n",
       "      <th>revol_bal</th>\n",
       "      <th>revol_util</th>\n",
       "      <th>total_acc</th>\n",
       "      <th>out_prncp</th>\n",
       "      <th>total_pymnt</th>\n",
       "      <th>total_rec_int</th>\n",
       "      <th>last_pymnt_amnt</th>\n",
       "      <th>score_days_interval</th>\n",
       "    </tr>\n",
       "  </thead>\n",
       "  <tbody>\n",
       "    <tr>\n",
       "      <th>count</th>\n",
       "      <td>37990.000000</td>\n",
       "      <td>37990.000000</td>\n",
       "      <td>37990.000000</td>\n",
       "      <td>3.799000e+04</td>\n",
       "      <td>37990.000000</td>\n",
       "      <td>37990.000000</td>\n",
       "      <td>37990.000000</td>\n",
       "      <td>3.799000e+04</td>\n",
       "      <td>37990.000000</td>\n",
       "      <td>37990.000000</td>\n",
       "      <td>37990.000000</td>\n",
       "      <td>37990.000000</td>\n",
       "      <td>37990.000000</td>\n",
       "      <td>37990.000000</td>\n",
       "      <td>37990.000000</td>\n",
       "    </tr>\n",
       "    <tr>\n",
       "      <th>mean</th>\n",
       "      <td>14867.621084</td>\n",
       "      <td>13.240481</td>\n",
       "      <td>438.968621</td>\n",
       "      <td>7.675871e+04</td>\n",
       "      <td>17.983542</td>\n",
       "      <td>0.682759</td>\n",
       "      <td>11.651356</td>\n",
       "      <td>1.724459e+04</td>\n",
       "      <td>55.379238</td>\n",
       "      <td>25.320874</td>\n",
       "      <td>8465.513789</td>\n",
       "      <td>7621.383226</td>\n",
       "      <td>1773.272208</td>\n",
       "      <td>2195.665263</td>\n",
       "      <td>475.124217</td>\n",
       "    </tr>\n",
       "    <tr>\n",
       "      <th>std</th>\n",
       "      <td>8430.942535</td>\n",
       "      <td>4.385113</td>\n",
       "      <td>242.733884</td>\n",
       "      <td>7.528222e+04</td>\n",
       "      <td>8.271613</td>\n",
       "      <td>0.986185</td>\n",
       "      <td>5.396928</td>\n",
       "      <td>2.559020e+04</td>\n",
       "      <td>23.783944</td>\n",
       "      <td>11.844768</td>\n",
       "      <td>8558.939895</td>\n",
       "      <td>7866.244029</td>\n",
       "      <td>2106.256513</td>\n",
       "      <td>4834.249816</td>\n",
       "      <td>389.038450</td>\n",
       "    </tr>\n",
       "    <tr>\n",
       "      <th>min</th>\n",
       "      <td>725.000000</td>\n",
       "      <td>5.320000</td>\n",
       "      <td>22.240000</td>\n",
       "      <td>7.200000e+03</td>\n",
       "      <td>0.000000</td>\n",
       "      <td>0.000000</td>\n",
       "      <td>1.000000</td>\n",
       "      <td>0.000000e+00</td>\n",
       "      <td>0.000000</td>\n",
       "      <td>1.000000</td>\n",
       "      <td>0.000000</td>\n",
       "      <td>0.000000</td>\n",
       "      <td>0.000000</td>\n",
       "      <td>0.000000</td>\n",
       "      <td>-61.000000</td>\n",
       "    </tr>\n",
       "    <tr>\n",
       "      <th>25%</th>\n",
       "      <td>8200.000000</td>\n",
       "      <td>9.990000</td>\n",
       "      <td>263.580000</td>\n",
       "      <td>4.700000e+04</td>\n",
       "      <td>11.810000</td>\n",
       "      <td>0.000000</td>\n",
       "      <td>8.000000</td>\n",
       "      <td>6.513000e+03</td>\n",
       "      <td>38.000000</td>\n",
       "      <td>17.000000</td>\n",
       "      <td>0.000000</td>\n",
       "      <td>1968.827046</td>\n",
       "      <td>449.500000</td>\n",
       "      <td>283.560000</td>\n",
       "      <td>184.000000</td>\n",
       "    </tr>\n",
       "    <tr>\n",
       "      <th>50%</th>\n",
       "      <td>13000.000000</td>\n",
       "      <td>12.990000</td>\n",
       "      <td>385.350000</td>\n",
       "      <td>6.500000e+04</td>\n",
       "      <td>17.490000</td>\n",
       "      <td>0.000000</td>\n",
       "      <td>11.000000</td>\n",
       "      <td>1.192100e+04</td>\n",
       "      <td>56.300000</td>\n",
       "      <td>24.000000</td>\n",
       "      <td>6509.560000</td>\n",
       "      <td>5010.530000</td>\n",
       "      <td>1092.120000</td>\n",
       "      <td>466.535000</td>\n",
       "      <td>365.000000</td>\n",
       "    </tr>\n",
       "    <tr>\n",
       "      <th>75%</th>\n",
       "      <td>20000.000000</td>\n",
       "      <td>16.200000</td>\n",
       "      <td>574.195000</td>\n",
       "      <td>9.000000e+04</td>\n",
       "      <td>23.690000</td>\n",
       "      <td>1.000000</td>\n",
       "      <td>14.000000</td>\n",
       "      <td>2.093575e+04</td>\n",
       "      <td>73.900000</td>\n",
       "      <td>32.000000</td>\n",
       "      <td>13789.527500</td>\n",
       "      <td>10693.967500</td>\n",
       "      <td>2257.110000</td>\n",
       "      <td>840.342500</td>\n",
       "      <td>671.000000</td>\n",
       "    </tr>\n",
       "    <tr>\n",
       "      <th>max</th>\n",
       "      <td>35000.000000</td>\n",
       "      <td>28.990000</td>\n",
       "      <td>1407.010000</td>\n",
       "      <td>8.706582e+06</td>\n",
       "      <td>43.680000</td>\n",
       "      <td>20.000000</td>\n",
       "      <td>70.000000</td>\n",
       "      <td>1.746716e+06</td>\n",
       "      <td>155.300000</td>\n",
       "      <td>137.000000</td>\n",
       "      <td>35000.000000</td>\n",
       "      <td>52782.042258</td>\n",
       "      <td>21621.750000</td>\n",
       "      <td>35881.760000</td>\n",
       "      <td>3075.000000</td>\n",
       "    </tr>\n",
       "  </tbody>\n",
       "</table>\n",
       "</div>"
      ],
      "text/plain": [
       "          loan_amnt      int_rate   installment    annual_inc           dti  \\\n",
       "count  37990.000000  37990.000000  37990.000000  3.799000e+04  37990.000000   \n",
       "mean   14867.621084     13.240481    438.968621  7.675871e+04     17.983542   \n",
       "std     8430.942535      4.385113    242.733884  7.528222e+04      8.271613   \n",
       "min      725.000000      5.320000     22.240000  7.200000e+03      0.000000   \n",
       "25%     8200.000000      9.990000    263.580000  4.700000e+04     11.810000   \n",
       "50%    13000.000000     12.990000    385.350000  6.500000e+04     17.490000   \n",
       "75%    20000.000000     16.200000    574.195000  9.000000e+04     23.690000   \n",
       "max    35000.000000     28.990000   1407.010000  8.706582e+06     43.680000   \n",
       "\n",
       "       inq_last_6mths      open_acc     revol_bal    revol_util     total_acc  \\\n",
       "count    37990.000000  37990.000000  3.799000e+04  37990.000000  37990.000000   \n",
       "mean         0.682759     11.651356  1.724459e+04     55.379238     25.320874   \n",
       "std          0.986185      5.396928  2.559020e+04     23.783944     11.844768   \n",
       "min          0.000000      1.000000  0.000000e+00      0.000000      1.000000   \n",
       "25%          0.000000      8.000000  6.513000e+03     38.000000     17.000000   \n",
       "50%          0.000000     11.000000  1.192100e+04     56.300000     24.000000   \n",
       "75%          1.000000     14.000000  2.093575e+04     73.900000     32.000000   \n",
       "max         20.000000     70.000000  1.746716e+06    155.300000    137.000000   \n",
       "\n",
       "          out_prncp   total_pymnt  total_rec_int  last_pymnt_amnt  \\\n",
       "count  37990.000000  37990.000000   37990.000000     37990.000000   \n",
       "mean    8465.513789   7621.383226    1773.272208      2195.665263   \n",
       "std     8558.939895   7866.244029    2106.256513      4834.249816   \n",
       "min        0.000000      0.000000       0.000000         0.000000   \n",
       "25%        0.000000   1968.827046     449.500000       283.560000   \n",
       "50%     6509.560000   5010.530000    1092.120000       466.535000   \n",
       "75%    13789.527500  10693.967500    2257.110000       840.342500   \n",
       "max    35000.000000  52782.042258   21621.750000     35881.760000   \n",
       "\n",
       "       score_days_interval  \n",
       "count         37990.000000  \n",
       "mean            475.124217  \n",
       "std             389.038450  \n",
       "min             -61.000000  \n",
       "25%             184.000000  \n",
       "50%             365.000000  \n",
       "75%             671.000000  \n",
       "max            3075.000000  "
      ]
     },
     "execution_count": 6,
     "metadata": {},
     "output_type": "execute_result"
    }
   ],
   "source": [
    "df = df.dropna(axis=0)\n",
    "df.describe()"
   ]
  },
  {
   "cell_type": "code",
   "execution_count": 7,
   "metadata": {},
   "outputs": [
    {
     "data": {
      "text/plain": [
       "loan_amnt                int64\n",
       "term                    object\n",
       "int_rate               float64\n",
       "installment            float64\n",
       "grade                   object\n",
       "emp_length              object\n",
       "home_ownership          object\n",
       "annual_inc             float64\n",
       "verification_status     object\n",
       "loan_status             object\n",
       "purpose                 object\n",
       "dti                    float64\n",
       "inq_last_6mths           int64\n",
       "open_acc                 int64\n",
       "revol_bal                int64\n",
       "revol_util             float64\n",
       "total_acc                int64\n",
       "out_prncp              float64\n",
       "total_pymnt            float64\n",
       "total_rec_int          float64\n",
       "last_pymnt_amnt        float64\n",
       "score_days_interval      int64\n",
       "dtype: object"
      ]
     },
     "execution_count": 7,
     "metadata": {},
     "output_type": "execute_result"
    }
   ],
   "source": [
    "df.dtypes"
   ]
  },
  {
   "cell_type": "markdown",
   "metadata": {},
   "source": [
    "The 'loan_status' is the response column and it has two levels: \"Good\" and \"Default\". Since it has only two levels it can be directly made into a binary categorical variable."
   ]
  },
  {
   "cell_type": "code",
   "execution_count": 8,
   "metadata": {},
   "outputs": [
    {
     "data": {
      "text/plain": [
       "array(['Good', 'Default'], dtype=object)"
      ]
     },
     "execution_count": 8,
     "metadata": {},
     "output_type": "execute_result"
    }
   ],
   "source": [
    "df['loan_status'].unique()"
   ]
  },
  {
   "cell_type": "code",
   "execution_count": 9,
   "metadata": {},
   "outputs": [],
   "source": [
    "df['loan_status_new']=0\n",
    "df.loc[df['loan_status']=='Default','loan_status_new']=1"
   ]
  },
  {
   "cell_type": "markdown",
   "metadata": {},
   "source": [
    "The response class labels are highly imbalanced. So classification accuracy alone won't give the full picture. Confusion matrix, the ROC curve and area under the ROC curve need to be examined to assess the performance of the implemented neural network algorithm>"
   ]
  },
  {
   "cell_type": "code",
   "execution_count": 10,
   "metadata": {},
   "outputs": [
    {
     "data": {
      "image/png": "[encoded data removed]",
      "text/plain": [
       "<Figure size 504x432 with 1 Axes>"
      ]
     },
     "metadata": {
      "needs_background": "light"
     },
     "output_type": "display_data"
    }
   ],
   "source": [
    "plt.figure(figsize=(7,6))\n",
    "sns.countplot(df['loan_status'])\n",
    "plt.title('Good-0, Default-1')\n",
    "plt.xlabel('Loan Status')\n",
    "plt.show()"
   ]
  },
  {
   "cell_type": "code",
   "execution_count": 11,
   "metadata": {},
   "outputs": [],
   "source": [
    "df = pd.concat([df,pd.get_dummies(df['term'])],axis=1)\n",
    "df = pd.concat([df,pd.get_dummies(df['grade'])],axis=1)\n",
    "df = pd.concat([df,pd.get_dummies(df['emp_length'])],axis=1)\n",
    "df = pd.concat([df,pd.get_dummies(df['home_ownership'])],axis=1)\n",
    "df = pd.concat([df,pd.get_dummies(df['verification_status'])],axis=1)\n",
    "df = pd.concat([df,pd.get_dummies(df['purpose'])],axis=1)"
   ]
  },
  {
   "cell_type": "code",
   "execution_count": 12,
   "metadata": {},
   "outputs": [],
   "source": [
    "df = df.drop(columns=['term','grade','emp_length','home_ownership','verification_status','purpose'],axis=1)\n",
    "df = df.drop(columns=['loan_status'],axis=1)"
   ]
  },
  {
   "cell_type": "markdown",
   "metadata": {},
   "source": [
    "## 4. Prepping the train test sets <a class=\"anchor\" id=\"train_test\"></a>"
   ]
  },
  {
   "cell_type": "code",
   "execution_count": 13,
   "metadata": {},
   "outputs": [],
   "source": [
    "from sklearn.model_selection import train_test_split\n",
    "from sklearn.preprocessing import MinMaxScaler\n",
    "from sklearn.metrics import classification_report"
   ]
  },
  {
   "cell_type": "code",
   "execution_count": 14,
   "metadata": {},
   "outputs": [],
   "source": [
    "X = df.drop(columns=['loan_status_new'],axis=1).values\n",
    "y = df['loan_status_new'].values"
   ]
  },
  {
   "cell_type": "markdown",
   "metadata": {},
   "source": [
    "### Stratified split of the dataset"
   ]
  },
  {
   "cell_type": "code",
   "execution_count": 15,
   "metadata": {},
   "outputs": [],
   "source": [
    "X_train,X_test,y_train,y_test = train_test_split(X, y, test_size=0.33,stratify=y,random_state=42)"
   ]
  },
  {
   "cell_type": "code",
   "execution_count": 16,
   "metadata": {},
   "outputs": [
    {
     "name": "stdout",
     "output_type": "stream",
     "text": [
      "Ratio of classes in Train set =  0.08324466953228071\n",
      "Ratio of classes in Test set =  0.08320373250388803\n"
     ]
    }
   ],
   "source": [
    "y_tr_dist = np.unique(y_train,return_counts=True)\n",
    "y_test_dist = np.unique(y_test,return_counts=True)\n",
    "print(\"Ratio of classes in Train set = \", y_tr_dist[1][1]/y_tr_dist[1][0])\n",
    "print(\"Ratio of classes in Test set = \",y_test_dist[1][1]/y_test_dist[1][0])"
   ]
  },
  {
   "cell_type": "markdown",
   "metadata": {},
   "source": [
    "## 5. Implemented Logistic Regression Model <a class=\"anchor\" id=\"imp_log_reg\"></a>\n",
    "\n",
    "The implemented <a href = https://github.com/apj2n4/Machine-Learning-from-scratch/blob/master/Logistic_regression/Logistic-Regression-implementation-using-gradient-descent-in-numpy.ipynb> Logistic Regression model </a> uses gradient descent and probably is not the most robust algorithm to minimize the cross entropy cost function. Scikit Learn uses L-BFGS algorithm. L-BFGS will be explored in a future study. The performance of the Logistic regression model suffers due to the above criteria and it fails to predict the Loan \"Default\" rates."
   ]
  },
  {
   "cell_type": "code",
   "execution_count": 17,
   "metadata": {},
   "outputs": [],
   "source": [
    "log1 = logregmodel()\n",
    "log1.fit(X_train,y_train,alpha=0.01,epoch=10000)"
   ]
  },
  {
   "cell_type": "code",
   "execution_count": 18,
   "metadata": {},
   "outputs": [
    {
     "data": {
      "text/plain": [
       "Text(0, 0.5, 'Cost')"
      ]
     },
     "execution_count": 18,
     "metadata": {},
     "output_type": "execute_result"
    },
    {
     "data": {
      "image/png": "[encoded data removed]",
      "text/plain": [
       "<Figure size 432x360 with 1 Axes>"
      ]
     },
     "metadata": {
      "needs_background": "light"
     },
     "output_type": "display_data"
    }
   ],
   "source": [
    "plt.figure(figsize=(6,5))\n",
    "plt.plot(log1.cost)\n",
    "plt.title(\"Cost function minimization - Logistic Regression\")\n",
    "plt.xlabel(\"Epochs\")\n",
    "plt.ylabel(\"Cost\")"
   ]
  },
  {
   "cell_type": "code",
   "execution_count": 19,
   "metadata": {},
   "outputs": [],
   "source": [
    "ylog_prob,ylog_class = log1.predict(X_test)"
   ]
  },
  {
   "cell_type": "markdown",
   "metadata": {},
   "source": [
    "### Confusion Matrix and Classification Report\n",
    "\n",
    "The confusion matrix shows the real performance of the implemented logistic regression model and it is clear that the True Negatives (Default rate) is zero."
   ]
  },
  {
   "cell_type": "code",
   "execution_count": 20,
   "metadata": {},
   "outputs": [
    {
     "name": "stdout",
     "output_type": "stream",
     "text": [
      "Confusion Matrix Logistic Regression\n",
      "\n",
      "[[9.99913599e-01 8.64005530e-05]\n",
      " [1.00000000e+00 0.00000000e+00]]\n"
     ]
    }
   ],
   "source": [
    "print(\"Confusion Matrix Logistic Regression\\n\")\n",
    "cf_log = confusion_matrix(y_test,ylog_class,normalize='true')\n",
    "print(cf_log)"
   ]
  },
  {
   "cell_type": "code",
   "execution_count": 21,
   "metadata": {},
   "outputs": [
    {
     "data": {
      "image/png": "[encoded data removed]",
      "text/plain": [
       "<Figure size 504x432 with 2 Axes>"
      ]
     },
     "metadata": {
      "needs_background": "light"
     },
     "output_type": "display_data"
    }
   ],
   "source": [
    "plt.figure(figsize=(7,6))\n",
    "ax = sns.heatmap(cf_log,annot=True,cmap=\"BuPu\")\n",
    "ax.set_title(\"Confusion Matrix Logistic Regression\")\n",
    "ax.set(xlabel = \"Predicted\",ylabel = \"True\")\n",
    "plt.show()"
   ]
  },
  {
   "cell_type": "markdown",
   "metadata": {},
   "source": [
    "Even though the overall accuracy is good (92%) all the other terms for \"Default class\" is zero."
   ]
  },
  {
   "cell_type": "code",
   "execution_count": 22,
   "metadata": {},
   "outputs": [
    {
     "name": "stdout",
     "output_type": "stream",
     "text": [
      "Classification Report Logistic Regression Model\n",
      "\n",
      "              precision    recall  f1-score   support\n",
      "\n",
      "           0       0.92      1.00      0.96     11574\n",
      "           1       0.00      0.00      0.00       963\n",
      "\n",
      "    accuracy                           0.92     12537\n",
      "   macro avg       0.46      0.50      0.48     12537\n",
      "weighted avg       0.85      0.92      0.89     12537\n",
      "\n"
     ]
    }
   ],
   "source": [
    "print('Classification Report Logistic Regression Model\\n')\n",
    "print(classification_report(y_test,ylog_class))"
   ]
  },
  {
   "cell_type": "markdown",
   "metadata": {},
   "source": [
    "## 6. Neural Network with Traditional Gradient Descent <a class=\"anchor\" id=\"trad_NN\"></a>\n",
    "\n",
    "The <a href =https://github.com/apj2n4/Machine-Learning-from-scratch/blob/master/Deep%20Neural%20Network%20Gradient%20Descent/Dense_neural_network_many_layers.ipynb>Feed Forward Neural network implemented using Traditional Gradient Descent </a> was fit to the training dataset."
   ]
  },
  {
   "cell_type": "code",
   "execution_count": 23,
   "metadata": {},
   "outputs": [
    {
     "name": "stdout",
     "output_type": "stream",
     "text": [
      "Structure of the neural network\n",
      "Layer: 1  Node Count: 200  Activation Function: tanh\n",
      "Layer: 2  Node Count: 100  Activation Function: tanh\n",
      "Layer: 3  Node Count: 100  Activation Function: tanh\n",
      "Layer: 4  Node Count: 100  Activation Function: tanh\n",
      "Layer: 5  Node Count: 1  Activation Function: sigmoid\n",
      "Total Number of Trainable params: 51601\n"
     ]
    }
   ],
   "source": [
    "nn1= dense_NN()\n",
    "\n",
    "nn1.input_data(X_train,y_train)\n",
    "\n",
    "# Adding layers using the add_layer function. 2 layers, a tanh and leakyRELU were added.\n",
    "nn1.add_layer(nodes=200,act_fun='tanh')\n",
    "nn1.add_layer(100,act_fun='tanh')\n",
    "nn1.add_layer(100,act_fun='tanh')\n",
    "nn1.add_layer(100,act_fun='tanh')\n",
    "# Addition of the final single node sigmoid layer is mandatory for binary classification task\n",
    "nn1.add_layer(1,act_fun='sigmoid')\n",
    "\n",
    "# This randomly initializes all the weight matrices and assigns zeros to the bias arrays\n",
    "nn1.nn_compile()\n",
    "\n",
    "print(\"Structure of the neural network\")\n",
    "nn1.summary()"
   ]
  },
  {
   "cell_type": "code",
   "execution_count": 24,
   "metadata": {
    "scrolled": true
   },
   "outputs": [],
   "source": [
    "nn1.fit(alpha=0.6,epochs=4000,verbose=False)"
   ]
  },
  {
   "cell_type": "markdown",
   "metadata": {},
   "source": [
    "Making predictions on the test set."
   ]
  },
  {
   "cell_type": "code",
   "execution_count": 25,
   "metadata": {},
   "outputs": [],
   "source": [
    "ynn1_prob,ynn1_class = nn1.predict(X_test)"
   ]
  },
  {
   "cell_type": "markdown",
   "metadata": {},
   "source": [
    "Convergence of the cost function."
   ]
  },
  {
   "cell_type": "code",
   "execution_count": 26,
   "metadata": {},
   "outputs": [
    {
     "data": {
      "image/png": "[encoded data removed]",
      "text/plain": [
       "<Figure size 432x360 with 1 Axes>"
      ]
     },
     "metadata": {
      "needs_background": "light"
     },
     "output_type": "display_data"
    }
   ],
   "source": [
    "plt.figure(figsize=(6,5))\n",
    "plt.plot(nn1.cost_list)\n",
    "plt.title(\"Cost function minimization - NN Gradient Descent\")\n",
    "plt.xlabel(\"Epochs\")\n",
    "plt.ylabel(\"Cost\")\n",
    "plt.show()"
   ]
  },
  {
   "cell_type": "code",
   "execution_count": 27,
   "metadata": {},
   "outputs": [
    {
     "name": "stdout",
     "output_type": "stream",
     "text": [
      "Confusion Matrix NN with traditional GD\n",
      "\n",
      "[[0.99896319 0.00103681]\n",
      " [0.38421599 0.61578401]]\n"
     ]
    }
   ],
   "source": [
    "print(\"Confusion Matrix NN with traditional GD\\n\")\n",
    "cf_nn1 = confusion_matrix(y_test,ynn1_class,normalize='true')\n",
    "print(cf_nn1)"
   ]
  },
  {
   "cell_type": "code",
   "execution_count": 28,
   "metadata": {},
   "outputs": [
    {
     "name": "stdout",
     "output_type": "stream",
     "text": [
      "Classification Report \n",
      "\n",
      "              precision    recall  f1-score   support\n",
      "\n",
      "           0       0.97      1.00      0.98     11574\n",
      "           1       0.98      0.62      0.76       963\n",
      "\n",
      "    accuracy                           0.97     12537\n",
      "   macro avg       0.97      0.81      0.87     12537\n",
      "weighted avg       0.97      0.97      0.97     12537\n",
      "\n"
     ]
    }
   ],
   "source": [
    "print('Classification Report \\n')\n",
    "print(classification_report(y_test,ynn1_class))"
   ]
  },
  {
   "cell_type": "code",
   "execution_count": 29,
   "metadata": {},
   "outputs": [
    {
     "data": {
      "image/png": "[encoded data removed]",
      "text/plain": [
       "<Figure size 504x432 with 2 Axes>"
      ]
     },
     "metadata": {
      "needs_background": "light"
     },
     "output_type": "display_data"
    }
   ],
   "source": [
    "plt.figure(figsize=(7,6))\n",
    "ax = sns.heatmap(cf_nn1,annot=True,cmap=\"BuPu\")\n",
    "ax.set_title(\"Confusion Matrix NN Gradient Descent\")\n",
    "ax.set(xlabel = \"Predicted\",ylabel = \"True\")\n",
    "plt.show()"
   ]
  },
  {
   "cell_type": "markdown",
   "metadata": {},
   "source": [
    "## 7. Training the Neural Network with mini batch Stochastic Gradient Descent <a class=\"anchor\" id=\"SGD_NN\"></a>"
   ]
  },
  {
   "cell_type": "code",
   "execution_count": 30,
   "metadata": {},
   "outputs": [
    {
     "name": "stdout",
     "output_type": "stream",
     "text": [
      "Layer: 1  Node Count: 200  Activation Function: tanh\n",
      "Layer: 2  Node Count: 150  Activation Function: tanh\n",
      "Layer: 3  Node Count: 100  Activation Function: tanh\n",
      "Layer: 4  Node Count: 100  Activation Function: tanh\n",
      "Layer: 5  Node Count: 1  Activation Function: sigmoid\n",
      "Total Number of Trainable params: 66651\n"
     ]
    }
   ],
   "source": [
    "nn3= dense_NN_sgd()\n",
    "nn3.input_data(X_train,y_train)\n",
    "\n",
    "# Adding layers using the add_layer function. 2 layers, a tanh and leakyRELU were added.\n",
    "nn3.add_layer(nodes=200,act_fun='tanh')\n",
    "nn3.add_layer(nodes=150,act_fun='tanh')\n",
    "nn3.add_layer(nodes=100,act_fun='tanh')\n",
    "nn3.add_layer(nodes=100,act_fun='tanh')\n",
    "\n",
    "# Addition of the final single node sigmoid layer is mandatory for binary classification task\n",
    "nn3.add_layer(1,act_fun='sigmoid')\n",
    "\n",
    "# This randomly initializes all the weight matrices and assigns zeros to the bias arrays\n",
    "nn3.nn_compile()\n",
    "nn3.summary()"
   ]
  },
  {
   "cell_type": "code",
   "execution_count": 49,
   "metadata": {
    "scrolled": true
   },
   "outputs": [],
   "source": [
    "nn3.fit(alpha=0.8,epochs=500,batch_size=30,call_back=2000,verbose=False)"
   ]
  },
  {
   "cell_type": "code",
   "execution_count": 50,
   "metadata": {},
   "outputs": [],
   "source": [
    "y_prob_nn3,y_class_nn3 = nn3.predict(X_test)"
   ]
  },
  {
   "cell_type": "code",
   "execution_count": 56,
   "metadata": {},
   "outputs": [
    {
     "data": {
      "image/png": "[encoded data removed]",
      "text/plain": [
       "<Figure size 432x360 with 1 Axes>"
      ]
     },
     "metadata": {
      "needs_background": "light"
     },
     "output_type": "display_data"
    }
   ],
   "source": [
    "plt.figure(figsize=(6,5))\n",
    "plt.plot(nn3.cost_list)\n",
    "plt.title(\"Cost function minimization - NN Stochastic Gradient Descent\")\n",
    "plt.xlabel(\"Epochs\")\n",
    "plt.ylabel(\"Cost\")\n",
    "plt.show()"
   ]
  },
  {
   "cell_type": "code",
   "execution_count": 57,
   "metadata": {},
   "outputs": [
    {
     "name": "stdout",
     "output_type": "stream",
     "text": [
      "Confusion Matrix NN Stochastic Gradient Descent with mini batch \n",
      "\n",
      "[[9.99135994e-01 8.64005530e-04]\n",
      " [3.67601246e-01 6.32398754e-01]]\n"
     ]
    }
   ],
   "source": [
    "print(\"Confusion Matrix NN Stochastic Gradient Descent with mini batch \\n\")\n",
    "cf_nn3 = confusion_matrix(y_test,y_class_nn3,normalize=\"true\")\n",
    "print(cf_nn3)"
   ]
  },
  {
   "cell_type": "code",
   "execution_count": 58,
   "metadata": {},
   "outputs": [
    {
     "data": {
      "text/plain": [
       "[Text(42.0, 0.5, 'True'), Text(0.5, 33.0, 'Predicted')]"
      ]
     },
     "execution_count": 58,
     "metadata": {},
     "output_type": "execute_result"
    },
    {
     "data": {
      "image/png": "[encoded data removed]",
      "text/plain": [
       "<Figure size 504x432 with 2 Axes>"
      ]
     },
     "metadata": {
      "needs_background": "light"
     },
     "output_type": "display_data"
    }
   ],
   "source": [
    "plt.figure(figsize=(7,6))\n",
    "ax = sns.heatmap(cf_nn3,annot=True,cmap=\"BuPu\")\n",
    "ax.set_title(\"Confusion Matrix SGD Mini Batch\")\n",
    "ax.set(xlabel = \"Predicted\",ylabel = \"True\")"
   ]
  },
  {
   "cell_type": "code",
   "execution_count": 59,
   "metadata": {},
   "outputs": [
    {
     "name": "stdout",
     "output_type": "stream",
     "text": [
      "Classification Report \n",
      "\n",
      "              precision    recall  f1-score   support\n",
      "\n",
      "           0       0.97      1.00      0.98     11574\n",
      "           1       0.98      0.63      0.77       963\n",
      "\n",
      "    accuracy                           0.97     12537\n",
      "   macro avg       0.98      0.82      0.88     12537\n",
      "weighted avg       0.97      0.97      0.97     12537\n",
      "\n"
     ]
    }
   ],
   "source": [
    "print('Classification Report \\n')\n",
    "print(classification_report(y_test,y_class_nn3))"
   ]
  },
  {
   "cell_type": "markdown",
   "metadata": {},
   "source": [
    "## 8. Comparison of Convergence -  Gradient Descent vs. Stochastic Gradient Descent <a class=\"anchor\" id=\"comparison\"></a>\n",
    "\n",
    "The traditional gradient descent and stochastic gradient descent models seem to produce similar models. The only main difference is the faster convergence of the cost function in SGD. The plot below clearly shows that the traditional GD algorithm gets caught in a local minima and spends a lot of time there before finding another minima (possibly the global minimum). The SGD method get's to the same final minima within the first 500 iterations (epochs)"
   ]
  },
  {
   "cell_type": "code",
   "execution_count": 73,
   "metadata": {},
   "outputs": [
    {
     "data": {
      "image/png": "[encoded data removed]",
      "text/plain": [
       "<Figure size 576x432 with 1 Axes>"
      ]
     },
     "metadata": {
      "needs_background": "light"
     },
     "output_type": "display_data"
    }
   ],
   "source": [
    "plt.figure(figsize=(8,6))\n",
    "plt.plot(nn1.cost_list,label = \"Gradient Descent\")\n",
    "plt.plot(nn3.cost_list,label = \"Stochastic Gradient Descent - Mini Batch\")\n",
    "plt.legend()\n",
    "\n",
    "plt.title(\"Cost Function Minimization - Faster Convergence with SGD\")\n",
    "plt.xlabel(\"Epoch\")\n",
    "plt.ylabel(\"Cost\")\n",
    "plt.yscale('log')\n",
    "plt.show()"
   ]
  },
  {
   "cell_type": "markdown",
   "metadata": {},
   "source": [
    "## 9. Scikit Learn's Logistic Regression Classifier  <a class=\"anchor\" id=\"sklearn_logreg\"></a>\n",
    "\n",
    "The LogisticRegression function in Scikit-Learn linear_model module uses Limited BFGS opitmization algorithm which is much more efficient compared to gradient descent in minimizing the cost function. As shown below the performance of the logistic classifier is on par with the implemented neural networks."
   ]
  },
  {
   "cell_type": "code",
   "execution_count": 66,
   "metadata": {},
   "outputs": [
    {
     "name": "stdout",
     "output_type": "stream",
     "text": [
      "Confusion Matrix Logistic Regression scikit learn\n",
      "\n",
      "[[9.99135994e-01 8.64005530e-04]\n",
      " [3.73831776e-01 6.26168224e-01]]\n"
     ]
    }
   ],
   "source": [
    "from sklearn.linear_model import LogisticRegression\n",
    "log_sklearn = LogisticRegression(max_iter=2000)\n",
    "log_sklearn.fit(X_train,y_train)\n",
    "ylogsk_class = log_sklearn.predict(X_test)\n",
    "ylog_sk_prob = log_sklearn.predict_proba(X_test)\n",
    "print(\"Confusion Matrix Logistic Regression scikit learn\\n\")\n",
    "cf_logsk = confusion_matrix(y_test,ylogsk_class,normalize='true')\n",
    "print(cf_logsk)"
   ]
  },
  {
   "cell_type": "code",
   "execution_count": 67,
   "metadata": {},
   "outputs": [
    {
     "data": {
      "text/plain": [
       "[Text(42.0, 0.5, 'True'), Text(0.5, 33.0, 'Predicted')]"
      ]
     },
     "execution_count": 67,
     "metadata": {},
     "output_type": "execute_result"
    },
    {
     "data": {
      "image/png": "[encoded data removed]",
      "text/plain": [
       "<Figure size 504x432 with 2 Axes>"
      ]
     },
     "metadata": {
      "needs_background": "light"
     },
     "output_type": "display_data"
    }
   ],
   "source": [
    "plt.figure(figsize=(7,6))\n",
    "ax = sns.heatmap(cf_logsk,annot=True,cmap=\"BuPu\")\n",
    "ax.set_title(\"Confusion Matrix SGD Mini Batch\")\n",
    "ax.set(xlabel = \"Predicted\",ylabel = \"True\")"
   ]
  },
  {
   "cell_type": "markdown",
   "metadata": {},
   "source": [
    "## 10. The ROC metric <a class=\"anchor\" id=\"roc\"></a>\n",
    "The <a href=\"https://en.wikipedia.org/wiki/Receiver_operating_characteristic#:~:text=A%20receiver%20operating%20characteristic%20curve,its%20discrimination%20threshold%20is%20varied.\"> Receiver Operator Curve (ROC) </a> and Area under ROC are another set of metrics used for assessing a binary classifier. It plots the _True Positive Rate - Sensitivity_ $\\frac {TP}{TP+FN}$ versus the _False Positive Rate -Specificity_ $\\frac {FP}{FP + TN} $ by varying the threshold probability. All the algorithms implemented output the actual predicted probabilities in addition to the class labels which are based on a threshold probability of 0.5. Scikit Learn _metrics_ module has _roc_curve_ and _roc_auc_score_ functions for plotting the ROC and calculating the area under it."
   ]
  },
  {
   "cell_type": "code",
   "execution_count": 68,
   "metadata": {},
   "outputs": [],
   "source": [
    "from sklearn.metrics import roc_curve,roc_auc_score"
   ]
  },
  {
   "cell_type": "code",
   "execution_count": 69,
   "metadata": {},
   "outputs": [],
   "source": [
    "#print(roc_auc_score(y_test,ylog_prob))\n",
    "fpr_log,tpr_log,_= roc_curve(y_test,ylog_prob)\n",
    "fpr_nn1,tpr_nn1,_ = roc_curve(y_test,ynn1_prob)\n",
    "fpr_nn3, tpr_nn3, _ = roc_curve(y_test,y_prob_nn3)\n",
    "fpr_logsk,tpr_logsk,_ = roc_curve(y_test,ylog_sk_prob[:,1])"
   ]
  },
  {
   "cell_type": "markdown",
   "metadata": {},
   "source": [
    "The ROC curve and the AUC calculations are shown below. As indicated previously, the implemented SGD Neural Network performs the best among all the models with Scikit Learn's Logistic Regression model trailing behind. The implemented Logistic Regression model needs to be improved with the Limited BFGS optimization algorithm."
   ]
  },
  {
   "cell_type": "code",
   "execution_count": 72,
   "metadata": {},
   "outputs": [
    {
     "data": {
      "image/png": "[encoded data removed]",
      "text/plain": [
       "<Figure size 648x432 with 1 Axes>"
      ]
     },
     "metadata": {
      "needs_background": "light"
     },
     "output_type": "display_data"
    }
   ],
   "source": [
    "plt.figure(figsize=(9,6))\n",
    "plt.plot([0, 1], [0, 1], 'k--')\n",
    "plt.plot(fpr_log,tpr_log,label=\"Logistic, AUC = \"+str(round(roc_auc_score(y_test,ylog_prob),3)))\n",
    "plt.plot(fpr_nn1,tpr_nn1,label=\"NN GD, AUC = \"+str(round(roc_auc_score(y_test,ynn1_prob),3)))\n",
    "plt.plot(fpr_nn3,tpr_nn3,label = \"NN SGD, AUC = \"+str(round(roc_auc_score(y_test,y_prob_nn3),3)))\n",
    "plt.plot(fpr_logsk,tpr_logsk,label =\"Scikit Learn Log Reg AUC = \"+str(round(roc_auc_score(y_test,ylog_sk_prob[:,1]),3)))\n",
    "plt.xlabel('False positive rate - Specificity')\n",
    "plt.ylabel('True positive rate - Sensitivity')\n",
    "plt.title('ROC curve')\n",
    "plt.legend(loc='best')\n",
    "plt.show()"
   ]
  },
  {
   "cell_type": "code",
   "execution_count": null,
   "metadata": {},
   "outputs": [],
   "source": []
  }
 ],
 "metadata": {
  "kernelspec": {
   "display_name": "Python 3",
   "language": "python",
   "name": "python3"
  },
  "language_info": {
   "codemirror_mode": {
    "name": "ipython",
    "version": 3
   },
   "file_extension": ".py",
   "mimetype": "text/x-python",
   "name": "python",
   "nbconvert_exporter": "python",
   "pygments_lexer": "ipython3",
   "version": "3.7.5"
  }
 },
 "nbformat": 4,
 "nbformat_minor": 2
}
