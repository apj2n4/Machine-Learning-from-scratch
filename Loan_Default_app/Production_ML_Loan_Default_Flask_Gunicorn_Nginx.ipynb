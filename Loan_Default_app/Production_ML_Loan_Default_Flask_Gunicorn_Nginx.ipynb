{
 "cells": [
  {
   "cell_type": "markdown",
   "metadata": {},
   "source": [
    "# Deploying Machine Learning Models on AWS EC2 - RESTful API using *Flask, Gunicorn and nginx* \n",
    "\n",
    "## Table of Contents\n",
    "* [1. Introduction](#Deep_neural)\n",
    "\n",
    "* [2. Saving a trained model - Python Pickling](#Implementation)\n",
    "\n",
    "* [3. Data Preparation,Training, Predictions, Pickling and Loading](#Loan_default)\n",
    "\n",
    "* [4. Creating a Flask web service - RESTful API and running it locally](#Flask)    \n",
    "    \n",
    "* [5. Creating a Flask Web service on Amazon EC2 using *gunicorn* and *nginx*](#amazon)\n",
    "\n",
    "* [6. Gunicorn as Service](#gunicorn)\n",
    "    \n",
    "\n",
    "\n",
    "## 1. Introduction <a class=\"anchor\" id=\"Deep_neural\"></a>\n",
    "\n",
    "Machine Learning models don't exist in a vacuum. Time and money is spent on collecting data, storing it and fitting ML models to solve business problems. ML models provide value when they make predicitons about future scenarios and help make business decisions (whether it is Marketing Analytics, customer churn predictions, image recognition, IoT applications like Remaining Useful Life etc). So trained models need to be available either through the creation of web applications to be used by certain groups within the company or completely integrated into other business applications like dashboards for making decisions. One of the most common way of deploying ML models is by using an endpoint (web application/API). In this notebook I created a RESTful API using Python Flask framework embedding the Deep Learning model I trained in <a href=\"https://github.com/apj2n4/Machine-Learning-from-scratch/blob/master/Neural%20Network%20SGD/Loan_Default_Binary_Classification.ipynb\">the previous study </a> and productionized it on <a href=\"https://aws.amazon.com/ec2/?nc2=h_ql_prod_fs_ec2\">Amazon Web Service EC2 instance</a> (The deep neural network using Stochastic gradient descent algorithm trained on <a href=\"https://www.kaggle.com/wordsforthewise/lending-club\">the Lending Club Loan Default Dataset</a> to be more precise). This is my first attempt at productionizing a ML model, so I might not be following industry best practices like scalability for dealing with many concurrent users. I will try to explore this more in future notebooks. Disclaimer, this is just one of the many ways to productionize a ML model. <a href=\"https://aws.amazon.com/sagemaker/\"> AWS SageMaker</a> has machine learning deployment capabilities which is really streamlined, <a href=\"https://aws.amazon.com/lambda/\">AWS Lambda</a> provides serverless execution which might be more appropriate for certain applications. <a href =\"https://aws.amazon.com/elasticbeanstalk/\">AWS Beanstalk </a> is probably the best service for web applications and APIs when scaling is very important."
   ]
  },
  {
   "cell_type": "code",
   "execution_count": 1,
   "metadata": {},
   "outputs": [],
   "source": [
    "import numpy as np\n",
    "import pandas as pd\n",
    "import seaborn as sns\n",
    "import matplotlib.pyplot as plt\n",
    "import warnings\n",
    "from IPython.display import Image\n",
    "from sklearn.metrics import confusion_matrix, plot_confusion_matrix\n",
    "%matplotlib inline\n",
    "warnings.filterwarnings('ignore')"
   ]
  },
  {
   "cell_type": "markdown",
   "metadata": {},
   "source": [
    "## 2. Saving a trained model - Python Pickling <a class=\"anchor\" id=\"Implementation\"></a>\n",
    "Here is a excerpt about Pickle from <a href=\"https://docs.python.org/3/library/pickle.html\">Python.org</a> *“Pickling” is the process whereby a Python object hierarchy is converted into a byte stream, and “unpickling” is the inverse operation, whereby a byte stream (from a binary file or bytes-like object) is converted back into an object hierarchy. Pickling (and unpickling) is alternatively known as “serialization”, “marshalling,” 1 or “flattening”; however, to avoid confusion, the terms used here are “pickling” and “unpickling”.*\n",
    "\n",
    "The python class implemented in the previous study needs to be update to include a way to save the weights and bias matrices and the scaling parameters which are a result of training process. Mechanism to read in the weights, biases and scaling parameters also needs to be part of the class so that predictions based on saved models can be made. Pickling and unpickling as described above is implemented as a part of the class through 2 different functions *save_model* and *load_model*. The entire implementation is shown below."
   ]
  },
  {
   "cell_type": "code",
   "execution_count": 2,
   "metadata": {},
   "outputs": [],
   "source": [
    "import pickle\n",
    "class dense_NN_sgd():\n",
    "    def __init__(self,seed=10):        \n",
    "        self.nn_struct={}\n",
    "        self.index = int(0)\n",
    "        self.W = {}\n",
    "        self.b = {}\n",
    "        self.Z = {}\n",
    "        self.A = {}\n",
    "        self.dA = {}\n",
    "        self.dZ = {}\n",
    "        self.dW = {}\n",
    "        self.dB = {}\n",
    "        #self.cost = []\n",
    "        self.cost_list=np.array([])\n",
    "        self.random = np.random.RandomState(seed)\n",
    "    \n",
    "    ###################Scaler###################\n",
    "    def scaler_fit(self,X):\n",
    "        self.X_max = X.max(0)\n",
    "        self.X_min = X.min(0)\n",
    "            \n",
    "    def scaler_transform(self,X):\n",
    "        return (X-self.X_min)/(self.X_max-self.X_min)\n",
    "    \n",
    "    ############################################\n",
    "    \n",
    "    #################Activation functions & derivatives###################\n",
    "    ############Activation Functions############\n",
    "    def sigmoid(self,x):\n",
    "        return 1/(1+np.exp(-x))\n",
    "    \n",
    "    def RELU(self,x):\n",
    "        return np.maximum(0,x)\n",
    "    \n",
    "    def tanh(self,x):\n",
    "        return np.tanh(x)\n",
    "    \n",
    "    def leakyRELU(self,x):\n",
    "        return np.maximum(0.01*x,x)\n",
    "    \n",
    "    #############Derivatives#####################\n",
    "    def dsigmoid(self,X):\n",
    "        return self.sigmoid(X)*(1-self.sigmoid(X))\n",
    "    \n",
    "    def dRELU(self,x):\n",
    "        return np.where(x>=0.0,1,0)   \n",
    "    \n",
    "    def dtanh(self,X):\n",
    "        return (1-np.square(np.tanh(X)))\n",
    "    \n",
    "    def dleakyRELU(self,x):\n",
    "        return np.where(x>=0,0.01,1.0)\n",
    "    \n",
    "    ##############################################\n",
    "    \n",
    "    def g(self,X,fun=\"RELU\"):\n",
    "        if fun==\"RELU\":\n",
    "            return self.RELU(X)\n",
    "        if fun==\"tanh\":\n",
    "            return self.tanh(X)\n",
    "        if fun=='sigmoid':\n",
    "            return self.sigmoid(X)\n",
    "        if fun=='leakyRELU':\n",
    "            return self.leakyRELU(X)\n",
    "    \n",
    "    def g_prime(self,X,fun=\"RELU\"):\n",
    "        if fun==\"RELU\":\n",
    "            return self.dRELU(X)\n",
    "        if fun==\"tanh\":\n",
    "            return self.dtanh(X)\n",
    "        if fun=='sigmoid':\n",
    "            return self.dsigmoid(X)\n",
    "        if fun=='leakyRELU':\n",
    "            return self.dleakyRELU(X)\n",
    "    ####################################################################################\n",
    "    \n",
    "    ################################Cost Function########################################\n",
    "    def cost(self,y_true,y_pred):\n",
    "        m = y_true.shape[1]\n",
    "        return -np.sum(np.multiply(y_true,np.log(y_pred))+np.multiply((1-y_true),np.log(1-y_pred)))/m\n",
    "    \n",
    "    #####################################################################################\n",
    "           \n",
    "    def input_data(self,X,y):\n",
    "        self.scaler_fit(X)\n",
    "        X_scaled = self.scaler_transform(X)\n",
    "        self.X = X_scaled\n",
    "        self.y = y.reshape((1,-1))\n",
    "        self.m = X_scaled.T.shape[1]\n",
    "        self.n0 = X_scaled.shape[1]\n",
    "        \n",
    "\n",
    "    def add_layer(self,nodes=5,act_fun='RELU'):\n",
    "        self.index += 1\n",
    "        add_lay = {self.index:[nodes,act_fun]}\n",
    "        self.nn_struct.update(add_lay)\n",
    "        \n",
    "    def summary(self):\n",
    "        n_param = 0\n",
    "        L = max(sorted(self.nn_struct))\n",
    "        for i in range(1,L+1):\n",
    "            nodes = self.nn_struct[i][0]\n",
    "            act_fun = self.nn_struct[i][1]\n",
    "            print(\"Layer:\",i,\" Node Count:\",nodes,\" Activation Function:\",act_fun)\n",
    "            if i==1:\n",
    "                n_param += self.n0*nodes + nodes\n",
    "            else:\n",
    "                n_param += self.nn_struct[i-1][0]*nodes + nodes\n",
    "        print(\"Total Number of Trainable params:\",n_param)\n",
    "        \n",
    "    \n",
    "    ######################## Randomize the weight arrays#######################\n",
    "    def nn_compile(self):\n",
    "        self.L = max(sorted(self.nn_struct))\n",
    "        for key,value in sorted(self.nn_struct.items()):\n",
    "            if(key==1):\n",
    "                W = 0.02*self.random.rand(value[0],self.n0)\n",
    "                b = np.zeros((value[0],1))\n",
    "                self.W.update({key:W})\n",
    "                self.b.update({key:b})\n",
    "            else:\n",
    "                W = 0.02*self.random.rand(value[0],self.nn_struct[key-1][0])\n",
    "                b = np.zeros((value[0],1))\n",
    "                self.W.update({key:W})\n",
    "                self.b.update({key:b})\n",
    "    ###########################################################################\n",
    "    \n",
    "    def forward_prop(self,verbose=False):\n",
    "        L = max(sorted(self.nn_struct))\n",
    "        ##############Forward Propagation###############\n",
    "        for key,value in sorted(self.nn_struct.items()):\n",
    "            if(key==1):\n",
    "                Z = np.dot(self.W[key],self.X_batch.T)+self.b[key]\n",
    "                A = self.g(Z,fun=value[1])\n",
    "            else:\n",
    "                Z = np.dot(self.W[key],self.A[key-1])+self.b[key]\n",
    "                A = self.g(Z,fun=value[1])\n",
    "            self.Z.update({key:Z})\n",
    "            self.A.update({key:A})\n",
    "        ################################################\n",
    "        \n",
    "    \n",
    "    def back_prop(self):\n",
    "        ############### Total Number of Layers based on Input###########\n",
    "        L = max(sorted(self.nn_struct))\n",
    "        ###############Back Propagation #################\n",
    "        dAL = - (np.divide(self.y_batch, self.A[L]) - np.divide(1 - self.y_batch, 1 - self.A[L]))\n",
    "        dZ = dAL*self.g_prime(self.Z[L],fun=self.nn_struct[L][1])\n",
    "        dW = np.dot(dZ,self.A[L-1].T)/self.m\n",
    "        dB = np.sum(dZ,axis=1,keepdims=True)/self.m\n",
    "        dAL_1 =  np.dot(self.W[L].T,dZ)\n",
    "        \n",
    "        self.dA.update({L:dAL})\n",
    "        self.dZ.update({L:dZ})\n",
    "        self.dW.update({L:dW})\n",
    "        self.dB.update({L:dB})\n",
    "        self.dA.update({L-1:dAL_1})\n",
    "        \n",
    "        \n",
    "        for i in range(L-1,0,-1):\n",
    "            dZ = self.dA[i]*self.g_prime(self.Z[i],fun=self.nn_struct[i][1])\n",
    "            dW = np.dot(dZ,self.A[i-1].T)/self.m\n",
    "            dB = np.sum(dZ,axis=1,keepdims=True)/self.m                    \n",
    "            dAL_1 = np.dot(self.W[i].T,dZ)\n",
    "            if(i!=1):\n",
    "                self.dA.update({i-1:dAL_1})\n",
    "            self.dZ.update({i:dZ})\n",
    "            self.dW.update({i:dW})\n",
    "            self.dB.update({i:dB})\n",
    "         \n",
    "        for i in range(1,L+1,1):\n",
    "            self.W[i]=self.W[i]-self.alpha*self.dW[i]\n",
    "            self.b[i]=self.b[i]-self.alpha*self.dB[i]\n",
    "    \n",
    "    def fit(self,alpha=0.01,epochs=100,batch_size = 10,call_back = 10,verbose=False):\n",
    "        self.alpha = alpha\n",
    "        indices = np.arange(self.X.shape[0])\n",
    "        cb = 0\n",
    "        for i in range(1,epochs):\n",
    "            self.random.shuffle(indices)            \n",
    "            for start_idx in range(0,self.m-batch_size+1,batch_size):\n",
    "                batch_idx = indices[start_idx:start_idx+batch_size]\n",
    "                self.X_batch = self.X[batch_idx]\n",
    "                #### Asssing A0 to X_batch, the zeroth layer##\n",
    "                self.A.update({0:self.X_batch.T})\n",
    "                self.y_batch = self.y[:,batch_idx]\n",
    "                self.forward_prop(verbose)                \n",
    "                self.back_prop()\n",
    "            cost = self.cost(self.y,self.forward_predict(self.X))\n",
    "            self.cost_list = np.append(self.cost_list,cost)\n",
    "            #i=len(self.cost_list)\n",
    "            if verbose:\n",
    "                print(\"Epoch: \",i,\"Binary Cross Entropy Cost: \",cost)\n",
    "            if np.isnan(self.cost_list[i-1]):\n",
    "                break\n",
    "            if i>1:                \n",
    "                if (self.cost_list[i-2]-self.cost_list[i-1])<0:\n",
    "                    cb +=1\n",
    "                if cb > call_back:\n",
    "                    break\n",
    "    \n",
    "    def forward_predict(self,X_new):\n",
    "        L = max(sorted(self.nn_struct))\n",
    "        X_scaled = X_new\n",
    "        m = X_new.shape[0]\n",
    "        A_dict = {}\n",
    "        Z_dict = {}\n",
    "        for key,value in sorted(self.nn_struct.items()):\n",
    "            if(key==1):\n",
    "                Z = np.dot(self.W[key], X_scaled.T)+self.b[key]\n",
    "                A = self.g(Z,fun=value[1])\n",
    "            else:\n",
    "                Z = np.dot(self.W[key],A_dict[key-1])+self.b[key]\n",
    "                A = self.g(Z,fun=value[1])\n",
    "            Z_dict.update({key:Z})\n",
    "            A_dict.update({key:A})\n",
    "        y_pred = A_dict[L]               \n",
    "        return y_pred\n",
    "    \n",
    "    def predict(self,X_new):\n",
    "        L = max(sorted(self.nn_struct))\n",
    "        X_scaled = self.scaler_transform(X_new)\n",
    "        m = X_new.shape[0]\n",
    "        A_dict = {}\n",
    "        Z_dict = {}\n",
    "        for key,value in sorted(self.nn_struct.items()):\n",
    "            if(key==1):\n",
    "                Z = np.dot(self.W[key], X_scaled.T)+self.b[key]\n",
    "                A = self.g(Z,fun=value[1])\n",
    "            else:\n",
    "                Z = np.dot(self.W[key],A_dict[key-1])+self.b[key]\n",
    "                A = self.g(Z,fun=value[1])\n",
    "            Z_dict.update({key:Z})\n",
    "            A_dict.update({key:A})\n",
    "        y_pred = A_dict[L].reshape(-1)\n",
    "        y_class = np.zeros(m)\n",
    "        y_class[y_pred>0.5]=1\n",
    "        \n",
    "        return y_pred,y_class\n",
    "    \n",
    "    def save_model(self,name=\"dnn_SGD\"):\n",
    "        model = [self.nn_struct,self.X_min,self.X_max,self.W,self.b]\n",
    "        with open(name+'.pkl','wb') as filehandle:\n",
    "            pickle.dump(model, filehandle)\n",
    "            \n",
    "    def load_model(self,name):\n",
    "        try:\n",
    "            with open(name, 'rb') as filehandle:\n",
    "            # read the data as binary data stream\n",
    "                model = pickle.load(filehandle)\n",
    "                self.nn_struct = model[0]\n",
    "                self.X_min = model[1]\n",
    "                self.X_max = model[2]\n",
    "                self.W = model[3]\n",
    "                self.b = model[4]\n",
    "        except:\n",
    "            print(\"Error - Valid saved model was not found\")"
   ]
  },
  {
   "cell_type": "markdown",
   "metadata": {},
   "source": [
    "## 3. Data Preparation,Training, Predictions, Pickling and Loading <a class=\"anchor\" id=\"Loan_default\"></a>"
   ]
  },
  {
   "cell_type": "markdown",
   "metadata": {},
   "source": [
    "The details of the data preparation and EDA were described in <a href = https://github.com/apj2n4/Machine-Learning-from-scratch/blob/master/Neural%20Network%20SGD/Loan_Default_Binary_Classification.ipynb>a previous notebook</a> and <a href=\"https://arunj2014.netlify.app/blog/loan_default_notebook_prt1/\">a blogpost</a>. The main goal here is to test out whether the newly implemented functions perform the pickling of the trained parameters and are able to load them back to make predictions for a new input. "
   ]
  },
  {
   "cell_type": "code",
   "execution_count": 3,
   "metadata": {},
   "outputs": [],
   "source": [
    "def reduce_Loan_dataset(df):\n",
    "    df = df.dropna(axis=0)\n",
    "    df['loan_status_new']=0\n",
    "    df.loc[df['loan_status']=='Default','loan_status_new']=1\n",
    "    df = df.drop(columns=['loan_status'],axis=1)\n",
    "    df = pd.concat([df,pd.get_dummies(df['term'])],axis=1)\n",
    "    df = pd.concat([df,pd.get_dummies(df['grade'])],axis=1)\n",
    "    df = pd.concat([df,pd.get_dummies(df['emp_length'])],axis=1)\n",
    "    df = pd.concat([df,pd.get_dummies(df['home_ownership'])],axis=1)\n",
    "    df = pd.concat([df,pd.get_dummies(df['verification_status'])],axis=1)\n",
    "    df = pd.concat([df,pd.get_dummies(df['purpose'])],axis=1)\n",
    "    df = df.drop(columns=['term','grade','emp_length','home_ownership','verification_status','purpose'],axis=1)    \n",
    "    return df"
   ]
  },
  {
   "cell_type": "code",
   "execution_count": 4,
   "metadata": {},
   "outputs": [],
   "source": [
    "df = reduce_Loan_dataset(pd.read_csv(\"loan_simplified_2.csv\"))"
   ]
  },
  {
   "cell_type": "code",
   "execution_count": 5,
   "metadata": {},
   "outputs": [],
   "source": [
    "from sklearn.model_selection import train_test_split\n",
    "from sklearn.preprocessing import MinMaxScaler\n",
    "from sklearn.metrics import classification_report"
   ]
  },
  {
   "cell_type": "code",
   "execution_count": 6,
   "metadata": {},
   "outputs": [],
   "source": [
    "X = df.drop(columns=['loan_status_new'],axis=1).values\n",
    "y = df['loan_status_new'].values"
   ]
  },
  {
   "cell_type": "markdown",
   "metadata": {},
   "source": [
    "### Stratified split of the dataset"
   ]
  },
  {
   "cell_type": "code",
   "execution_count": 7,
   "metadata": {},
   "outputs": [],
   "source": [
    "X_train,X_test,y_train,y_test = train_test_split(X, y, test_size=0.33,stratify=y,random_state=42)"
   ]
  },
  {
   "cell_type": "markdown",
   "metadata": {},
   "source": [
    "### Training the Neural Network with mini batch Stochastic Gradient Descent"
   ]
  },
  {
   "cell_type": "code",
   "execution_count": 8,
   "metadata": {},
   "outputs": [
    {
     "name": "stdout",
     "output_type": "stream",
     "text": [
      "Layer: 1  Node Count: 200  Activation Function: tanh\n",
      "Layer: 2  Node Count: 150  Activation Function: tanh\n",
      "Layer: 3  Node Count: 100  Activation Function: tanh\n",
      "Layer: 4  Node Count: 100  Activation Function: tanh\n",
      "Layer: 5  Node Count: 1  Activation Function: sigmoid\n",
      "Total Number of Trainable params: 66651\n"
     ]
    }
   ],
   "source": [
    "nn3= dense_NN_sgd()\n",
    "nn3.input_data(X_train,y_train)\n",
    "\n",
    "# Adding layers using the add_layer function. 2 layers, a tanh and leakyRELU were added.\n",
    "nn3.add_layer(nodes=200,act_fun='tanh')\n",
    "nn3.add_layer(nodes=150,act_fun='tanh')\n",
    "nn3.add_layer(nodes=100,act_fun='tanh')\n",
    "nn3.add_layer(nodes=100,act_fun='tanh')\n",
    "\n",
    "# Addition of the final single node sigmoid layer is mandatory for binary classification task\n",
    "nn3.add_layer(1,act_fun='sigmoid')\n",
    "\n",
    "# This randomly initializes all the weight matrices and assigns zeros to the bias arrays\n",
    "nn3.nn_compile()\n",
    "nn3.summary()"
   ]
  },
  {
   "cell_type": "code",
   "execution_count": 9,
   "metadata": {
    "scrolled": true
   },
   "outputs": [],
   "source": [
    "nn3.fit(alpha=0.8,epochs=250,batch_size=30,call_back=2000,verbose=False)"
   ]
  },
  {
   "cell_type": "code",
   "execution_count": 10,
   "metadata": {},
   "outputs": [
    {
     "data": {
      "image/png": "[encoded data removed]",
      "text/plain": [
       "<Figure size 432x360 with 1 Axes>"
      ]
     },
     "metadata": {
      "needs_background": "light"
     },
     "output_type": "display_data"
    }
   ],
   "source": [
    "plt.figure(figsize=(6,5))\n",
    "plt.plot(nn3.cost_list)\n",
    "plt.title(\"Cost function minimization - NN Stochastic Gradient Descent\")\n",
    "plt.xlabel(\"Epochs\")\n",
    "plt.ylabel(\"Cost\")\n",
    "plt.show()"
   ]
  },
  {
   "cell_type": "markdown",
   "metadata": {},
   "source": [
    "### Prediction on the test dataset and Performance metrics"
   ]
  },
  {
   "cell_type": "code",
   "execution_count": 11,
   "metadata": {},
   "outputs": [
    {
     "name": "stdout",
     "output_type": "stream",
     "text": [
      "Confusion Matrix NN Stochastic Gradient Descent with mini batch \n",
      "\n",
      "[[9.99135994e-01 8.64005530e-04]\n",
      " [3.79023884e-01 6.20976116e-01]]\n",
      "\n",
      "\n",
      "Classification Report \n",
      "\n",
      "              precision    recall  f1-score   support\n",
      "\n",
      "           0       0.97      1.00      0.98     11574\n",
      "           1       0.98      0.62      0.76       963\n",
      "\n",
      "    accuracy                           0.97     12537\n",
      "   macro avg       0.98      0.81      0.87     12537\n",
      "weighted avg       0.97      0.97      0.97     12537\n",
      "\n"
     ]
    },
    {
     "data": {
      "image/png": "[encoded data removed]",
      "text/plain": [
       "<Figure size 504x432 with 2 Axes>"
      ]
     },
     "metadata": {
      "needs_background": "light"
     },
     "output_type": "display_data"
    }
   ],
   "source": [
    "y_prob_nn3,y_class_nn3 = nn3.predict(X_test)\n",
    "print(\"Confusion Matrix NN Stochastic Gradient Descent with mini batch \\n\")\n",
    "cf_nn3 = confusion_matrix(y_test,y_class_nn3,normalize=\"true\")\n",
    "print(cf_nn3)\n",
    "plt.figure(figsize=(7,6))\n",
    "ax = sns.heatmap(cf_nn3,annot=True,cmap=\"BuPu\")\n",
    "ax.set_title(\"Confusion Matrix SGD Mini Batch\")\n",
    "ax.set(xlabel = \"Predicted\",ylabel = \"True\")\n",
    "print('\\n')\n",
    "print('Classification Report \\n')\n",
    "print(classification_report(y_test,y_class_nn3))"
   ]
  },
  {
   "cell_type": "markdown",
   "metadata": {},
   "source": [
    "### Saving the model and reloading it for prediction on new data\n",
    "The *.pkl*  extension is directly added to the name during saving. While reading make sure the entire file name along with the *.pkl* is provided. "
   ]
  },
  {
   "cell_type": "code",
   "execution_count": 12,
   "metadata": {},
   "outputs": [],
   "source": [
    "nn3.save_model(name=\"dnn_SGD\")"
   ]
  },
  {
   "cell_type": "markdown",
   "metadata": {},
   "source": [
    "Creation of a new model object of class *dense_NN_sgd* and reading in the saved model. Please note the pickled file saves only the weights, biases and the scaling parameters. So it needs to be read into an object of *Class dense_NN_sgd* to work. "
   ]
  },
  {
   "cell_type": "code",
   "execution_count": 13,
   "metadata": {},
   "outputs": [],
   "source": [
    "nn4 = dense_NN_sgd()"
   ]
  },
  {
   "cell_type": "code",
   "execution_count": 14,
   "metadata": {},
   "outputs": [],
   "source": [
    "nn4.load_model(name=\"dnn_SGD.pkl\")"
   ]
  },
  {
   "cell_type": "markdown",
   "metadata": {},
   "source": [
    "Reading in new data and making predictions with the loaded model"
   ]
  },
  {
   "cell_type": "code",
   "execution_count": 15,
   "metadata": {},
   "outputs": [],
   "source": [
    "df2 = reduce_Loan_dataset(pd.read_csv(\"loan_simplified_3.csv\"))\n",
    "X = df2.drop(columns=['loan_status_new'],axis=1).values\n",
    "y = df2['loan_status_new'].values"
   ]
  },
  {
   "cell_type": "markdown",
   "metadata": {},
   "source": [
    "### Prediction & Model Evaluation on new data"
   ]
  },
  {
   "cell_type": "code",
   "execution_count": 16,
   "metadata": {},
   "outputs": [
    {
     "name": "stdout",
     "output_type": "stream",
     "text": [
      "Confusion Matrix NN new data \n",
      "\n",
      "[[0.99847991 0.00152009]\n",
      " [0.39116292 0.60883708]]\n",
      "\n",
      "\n",
      "Classification Report \n",
      "\n",
      "              precision    recall  f1-score   support\n",
      "\n",
      "           0       0.97      1.00      0.98     87495\n",
      "           1       0.97      0.61      0.75      7378\n",
      "\n",
      "    accuracy                           0.97     94873\n",
      "   macro avg       0.97      0.80      0.87     94873\n",
      "weighted avg       0.97      0.97      0.96     94873\n",
      "\n"
     ]
    },
    {
     "data": {
      "text/plain": [
       "[Text(42.0, 0.5, 'True'), Text(0.5, 33.0, 'Predicted')]"
      ]
     },
     "execution_count": 16,
     "metadata": {},
     "output_type": "execute_result"
    },
    {
     "data": {
      "image/png": "[encoded data removed]",
      "text/plain": [
       "<Figure size 504x432 with 2 Axes>"
      ]
     },
     "metadata": {
      "needs_background": "light"
     },
     "output_type": "display_data"
    }
   ],
   "source": [
    "y_prob_nn4,y_class_nn4 = nn4.predict(X)\n",
    "\n",
    "print(\"Confusion Matrix NN new data \\n\")\n",
    "cf_nn4 = confusion_matrix(y,y_class_nn4,normalize=\"true\")\n",
    "print(cf_nn4)\n",
    "print(\"\\n\")\n",
    "print('Classification Report \\n')\n",
    "print(classification_report(y,y_class_nn4))\n",
    "\n",
    "plt.figure(figsize=(7,6))\n",
    "ax = sns.heatmap(cf_nn4,annot=True,cmap=\"BuPu\")\n",
    "ax.set_title(\"Confusion Matrix New Data\")\n",
    "ax.set(xlabel = \"Predicted\",ylabel = \"True\")"
   ]
  },
  {
   "cell_type": "markdown",
   "metadata": {},
   "source": [
    "## 4. Creating a Flask web service - RESTful API and running it locally <a class=\"anchor\" id=\"Flask\"></a>"
   ]
  },
  {
   "cell_type": "markdown",
   "metadata": {},
   "source": [
    "Flask is a microframework for creating web applications and APIs using Python. The moto of Flask is to keep things very simple and extensible. The below code snippet shows a Flask application which embeds the implemented and trained neural network as a RESTful API. You can read more about REST API in this <a href=\"https://searchapparchitecture.techtarget.com/definition/RESTful-API\">article</a> but the basic premise is, it is a method by which different software programs can communicate with each other over the network.\n",
    "\n",
    "*Flask* and its extension package *flask_restful* have been used to create the API end point as shown below. The code is stored in a file named *app.y*. The below API can only deal with POST HTTP requests as indicated by the function and the class which inherits the *Resource* class from *flask_restful* package. This means both the inputs to and the output from the API are in json format. "
   ]
  },
  {
   "cell_type": "code",
   "execution_count": null,
   "metadata": {},
   "outputs": [],
   "source": [
    "# Don't execute the code below. Copy the code snippet into a file called app.py and run it from the console.\n",
    "import numpy as np\n",
    "from nn_sgd import dense_NN_sgd\n",
    "from flask import Flask, request\n",
    "from flask_restful import Resource, Api\n",
    "\n",
    "app = Flask(__name__)\n",
    "api = Api(app)\n",
    "\n",
    "class predict_default(Resource):\n",
    "    def post(self):\n",
    "        inp_json = request.get_json()\n",
    "        X = np.array(inp_json['input'])\n",
    "        nn4 = dense_NN_sgd()\n",
    "        nn4.load_model(name=\"dnn_SGD.pkl\")\n",
    "        y_prob_nn4,y_class_nn4 = nn4.predict(X)\n",
    "        result = {\"y_prob\":y_prob_nn4[0],\"y_class\":y_class_nn4[0]}\n",
    "        \n",
    "        return result\n",
    "\n",
    "api.add_resource(predict_default,'/')\n",
    "\n",
    "if __name__ =='__main__':\n",
    "    app.run(debug=True)"
   ]
  },
  {
   "attachments": {},
   "cell_type": "markdown",
   "metadata": {},
   "source": [
    "The app can be test by running it locally. Open a terminal window and change the directory to the one containing the file Run the file *app.py* using the python keyword from the console as shown in the screenshot below. The message displayed should say that the app is running and should give an URL. \n",
    "![image](Loan_default_API_run.JPG)\n",
    "\n",
    "Python *requests* package has been used to deal with the input to and output from the REST API (the API running locally and on AWS EC2 instance). The *post* function defined as a part of the *predict_default* takes in an json object as input and extracts the feature array and feeds it into the *predict* function part of the *dense_NN_sgd* class which is packaged along with *app.py*. The weights, biases and scaling parameters are loaded before the predictions are made. The current implementation of the REST API can take only one row of data. Care must be taken that the inut is in json ingestible format. A single row from a pandas dataframe or a numpy array needs to be converted into a simple list before it can made input into a python dictionary (with key value pairs). The python dictionary object is very similar in structure to a json object and the *requests* package is able to deal with dictionaries converitng them into json objects.\n",
    "So the 1st step is to convert a single row of the numpy array into a dictionary/json object. The dictionary key name of *input* is used in the API. Hence a dictionary with a single key of *input* needs to be created before feeding it to the *request* *post* function."
   ]
  },
  {
   "cell_type": "code",
   "execution_count": 18,
   "metadata": {},
   "outputs": [],
   "source": [
    "X_feature = X[10].reshape(1,-1) ### Reshaping the array to conform to the (m rows, n columns) format.\n",
    "X_feature = X_feature.tolist() ### Making the numpy array into a list"
   ]
  },
  {
   "cell_type": "markdown",
   "metadata": {},
   "source": [
    "Creating the input dictionary with single key *input*. The list has values for the all features needed for the model to work. Please note the dimensions of the input vector should match that one required for the trained model."
   ]
  },
  {
   "cell_type": "code",
   "execution_count": 19,
   "metadata": {},
   "outputs": [
    {
     "name": "stdout",
     "output_type": "stream",
     "text": [
      "{'input': [[35000.0, 9.99, 1129.19, 175000.0, 29.81, 0.0, 10.0, 27342.0, 43.4, 17.0, 0.0, 35601.65, 601.65, 34511.31, 61.0, 1.0, 0.0, 0.0, 1.0, 0.0, 0.0, 0.0, 0.0, 0.0, 0.0, 0.0, 0.0, 1.0, 0.0, 0.0, 0.0, 0.0, 0.0, 0.0, 0.0, 1.0, 0.0, 0.0, 0.0, 0.0, 1.0, 0.0, 0.0, 1.0, 0.0, 0.0, 0.0, 0.0, 0.0, 0.0, 0.0, 0.0, 0.0, 0.0, 0.0]]}\n"
     ]
    }
   ],
   "source": [
    "inp = {'input':X_feature}\n",
    "print(inp)"
   ]
  },
  {
   "cell_type": "markdown",
   "metadata": {},
   "source": [
    "The *post* request takes in a URL and a json object as input. The URL specified is the server address at which the API endpoint has been stood up.The result of the post request is displayed below. The output basically has two components, the probability of defaulting on the loan and class label associated with the loan - 0 corresponds to \"Won't Default (Good)\" the loan & 1 corresponds to \"Will Default\" the loan."
   ]
  },
  {
   "cell_type": "code",
   "execution_count": 20,
   "metadata": {},
   "outputs": [
    {
     "name": "stdout",
     "output_type": "stream",
     "text": [
      "{\n",
      "    \"y_prob\": 6.853156834293194e-09,\n",
      "    \"y_class\": 0.0\n",
      "}\n",
      "\n"
     ]
    }
   ],
   "source": [
    "import requests\n",
    "from flask import jsonify\n",
    "\n",
    "URL = \"http://127.0.0.1:5000/\"\n",
    "r1 = requests.post(url=URL,json=inp)\n",
    "print(r1.text)"
   ]
  },
  {
   "cell_type": "markdown",
   "metadata": {},
   "source": [
    "This confirms that the Flask REST API is working as intended and is able to produce the result of the prediction from the trained Deep Learning model when a HTTP post request is sent to it. The next step is to productionize this Flask REST API as a web service on the cloud (Amazon EC2 instance)"
   ]
  },
  {
   "cell_type": "markdown",
   "metadata": {},
   "source": [
    "## 5. Creating a Flask Web service on Amazon EC2 using *gunicorn* and *nginx*<a class=\"anchor\" id=\"amazon\"></a>"
   ]
  },
  {
   "cell_type": "markdown",
   "metadata": {},
   "source": [
    "As explained before Flask is a Python microframework but for it to run on a machine and be accessible it requires HTTP server. Gunicorn or 'Green Uniform\" is a Web Server Gateway Interface (WSGI) server to run the Python backend applications (in this case the trained Deep Learning model or any other Python code). You can read more about <a href=\"A Web Server Gateway Interface (WSGI) server\">gunicorn</a> here. When deploying  *gunicorn* it is strongly recommended it be used a behind a proxy server according to the developer page. *nginx* is a proxy server application which will be used to deploy the Flask API with gunicorn on an EC2 instance. You can read about proxy servers <a href=\"https://en.wikipedia.org/wiki/Proxy_server\">here</a>. It basically acts as an intermediatory for requests from clients seeking resources from servers that provide those resources. In this case, the client request is a POST request for predicting the probability of Loan Default."
   ]
  },
  {
   "cell_type": "markdown",
   "metadata": {},
   "source": [
    "### Amazon EC2 instance and installation of associated packages"
   ]
  },
  {
   "cell_type": "markdown",
   "metadata": {},
   "source": [
    "I won't be describing how to create an EC2 instance as it has been covered in many other places. Please refer to those pages through a google search. The descripton here will cover what packages to install on EC2, how to deploy the Flask API on EC2 and access it from the client machine. I spun up a *t2.micro* Ubuntu 18.04 LTS server on EC2 and connected to it from my windows machine using the PuTTy utility.\n",
    "![image](EC2_putty.PNG)\n",
    "![image](Putty.PNG)"
   ]
  },
  {
   "cell_type": "markdown",
   "metadata": {},
   "source": [
    "Install the following using sudo apt-get root commands on the EC2 instance\n",
    "1. *Python 3.X*\n",
    "2. *pip3* package manager\n",
    "3. pip3 install as the Python libraries and dependencies for the Flask Application to work. In my case it was flask, flask-restful,numpy (since the Deep Neural network doesn't use any specialized ML packages those libraries are not required. But if a scikit-learn model has to be productionized then those libraries need to be installed in this step).\n",
    "4. *gunicorn3* (3 is for Python 3.x)\n",
    "5. *nginx* proxy web server"
   ]
  },
  {
   "cell_type": "markdown",
   "metadata": {},
   "source": [
    "### The Flask Application\n",
    "\n",
    "Create a new directory and copy over the *app.py* file over into the directory along with the dependencies. In my case, I copied over the following files\n",
    "1. *app.py* - the python file containing the Flask app.\n",
    "1. *nn_sgd.py* - file containing the Deep neural network python class definition with all the functions \n",
    "2. *dnn_SGD.pkl* - the pickled file which contains all the trained weights, biases and scaling parameters\n",
    "\n",
    "![image](flask_app_files.PNG)\n",
    "I used WinSCP to connect to the EC2 instance from the my Windows machine to transfer the files."
   ]
  },
  {
   "cell_type": "markdown",
   "metadata": {},
   "source": [
    "### The *nginx* server\n",
    "\n",
    "Create the following *nginx* proxy server configuration file using vim. Give it a name. Here the server name corresponds to IPv4 public address of the EC2 instance. This file should be created in the */etc/nginx/sites-enabled* folder using *sudo vim flaskapp*. The proxy pass needs to be specified with web address as shown below with port 8000."
   ]
  },
  {
   "cell_type": "raw",
   "metadata": {},
   "source": [
    "server{\n",
    "   listen 80;\n",
    "   server_name 3.23.114.57;\n",
    "\n",
    "   location /{\n",
    "        proxy_pass http://127.0.0.1:8000;\n",
    "   }\n",
    "\n",
    "}"
   ]
  },
  {
   "cell_type": "markdown",
   "metadata": {},
   "source": [
    "Close and save the flaskapp configuration file and to reflect the addition of a new service run the nginx restart command.\n",
    "*sudo service nginx restart*. Make sure this runs without errors.\n",
    "![image](nginx_restart.PNG)"
   ]
  },
  {
   "cell_type": "markdown",
   "metadata": {},
   "source": [
    "### Run the Flask Application\n",
    "\n",
    "Change the directory to the one which has the Flask Application and its dependencies. Issue the following command to run the app using *gunicorn*. \n",
    "\n",
    "*gunicorn3 app:app*\n",
    "\n",
    "![image](gunicorn_run_app.PNG)\n",
    "\n",
    "The message should indicate the url and the port at which the gunicorn is listening. The application is now running and can be accessed over the internet at the EC2 instance IPv4 public address. Before this can be done, port 80 (specified in the *nginx* proxy server configuration file) needs to be opened using Security group in EC2 instance configuration page.\n",
    "\n",
    "![image](security1.PNG)\n",
    "\n",
    "Click on launch wizard 6 and enable a HTTP inbound request rule at PORT 80. \n",
    "\n",
    "![image](inbound.PNG)\n",
    "\n",
    "Since this application is an API which can support only post requests the previous code accessed the API running locally  can be used as is. The only difference in the URL. The new URL will be the public IP of the EC2 instance with port 80 appended after the colon. The results of the request is shown below. The result shows that the service is running and gives a result when requested. "
   ]
  },
  {
   "cell_type": "code",
   "execution_count": 25,
   "metadata": {},
   "outputs": [
    {
     "name": "stdout",
     "output_type": "stream",
     "text": [
      "{\"y_prob\": 0.9996627018882251, \"y_class\": 1.0}\n",
      "\n"
     ]
    }
   ],
   "source": [
    "### AWS EC2 instance public IPv4 address appended with port 80 at which the API is accessible\n",
    "URL = \"http://3.128.189.172:80/\" \n",
    "r2 = requests.post(url=URL,json=inp)\n",
    "print(r2.text)"
   ]
  },
  {
   "cell_type": "markdown",
   "metadata": {},
   "source": [
    "The requests can also be made sequentially using a for loop as shown below"
   ]
  },
  {
   "cell_type": "code",
   "execution_count": 26,
   "metadata": {
    "scrolled": true
   },
   "outputs": [
    {
     "name": "stdout",
     "output_type": "stream",
     "text": [
      "{\"y_prob\": 0.0045522095917126535, \"y_class\": 0.0}\n",
      "\n",
      "{\"y_prob\": 0.011071436510687297, \"y_class\": 0.0}\n",
      "\n",
      "{\"y_prob\": 0.06882735456943723, \"y_class\": 0.0}\n",
      "\n",
      "{\"y_prob\": 0.3630001605624724, \"y_class\": 0.0}\n",
      "\n",
      "{\"y_prob\": 0.06998014215583047, \"y_class\": 0.0}\n",
      "\n",
      "{\"y_prob\": 0.02390334187732422, \"y_class\": 0.0}\n",
      "\n",
      "{\"y_prob\": 0.010344565352920972, \"y_class\": 0.0}\n",
      "\n",
      "{\"y_prob\": 0.0003092682325069546, \"y_class\": 0.0}\n",
      "\n",
      "{\"y_prob\": 0.009420535360746959, \"y_class\": 0.0}\n",
      "\n",
      "{\"y_prob\": 0.9996627018882251, \"y_class\": 1.0}\n",
      "\n"
     ]
    }
   ],
   "source": [
    "for i in range(290,300):\n",
    "    X_feature  = X[i].reshape(1,-1)\n",
    "    X_feature = X_feature.tolist()\n",
    "    inp = {'input':X_feature}\n",
    "    r1 = requests.post(url=URL,json=inp)\n",
    "    print(r1.text)"
   ]
  },
  {
   "cell_type": "markdown",
   "metadata": {},
   "source": [
    "The current version of the API is unable to take full dataframe input and return arrays for probability of default and the corresponding class label, but this is something which is easily added."
   ]
  },
  {
   "cell_type": "code",
   "execution_count": null,
   "metadata": {},
   "outputs": [],
   "source": [
    "# import json\n",
    "# def post_predict(X):\n",
    "#     X_feature  = X.reshape(1,-1)\n",
    "#     X_feature = X_feature.tolist()\n",
    "#     inp = {'input':X_feature}\n",
    "#     r1 = requests.post(url=URL,json=inp)\n",
    "#     result = json.loads(r1.text)\n",
    "#     y_prob = result['y_prob']\n",
    "#     y_class = result['y_class']\n",
    "#     return y_prob,y_class"
   ]
  },
  {
   "cell_type": "code",
   "execution_count": null,
   "metadata": {},
   "outputs": [],
   "source": [
    "# np.apply_along_axis(post_predict,1,X)"
   ]
  },
  {
   "cell_type": "markdown",
   "metadata": {},
   "source": [
    "## 6. Gunicorn as Service <a class=\"anchor\" id=\"gunicorn\"></a>\n",
    "\n",
    "The Flask app developed in the previous section was run using the continuous gunicorn command. Running gunicorn as a Service, streamlines this process without having to run it continuously, meaning other tasks can be performed in the same terminal window and the app runs in the background. Follow the steps described below to run gunicorn as a service\n",
    "\n",
    "1. Create a *gunicorn3.service* file in the */etc/systemd/system* folder and copy over the contents. Make sure to specify the correct working directory, one which has the app.py file"
   ]
  },
  {
   "cell_type": "raw",
   "metadata": {},
   "source": [
    "[Unit]\n",
    "Description=Gunicorn service\n",
    "After = network.target\n",
    "\n",
    "[Service]\n",
    "User=ubuntu\n",
    "Group=www-data\n",
    "WorkingDirectory=/home/ubuntu/Loan_Default\n",
    "ExecStart=/usr/bin/gunicorn3 --workers 3 --bind unix:Loan_Default.sock -m 007 app:app"
   ]
  },
  {
   "attachments": {},
   "cell_type": "markdown",
   "metadata": {},
   "source": [
    "2. Make sure to save the changes and reload the daemon. \n",
    "3. Start the servivce.\n",
    "4. The status of the service can be checked next using the status command. See the image below\n",
    "\n",
    "![image](gunicorn_as_service2.PNG)\n",
    "\n",
    "A sock file *Loan_Default.sock* created in the app folder when the service is started.\n",
    "![image.png](gunicorn_as_service3.PNG)\n",
    "\n",
    "5. The nginx file (*flaskapp*) needs to be updated to reflect the path of gunicorn socket file. The proxy_pass now needs to point to the *Loan_Default.sock* file. Full path needs to be provided "
   ]
  },
  {
   "cell_type": "raw",
   "metadata": {},
   "source": [
    "server{\n",
    "   listen 80;\n",
    "   server_name 3.23.114.57;\n",
    "\n",
    "   location /{\n",
    "        proxy_pass http://unix:/home/ubuntu/Loan_Default/Loan_Default.sock;\n",
    "   }\n",
    "\n",
    "}"
   ]
  },
  {
   "cell_type": "markdown",
   "metadata": {},
   "source": [
    "6. Restart *nginx* as before using *sudo nginx restart*\n",
    "7. Finally restart gunicorn3 service using *sudo service gunicorn3 restart*\n",
    "\n",
    "Now the API can be accessed at the same web address, essentially the previous code for POST request can be used."
   ]
  },
  {
   "cell_type": "code",
   "execution_count": 28,
   "metadata": {},
   "outputs": [
    {
     "name": "stdout",
     "output_type": "stream",
     "text": [
      "{\"y_prob\": 0.031438942393929775, \"y_class\": 0.0}\n",
      "\n"
     ]
    }
   ],
   "source": [
    "URL = \"http://3.128.189.172:80/\" \n",
    "r2 = requests.post(url=URL,json=inp)\n",
    "print(r2.text)"
   ]
  },
  {
   "cell_type": "code",
   "execution_count": 30,
   "metadata": {},
   "outputs": [
    {
     "name": "stdout",
     "output_type": "stream",
     "text": [
      "{\"y_prob\": 0.02931191530248862, \"y_class\": 0.0}\n",
      "\n",
      "{\"y_prob\": 0.08138355496566413, \"y_class\": 0.0}\n",
      "\n",
      "{\"y_prob\": 0.016775204341364425, \"y_class\": 0.0}\n",
      "\n",
      "{\"y_prob\": 0.004764906745274596, \"y_class\": 0.0}\n",
      "\n",
      "{\"y_prob\": 0.015333884914059164, \"y_class\": 0.0}\n",
      "\n",
      "{\"y_prob\": 0.9904398010484752, \"y_class\": 1.0}\n",
      "\n",
      "{\"y_prob\": 0.010803313585206009, \"y_class\": 0.0}\n",
      "\n",
      "{\"y_prob\": 0.04364642788137709, \"y_class\": 0.0}\n",
      "\n",
      "{\"y_prob\": 0.012045131766331624, \"y_class\": 0.0}\n",
      "\n",
      "{\"y_prob\": 0.02252981564017505, \"y_class\": 0.0}\n",
      "\n"
     ]
    }
   ],
   "source": [
    "for i in range(410,420):\n",
    "    X_feature  = X[i].reshape(1,-1)\n",
    "    X_feature = X_feature.tolist()\n",
    "    inp = {'input':X_feature}\n",
    "    r1 = requests.post(url=URL,json=inp)\n",
    "    print(r1.text)"
   ]
  },
  {
   "cell_type": "markdown",
   "metadata": {},
   "source": [
    "This concludes the deployment of the Flask API using gunicorn and nginx. A future notebook will explore the use for Amazon Elastic Beanstalk for deploying the API."
   ]
  }
 ],
 "metadata": {
  "kernelspec": {
   "display_name": "Python 3",
   "language": "python",
   "name": "python3"
  },
  "language_info": {
   "codemirror_mode": {
    "name": "ipython",
    "version": 3
   },
   "file_extension": ".py",
   "mimetype": "text/x-python",
   "name": "python",
   "nbconvert_exporter": "python",
   "pygments_lexer": "ipython3",
   "version": "3.7.5"
  }
 },
 "nbformat": 4,
 "nbformat_minor": 2
}
