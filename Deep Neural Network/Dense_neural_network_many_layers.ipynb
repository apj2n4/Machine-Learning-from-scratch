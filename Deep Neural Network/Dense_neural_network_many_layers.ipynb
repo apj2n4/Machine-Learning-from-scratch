{
 "cells": [
  {
   "cell_type": "markdown",
   "metadata": {},
   "source": [
    "# Implementation of a Dense Neural Networks with multiple layers and nodes for Binary Classification using numpy (Deep Learning)"
   ]
  },
  {
   "cell_type": "markdown",
   "metadata": {},
   "source": [
    "## Table of Contents\n",
    "* [1. Deep Neural Networks](#Deep_neural)\n",
    "\n",
    "* [2. Forward Propagation](#Forward_prop)\n",
    "\n",
    "* [3. Back Propagation with Gradient Descent](#Back_prop)\n",
    "\n",
    "* [4. Activation Functions](#Act_fun)\n",
    "\n",
    "* [5. Python Class Implementation](#python_class)\n",
    "    * [5.1. Data Structure (Dictionary) definitions](#python_class1)\n",
    "    * [5.2. Member Functions](#python_class2)\n",
    "    * [5.3. Code Listing](#python_class3)\n",
    "    \n",
    "* [6. Validation on 'Default' dataset from ISLR Textbook and comparison with TensorFlow](#validation)\n",
    "    * [6.1. Loading the Default dataset](#validation1)\n",
    "    * [6.2. Data Cleanup and conversion to numpy arrays](#validation2)\n",
    "    * [6.3. Train Test Split using scikit learn train test split algorithm](#validation3)\n",
    "    * [6.4. Implemented DL Network Architecture definition](#validation4)\n",
    "    * [6.5. The Fitting process](#validation5)\n",
    "    * [6.6. Making Predictions](#validation6)\n",
    "    * [6.7. Evaluating the model performance](#validation7)\n",
    "    * [6.8. Comparison with TensorFlow](#validation8)\n",
    "* [7. Conclusion](#conclusion)"
   ]
  },
  {
   "cell_type": "markdown",
   "metadata": {},
   "source": [
    "## 1. Deep Neural Networks <a class=\"anchor\" id=\"Deep_neural\"></a>"
   ]
  },
  {
   "cell_type": "markdown",
   "metadata": {},
   "source": [
    "The following notebook describes the implementation of a deep neural network for binary classification task using numpy library and python dictionaries. Deep Learning has revolutionized the field of machine learning in recent times with applications in the area of Computer Vision, Natual Language Processing, Sequence modeling etc. Neural networks are highly complex data structures and can be expensive to train due to the large number of parameters involved. Neural networks are another class of optimization problems similar to least square regression and maximum liklihood estimates which are used in various classification algorithms. \n",
    "\n",
    "   A dense neural network is one of the most generic type of neural network with all the nodes in one layer connected to  all the other nodes in the next layer and so on. Dense neural networks are well suited for non linear problems due to the non-linear nature of the activation functions used and dense connections between nodes. The figure below shows the architecture a dense deep neural network with 3 layers and many nodes in each layer used for the binary classification task. Please refer *Deep Learning* by Goodfellow et al. (https://www.deeplearningbook.org/) and Andrew Ng's Neural networks and Deep Learning Course (https://www.coursera.org/learn/neural-networks-deep-learning/) for more details. \n",
    "\n",
    "<br>\n",
    "<br>\n",
    "\n",
    "<img src=\"./Dense_Neural_Network.JPG\" style=\"width:850px;height:400px;\">\n",
    "<p>\n",
    "\n",
    "    \n",
    "In the above figure $X$ is the input feature matrix and $y_{true}$ is the true training label vector (0 or 1). \n",
    "\n",
    "   \n",
    "$$X=\\begin{bmatrix}\n",
    "    x_{1,1} & x_{1,2} & ....\\\\\n",
    "    x_{2,1} & x_{2,2} & ....\\\\\n",
    "    ....                    \\\\\n",
    "    . & ....                    \\\\\n",
    "    . & ....                    \\\\\n",
    "    x_{m,1} & .... & x_{m,n_0}\\\\\n",
    "    \\end{bmatrix}$$\n",
    "    \n",
    "\n",
    " $$ y = \\begin {bmatrix}\n",
    "          1 \\\\\n",
    "          0 \\\\\n",
    "          .     \\\\\n",
    "          .     \\\\\n",
    "          1 \\\\\n",
    "         \\end{bmatrix} $$\n",
    "\n",
    "Here the feature matrix X is of dimension $(m,n_0)$ and the output label y is a 1D array of dimension $(m,1)$\n",
    "\n",
    "$W's$ are the network weight matrices and $b's$ are the bias arrays. In this implementation the bias is a vector instead of a single number for each layer. $Z$ represents the linear transformation of the input data and $A$ is the activation function applied to the linear transformation. The activation functions implemented in this investigation are *Sigmoid, Rectified Linear Unit(RELU), Leaky RELU and tanh*. Since this is a binary classification task, the final node always uses the *sigmoid* activation function whose output varies between 0 and 1 - which then can be used for predicting the binary class labels. The values of the elements in the weight matrices and bias vectors need to be fit for making accurate predictions based on the training set. A loss function is defined and minimization of the loss function using gradient descent optimization algorithm is performed. The loss function is give as follows,\n",
    "\n",
    "$$ Loss_i = - y^{i}_{true} . \\log(\\sigma(Z^{i,L})) - (1-y^{i}_{true}) . \\log(1-\\sigma(Z^{i,L})) $$\n",
    "\n",
    "which is called the cross-entropy loss function (named after entropy-temperature-pressure relationship from Thermodynamics). This represents loss or error for a single training example. The objective function for gradient descent needs to consider all of the training set to best fit the weights. So, an average loss is calculated over the training set as shown below which is called the cost function.\n",
    "\n",
    "$$ Cost  J = -\\frac{1}{m}\\sum_{i=1}^{m}y^{i}_{true} . \\log(\\sigma(Z^{i,L})) + (1-y^{i}_{true}) . \\log(1-\\sigma(Z^{i,L}))$$"
   ]
  },
  {
   "cell_type": "markdown",
   "metadata": {},
   "source": [
    "## 2. Forward Propagation <a class=\"anchor\" id=\"Forward_prop\"></a>"
   ]
  },
  {
   "cell_type": "markdown",
   "metadata": {},
   "source": [
    "Transforming the input features, as we move from left to right all the way to the final node is called the forward propagation. The forward pass is a series of matrix operations dependent upon the structure of the neural network. \n",
    "\n",
    "The feature transformation in the forward pass is as follows.\n",
    "\n",
    "$$Layer_1 \\,\\,\\,\\, Z^1 = W_1.X^T + b_1,\\, A^1 = G(Z^1)$$\n",
    "\n",
    "$$Layer_2 \\,\\,\\,\\, Z^2 = W_2.A^1 + b_2,\\, A^2 = G(Z^2)$$\n",
    "\n",
    "$$Layer_3 \\,\\,\\,\\, Z^3 = W_3.A^2 + b_3,\\, A^3 = G(Z^3)$$\n",
    "\n",
    "$$.....$$\n",
    "\n",
    "$$.....$$\n",
    "\n",
    "$$Layer_L \\,\\,\\,\\, Z^L = W_L.A^{L-1} + b_L,\\, A^L = G(Z^L)$$\n",
    "\n",
    "where \n",
    "\n",
    "$\\begin{equation*}\n",
    "W_1 =\\begin{bmatrix}\n",
    "W^{1,1}_1 & W^{1,2}_1 & ... W^{1,n_0}_1\\\\\n",
    "W^{2,1}_1 & W^{2,2}_1 & ....\\\\\n",
    "....                    \\\\\n",
    "....                    \\\\\n",
    "....                    \\\\\n",
    "W^{n_1,1}_1 & .... & W^{n_1,n_0}_1\\\\\n",
    "\\end{bmatrix},\n",
    "b_1 = \\begin{bmatrix}\n",
    "b^1_1\\\\\n",
    "b^2_1\\\\\n",
    ".\\\\\n",
    ".\\\\\n",
    "b^{n_1}_1\\\\\n",
    "\\end{bmatrix},\n",
    "W_2 = \\begin{bmatrix}\n",
    "W^{1,1}_2 & W^{1,2}_2 & ... W^{1,n_1}_2\\\\\n",
    "W^{2,1}_2 & W^{2,2}_2 & ....\\\\\n",
    "....                    \\\\\n",
    "....                    \\\\\n",
    "....                    \\\\\n",
    "W^{n_2,1}_2 & .... & W^{n_2,n_1}_2\\\\\n",
    "\\end{bmatrix},\n",
    "b_2 = \\begin{bmatrix}\n",
    "b^1_2\\\\\n",
    "b^2_2\\\\\n",
    ".\\\\\n",
    ".\\\\\n",
    "b^{n_2}_2\\\\\n",
    "\\end{bmatrix},....\n",
    "W_L = \\begin{bmatrix}\n",
    "W^{1,1}_L & W^{1,2}_L & ... W^{1,n_{L-1}}_L\\\\\n",
    "W^{2,1}_L & W^{2,2}_L & ....\\\\\n",
    "....                    \\\\\n",
    "....                    \\\\\n",
    "....                    \\\\\n",
    "W^{n_L,1}_L & .... & W^{n_L,n_{L-1}}_L\\\\\n",
    "\\end{bmatrix},\n",
    "b_L = \\begin{bmatrix}\n",
    "b^1_L\\\\\n",
    "b^2_L\\\\\n",
    ".\\\\\n",
    ".\\\\\n",
    "b^{n_L}_L\\\\\n",
    "\\end{bmatrix}\n",
    "\\end{equation*}$\n",
    "\n",
    "Here L is the number of layers in the neural network, G represents the activation function of each layer. The zeroth layer of the neural network is the feature matrix $X$. The dot in the above equations represent matrix multiplication. In the above figure $n_{0}$ represents the number of features in the $X$ matrix and $m$ is the number of training examples. The weight matrix in the first layer $W_{1}$ is of size $(n_1,n_0)$ and feature matrix X is of size $(m,n_0)$. So feature matrix need to be transposed before performing the dot product. The resulting $Z^1$ is of size $(n_1,m)$. The activation function matrix $A^1$ is calculated by applying the activation function to each element of the $Z^1$ so it has the same dimensions as $Z^1$. For the next layer the linear combination matrix $Z^2$ is calculated using $A^1$, weight matrix $W_2$ and the bias vector $b_2$. The activation matrix $A^2$ is calculated by using the activation function for that layer. This transformation again changes the dimensions and the values of incoming data. This process is continued until the last layer with the prediction of the probability of binary class label using the $sigmoid$ activation function. This basically constitutes Forward propagation."
   ]
  },
  {
   "cell_type": "markdown",
   "metadata": {},
   "source": [
    "## 3. Back Propagation with Gradient Descent <a class=\"anchor\" id=\"Back_prop\"></a>"
   ]
  },
  {
   "cell_type": "markdown",
   "metadata": {},
   "source": [
    "At the end of the forward pass, the loss function is calculated for each training sample. This process is repeated for all m training examples and an overall cost function which is an average of all the losses is estimated. What values of the weights and biases which reduces this cost function is the optimization problem embodied in back propagation. Gradient descent algorithm has been used in this implementation to calculate the weights and bias arrays for each layer. The gradient of the cost function with respect to each weight and bias term in each layer is calculated and the weight and bias matrices are updated based on these gradients.\n",
    "\n",
    "$$ \\frac {\\partial J}{\\partial b^{j}_i} = \\frac{1}{m} \\sum_{i=1}^{m} Loss_i(y_{true},y_{p})$$\n",
    "\n",
    "$$ \\frac {\\partial J}{\\partial W^{j,k}_i} = \\frac{1}{m} \\sum_{i=1}^{m} Loss_i(y_{true},y_{p})$$\n",
    "\n",
    "In matrix form this can be represented as follows starting from the last layer L. Back propagation operation is performed  starting from the last layer sequentially moving to the first layer.\n",
    "\n",
    "$$\\begin{equation*}\n",
    "\\frac {\\partial J}{\\partial W_L} =\\begin{bmatrix}\n",
    "\\frac {\\partial J}{\\partial W^{1,1}_L} & \\frac {\\partial J}{\\partial W^{1,2}_L} & ... \\frac {\\partial J}{\\partial W^{1,n_{L-1}}_L}\\\\\n",
    "\\frac {\\partial J}{\\partial W^{2,1}_L} & \\frac {\\partial J}{\\partial W^{2,2}_L} & ... \\frac {\\partial J}{\\partial W^{2,{L-1}}_L}\\\\\n",
    "....                    \\\\\n",
    "....                    \\\\\n",
    "....                    \\\\\n",
    "\\frac {\\partial J}{\\partial W^{n_L,1}_L} & \\frac {\\partial J}{\\partial W^{n_L,2}_L} & ... \\frac {\\partial J}{\\partial W^{n_L,n_{L-1}}_L}\\\\\n",
    "\\end{bmatrix},\n",
    "\\frac {\\partial J}{\\partial b_L} = \\begin{bmatrix}\n",
    "\\frac {\\partial J}{\\partial b^{1}_L}\\\\\n",
    "\\frac {\\partial J}{\\partial b^{2}_L}\\\\\n",
    ".\\\\\n",
    ".\\\\\n",
    "\\frac {\\partial J}{\\partial b^{n_L}_L}\\\\\n",
    "\\end{bmatrix},\n",
    "\\frac {\\partial J}{\\partial W_{L-1}} =\\begin{bmatrix}\n",
    "\\frac {\\partial J}{\\partial W^{1,1}_{L-1}} & \\frac {\\partial J}{\\partial W^{1,2}_{L-1}} & ... \\frac {\\partial J}{\\partial W^{1,n_{L-2}}_{L-1}}\\\\\n",
    "\\frac {\\partial J}{\\partial W^{2,1}_{L-1}} & \\frac {\\partial J}{\\partial W^{2,2}_{L-1}} & ... \\frac {\\partial J}{\\partial W^{2,{L-2}}_{L-1}}\\\\\n",
    "....                    \\\\\n",
    "....                    \\\\\n",
    "....                    \\\\\n",
    "\\frac {\\partial J}{\\partial W^{n_{L-1},1}_{L-1}} & \\frac {\\partial J}{\\partial W^{n_{L-1},2}_{L-1}} & ... \\frac {\\partial J}{\\partial W^{n_{L-1},n_{L-2}}_{L-1}}\\\\\n",
    "\\end{bmatrix},\n",
    "\\frac {\\partial J}{\\partial b_{L-1}} = \\begin{bmatrix}\n",
    "\\frac {\\partial J}{\\partial b^{1}_{L-1}}\\\\\n",
    "\\frac {\\partial J}{\\partial b^{2}_{L-1}}\\\\\n",
    ".\\\\\n",
    ".\\\\\n",
    "\\frac {\\partial J}{\\partial b^{n_{L-1}}_{L-1}}\\\\\n",
    "\\end{bmatrix}, ...\\quad\n",
    "\\frac {\\partial J}{\\partial W_1} =\\begin{bmatrix}\n",
    "\\frac {\\partial J}{\\partial W^{1,1}_1} & \\frac {\\partial J}{\\partial W^{1,2}_1} & ... \\frac {\\partial J}{\\partial W^{1,n_{0}}_1}\\\\\n",
    "\\frac {\\partial J}{\\partial W^{2,1}_1} & \\frac {\\partial J}{\\partial W^{2,2}_1} & ... \\frac {\\partial J}{\\partial W^{2,{n_0}}_1}\\\\\n",
    "....\\\\\n",
    "....\\\\\n",
    "....\\\\\n",
    "\\frac {\\partial J}{\\partial W^{n_1,1}_1} & \\frac {\\partial J}{\\partial W^{n_1,2}_1} & ... \\frac {\\partial J}{\\partial W^{n_1,n_{0}}_1}\\\\\n",
    "\\end{bmatrix},\n",
    "\\frac {\\partial J}{\\partial b_1} = \\begin{bmatrix}\n",
    "\\frac {\\partial J}{\\partial b^{1}_1}\\\\\n",
    "\\frac {\\partial J}{\\partial b^{2}_1}\\\\\n",
    ".\\\\\n",
    ".\\\\\n",
    "\\frac {\\partial J}{\\partial b^{n_1}_1}\\\\\n",
    "\\end{bmatrix}\n",
    "\\end{equation*}\n",
    "$$\n",
    "\n",
    "Important point to note here is the partial derivatives of the cost function with respect to the weights and biases need to be calculated using the chain rule of differentiation. For example, partial derivative of J wrt the weights in the last layer is given as follows,\n",
    "\n",
    "$$ \\frac {\\partial J}{\\partial W_L} = \\frac {1}{m} \\frac {\\partial J}{\\partial Z^{L}}.A^{{L-1},T} $$ \n",
    "\n",
    "The dot in the above equation represents a matrix dot product.\n",
    "\n",
    "$$ \\frac {\\partial J}{\\partial b_L} = \\frac {1}{m}\\sum_{i=1}^{m}\\frac {\\partial J_i}{\\partial Z^{L}}$$\n",
    "\n",
    "here \n",
    "\n",
    "$$ \\frac {\\partial J}{\\partial Z^{L}} =  \\frac {\\partial J}{\\partial A^{L}}*\\frac{dA^{L}}{dZ^L} $$\n",
    "\n",
    "The $*$ product above is an elementwise product as the matrices $\\frac {\\partial J}{\\partial A^{L}}$ and $\\frac{dA^{L}}{dZ^L}$ are of the same size. Finally the derivative of cost function $J$ with respect to previous layers activation function is calculated as below,\n",
    "\n",
    "$$ \\frac {\\partial J}{\\partial A^{L-1}} = W^{L,T}.\\frac{\\partial J}{\\partial Z^L} $$ \n",
    "\n",
    "Once all the terms in the Jacobian (derivative) weight and bias matrices have been calculated the weight and bias matrices can be updated as follows\n",
    "\n",
    "$$W_L = W_L - \\alpha \\frac {\\partial J}{\\partial W_{L}}$$\n",
    "\n",
    "$$b_L = b_L - \\alpha \\frac {\\partial J}{\\partial b_{L}}$$\n",
    "\n",
    "here $\\alpha$ is the training rate which is a hyperparameter. \n",
    "\n",
    "One complete sweep of Forward pass and Backward pass constitutes an epoch. These sweeps are run many times and the weights updated until the cost function is minimized and converges. Depending upon the number of layers and number of nodes in each layer there could be a very large number of weights and bias terms which need to be fit. The architecture of the network is decided before hand and this becomes part of the hyperparameter tuning process."
   ]
  },
  {
   "cell_type": "markdown",
   "metadata": {},
   "source": [
    "## 4. Activation Functions <a class=\"anchor\" id=\"Act_fun\"></a>"
   ]
  },
  {
   "cell_type": "markdown",
   "metadata": {},
   "source": [
    "There are 4 activations functions implemented in the Dense Neural Network class. They are shown below"
   ]
  },
  {
   "cell_type": "code",
   "execution_count": 1,
   "metadata": {},
   "outputs": [],
   "source": [
    "import numpy as np\n",
    "import matplotlib.pyplot as plt\n",
    "%matplotlib inline"
   ]
  },
  {
   "cell_type": "code",
   "execution_count": 2,
   "metadata": {},
   "outputs": [],
   "source": [
    "def sigmoid(x):\n",
    "    return 1/(1+np.exp(-x))\n",
    "\n",
    "def RELU(x):\n",
    "    return np.maximum(0,x)\n",
    "    \n",
    "def tanh(x):\n",
    "    return np.tanh(x)\n",
    "    \n",
    "def leakyRELU(x):\n",
    "    return np.maximum(0.1*x,x)"
   ]
  },
  {
   "cell_type": "code",
   "execution_count": 3,
   "metadata": {},
   "outputs": [
    {
     "data": {
      "image/png": "[encoded data removed]",
      "text/plain": [
       "<Figure size 1008x720 with 4 Axes>"
      ]
     },
     "metadata": {
      "needs_background": "light"
     },
     "output_type": "display_data"
    }
   ],
   "source": [
    "x_var = np.arange(-10,10,0.1)\n",
    "fig = plt.figure(figsize=(14,10))\n",
    "# fig.subplots_adjust(hspace=2, wspace=1)\n",
    "ax = fig.add_subplot(2, 2, 1)\n",
    "ax.plot(x_var,sigmoid(x_var))\n",
    "ax.set_title('Sigmoid')\n",
    "ax.grid()\n",
    "\n",
    "ax = fig.add_subplot(2, 2, 2)\n",
    "ax.plot(x_var,RELU(x_var))\n",
    "ax.set_title('RELU')\n",
    "ax.grid()\n",
    "\n",
    "ax = fig.add_subplot(2, 2, 3)\n",
    "ax.plot(x_var,tanh(x_var))\n",
    "ax.set_title('tanh')\n",
    "ax.grid()\n",
    "\n",
    "ax = fig.add_subplot(2, 2, 4)\n",
    "ax.plot(x_var,leakyRELU(x_var))\n",
    "ax.set_title('Leaky RELU')\n",
    "ax.grid()"
   ]
  },
  {
   "cell_type": "markdown",
   "metadata": {},
   "source": [
    "## 5. Python Class Implementation <a class=\"anchor\" id=\"python_class\"></a>\n",
    "\n",
    "Inorder to implement the Dense deep learning neural network for binary classification, extensive use of python dictionaries and numpy arrays were made. A python class which has the appropriate data structures (dictionaries) and functions makes it convenient to code the algorithm."
   ]
  },
  {
   "cell_type": "markdown",
   "metadata": {},
   "source": [
    "### 5.1 Data Structure (Dictionary) definitions <a class=\"anchor\" id=\"python_class1\"></a>\n",
    "\n",
    "The following are the dictionaries defined in the python class. <br>\n",
    "A overall architecture dictionary stores information about number of nodes in each layer and the activation function stored as a string in each layer. This dictionary is input by the user using a member function called add_layer. The structure of the dictionary is given below.\n",
    "\n",
    "#### Neural Network Architecture <br>\n",
    "*{<br>\n",
    " Layer 1: [Number of Nodes n1, Activation Function of Layer 1], <br>\n",
    " Layer 2: [Number of Nodes n2, Activation Function of Layer 2], <br>\n",
    " . <br>\n",
    " . <br>\n",
    " Layer L: [Number of Nodes nL, Activation Function of Layer L] <br>\n",
    "}*\n",
    "\n",
    "The parameters $W,b$, the activations $Z$ and $A$, and all the derivatives $dW, db, dA. dZ$  are also defined as python dictionaries. The keys to the dictionary are again the layer index. The general structure of all the data dictionaries is as shown below,\n",
    "\n",
    "#### Weights & Derivatives of the Weights <br>\n",
    "*{<br>\n",
    "Layer 1: np.array(n1,n0), <br>\n",
    "Layer 2: np.array(n2,n1),<br>\n",
    ".<br>\n",
    ".<br>\n",
    "Layer L: np.array(nL,nL-1)<br>\n",
    "}*<br>\n",
    "\n",
    "#### Biases & Derivatives of the Biases <br>\n",
    "*{<br>\n",
    "Layer 1: np.array(n1,1), <br>\n",
    "Layer 2: np.array(n2,1),<br>\n",
    ".<br>\n",
    ".<br>\n",
    "Layer L: np.array(nL,1)<br>\n",
    "}*<br>\n",
    "\n",
    "#### Z & A Activations <br>\n",
    "\n",
    "Activations <br>\n",
    "*{<br>\n",
    "Layer 1: np.array(n1,m), <br>\n",
    "Layer 2: np.array(n2,m),<br>\n",
    ".<br>\n",
    ".<br>\n",
    "Layer L: np.array(nL,m)<br>\n",
    "}*<br>"
   ]
  },
  {
   "cell_type": "markdown",
   "metadata": {},
   "source": [
    "### 5.2 Member Functions  <a class=\"anchor\" id=\"python_class2\"></a>\n",
    "\n",
    "There are many member functions defined in the class to enable sequential population of the data structures with data and implementation of gradient descent through forward and backward propagations. \n",
    "1. *input_data* - Ingests and scales the features and stores the response in appropriate arrays\n",
    "2. *add_layer* - Function for adding layers to the neural network architecture. Takes 2 argument viz., no. of nodes in each layer and the activation function for the layer. The choices for the activation functions are *sigmoid, tanh, RELU and leakyRELU*\n",
    "3. *nn_compile* - This function tries to mimic the compilation step used in the TensorFlow except here there is no actual compilation , but initialization of all the weight (random) and bias matrices. \n",
    "4. *fit* -  This function incorporates the forward and backward propagation of the gradient descent algorithm. It takes in the number of epochs (number of iterations of gradient descent) and a learning rate\n",
    "5. *summary* - Shows the structure of the defined neural network\n",
    "6. *predict* - The predict functions calculates and returns the probability and the class label for a new data input.<br>\n",
    "\n",
    "\n",
    "The python class definition is shown below. The inputs and output are similar to TensorFlow Keras API."
   ]
  },
  {
   "cell_type": "markdown",
   "metadata": {},
   "source": [
    "### 5.3 Code Listing <a class=\"anchor\" id=\"python_class3\"></a>"
   ]
  },
  {
   "cell_type": "code",
   "execution_count": 4,
   "metadata": {},
   "outputs": [],
   "source": [
    "class dense_NN():\n",
    "    def __init__(self):\n",
    "        np.random.seed(1)\n",
    "        self.nn_struct={}\n",
    "        self.index = int(0)\n",
    "        self.W = {}\n",
    "        self.b = {}\n",
    "        self.Z = {}\n",
    "        self.A = {}\n",
    "        self.dA = {}\n",
    "        self.dZ = {}\n",
    "        self.dW = {}\n",
    "        self.dB = {}\n",
    "        #self.cost = []\n",
    "        self.cost_list=np.array([])\n",
    "    \n",
    "    ###################Scaler###################\n",
    "    def scaler_fit(self,X):\n",
    "        self.X_max = X.max(0)\n",
    "        self.X_min = X.min(0)\n",
    "            \n",
    "    def scaler_transform(self,X):\n",
    "        return (X-self.X_min)/(self.X_max-self.X_min)\n",
    "    \n",
    "    ############################################\n",
    "    \n",
    "    #################Activation functions & derivatives###################\n",
    "    ############Activation Functions############\n",
    "    def sigmoid(self,x):\n",
    "        return 1/(1+np.exp(-x))\n",
    "    \n",
    "    def RELU(self,x):\n",
    "        return np.maximum(0,x)\n",
    "    \n",
    "    def tanh(self,x):\n",
    "        return np.tanh(x)\n",
    "    \n",
    "    def leakyRELU(self,x):\n",
    "        return np.maximum(0.01*x,x)\n",
    "    \n",
    "    #############Derivatives#####################\n",
    "    def dsigmoid(self,X):\n",
    "        return self.sigmoid(X)*(1-self.sigmoid(X))\n",
    "    \n",
    "    def dRELU(self,x):\n",
    "        return np.where(x>=0.0,1,0)   \n",
    "    \n",
    "    def dtanh(self,X):\n",
    "        return (1-np.square(np.tanh(X)))\n",
    "    \n",
    "    def dleakyRELU(self,x):\n",
    "        return np.where(x>=0,0.01,1.0)\n",
    "    \n",
    "    ##############################################\n",
    "    \n",
    "    def g(self,X,fun=\"RELU\"):\n",
    "        if fun==\"RELU\":\n",
    "            return self.RELU(X)\n",
    "        if fun==\"tanh\":\n",
    "            return self.tanh(X)\n",
    "        if fun=='sigmoid':\n",
    "            return self.sigmoid(X)\n",
    "        if fun=='leakyRELU':\n",
    "            return self.leakyRELU(X)\n",
    "    \n",
    "    def g_prime(self,X,fun=\"RELU\"):\n",
    "        if fun==\"RELU\":\n",
    "            return self.dRELU(X)\n",
    "        if fun==\"tanh\":\n",
    "            return self.dtanh(X)\n",
    "        if fun=='sigmoid':\n",
    "            return self.dsigmoid(X)\n",
    "        if fun=='leakyRELU':\n",
    "            return self.dleakyRELU(X)\n",
    "    ####################################################################################\n",
    "    \n",
    "    ################################Cost Function########################################\n",
    "    def cost(self,y_true,y_pred):\n",
    "        m = y_true.shape[1]\n",
    "        return -np.sum(np.multiply(y_true,np.log(y_pred))+np.multiply((1-y_true),np.log(1-y_pred)))/m\n",
    "    \n",
    "    #####################################################################################\n",
    "           \n",
    "    def input_data(self,X,y):\n",
    "        self.scaler_fit(X)\n",
    "        X_scaled = self.scaler_transform(X)\n",
    "        self.X = X_scaled\n",
    "        self.y = y.reshape((1,-1))\n",
    "        self.m = X_scaled.T.shape[1]\n",
    "        self.n0 = X_scaled.shape[1]\n",
    "        self.A.update({0:self.X.T})\n",
    "\n",
    "    def add_layer(self,nodes=5,act_fun='RELU'):\n",
    "        self.index += 1\n",
    "        add_lay = {self.index:[nodes,act_fun]}\n",
    "        self.nn_struct.update(add_lay)\n",
    "        \n",
    "    def summary(self):\n",
    "        for key,value in sorted(self.nn_struct.items()):\n",
    "            print(\"Layer:\",key,\" Node Count:\",value[0],\" Activation Function:\",value[1])\n",
    "    \n",
    "    ######################## Randomize the weight arrays#######################\n",
    "    def nn_compile(self):\n",
    "        self.L = max(sorted(self.nn_struct))\n",
    "        for key,value in sorted(self.nn_struct.items()):\n",
    "            if(key==1):\n",
    "                W = 0.02*np.random.rand(value[0],self.n0)\n",
    "                b = np.zeros((value[0],1))\n",
    "                self.W.update({key:W})\n",
    "                self.b.update({key:b})\n",
    "            else:\n",
    "                W = 0.02*np.random.rand(value[0],self.nn_struct[key-1][0])\n",
    "                b = np.zeros((value[0],1))\n",
    "                self.W.update({key:W})\n",
    "                self.b.update({key:b})\n",
    "    ###########################################################################\n",
    "    \n",
    "    def forward_prop(self,verbose=False):\n",
    "        L = max(sorted(self.nn_struct))\n",
    "        ##############Forward Propagation###############\n",
    "        for key,value in sorted(self.nn_struct.items()):\n",
    "            if(key==1):\n",
    "                Z = np.dot(self.W[key],self.X.T)+self.b[key]\n",
    "                A = self.g(Z,fun=value[1])\n",
    "            else:\n",
    "                Z = np.dot(self.W[key],self.A[key-1])+self.b[key]\n",
    "                A = self.g(Z,fun=value[1])\n",
    "            self.Z.update({key:Z})\n",
    "            self.A.update({key:A})\n",
    "        ################################################\n",
    "        cost = self.cost(self.y,self.A[L])\n",
    "        self.cost_list = np.append(self.cost_list,cost)\n",
    "        i=len(self.cost_list)\n",
    "        if verbose:\n",
    "            print(\"Epoch: \",i,\"Cross Entropy Cost: \",cost)\n",
    "    \n",
    "    def back_prop(self):\n",
    "        ############### Total Number of Layers based on Input###########\n",
    "        L = max(sorted(self.nn_struct))\n",
    "        ###############Back Propagation #################\n",
    "        dAL = - (np.divide(self.y, self.A[L]) - np.divide(1 - self.y, 1 - self.A[L]))\n",
    "        dZ = dAL*self.g_prime(self.Z[L],fun=self.nn_struct[L][1])\n",
    "        dW = np.dot(dZ,self.A[L-1].T)/self.m\n",
    "        dB = np.sum(dZ,axis=1,keepdims=True)/self.m\n",
    "        dAL_1 =  np.dot(self.W[L].T,dZ)\n",
    "        \n",
    "        self.dA.update({L:dAL})\n",
    "        self.dZ.update({L:dZ})\n",
    "        self.dW.update({L:dW})\n",
    "        self.dB.update({L:dB})\n",
    "        self.dA.update({L-1:dAL_1})\n",
    "        \n",
    "        \n",
    "        for i in range(L-1,0,-1):\n",
    "            dZ = self.dA[i]*self.g_prime(self.Z[i],fun=self.nn_struct[i][1])\n",
    "            dW = np.dot(dZ,self.A[i-1].T)/self.m\n",
    "            dB = np.sum(dZ,axis=1,keepdims=True)/self.m                    \n",
    "            dAL_1 = np.dot(self.W[i].T,dZ)\n",
    "            if(i!=1):\n",
    "                self.dA.update({i-1:dAL_1})\n",
    "            self.dZ.update({i:dZ})\n",
    "            self.dW.update({i:dW})\n",
    "            self.dB.update({i:dB})\n",
    "         \n",
    "        for i in range(1,L+1,1):\n",
    "            self.W[i]=self.W[i]-self.alpha*self.dW[i]\n",
    "            self.b[i]=self.b[i]-self.alpha*self.dB[i]\n",
    "    \n",
    "    def fit(self,alpha=0.01,epochs=100,verbose=False):\n",
    "        self.alpha = alpha\n",
    "        for i in range(1,epochs):\n",
    "            self.forward_prop(verbose)\n",
    "            if np.isnan(self.cost_list[i-1]):\n",
    "                break\n",
    "            self.back_prop()\n",
    "    \n",
    "    def predict(self,X_new):\n",
    "        L = max(sorted(self.nn_struct))\n",
    "        X_scaled = self.scaler_transform(X_new)\n",
    "        m = X_new.shape[0]\n",
    "        A_dict = {}\n",
    "        Z_dict = {}\n",
    "        for key,value in sorted(self.nn_struct.items()):\n",
    "            if(key==1):\n",
    "                Z = np.dot(self.W[key], X_scaled.T)+self.b[key]\n",
    "                A = self.g(Z,fun=value[1])\n",
    "            else:\n",
    "                Z = np.dot(self.W[key],A_dict[key-1])+self.b[key]\n",
    "                A = self.g(Z,fun=value[1])\n",
    "            Z_dict.update({key:Z})\n",
    "            A_dict.update({key:A})\n",
    "        y_pred = A_dict[L].reshape(-1)\n",
    "        y_class = np.zeros(m)\n",
    "        y_class[y_pred>0.5]=1\n",
    "        \n",
    "        return y_pred,y_class\n",
    "        "
   ]
  },
  {
   "cell_type": "markdown",
   "metadata": {},
   "source": [
    "## 6. Validation on 'Default' dataset from ISLR Textbook and comparison with TensorFlow <a class=\"anchor\" id=\"validation\"></a>"
   ]
  },
  {
   "cell_type": "markdown",
   "metadata": {},
   "source": [
    "*An Introduction to Statistical Learning with Applications in R* by G James et al. (http://faculty.marshall.usc.edu/gareth-james/ISL/) is an excellent textbook for applied machine learning. The Default dataset available in the companion R *ISLR* library was used for validationg the implementation of the logistic regression model. The toy dataset only has 3 features and used for the validation of the implementation. The response categorical variable represents whether the loan was defaulted or not. The features are *Income, Balance and Student*, which are pretty self explanatory."
   ]
  },
  {
   "cell_type": "code",
   "execution_count": 5,
   "metadata": {},
   "outputs": [],
   "source": [
    "import pandas as pd\n",
    "from sklearn.model_selection import train_test_split\n",
    "from sklearn.preprocessing import MinMaxScaler\n",
    "from sklearn.linear_model import LogisticRegression\n",
    "from sklearn.metrics import classification_report\n",
    "import seaborn as sns"
   ]
  },
  {
   "cell_type": "markdown",
   "metadata": {},
   "source": [
    "### 6.1 Loading the Default dataset <a class=\"anchor\" id=\"validation1\"></a>\n",
    "For the EDA of the dataset please refer to the notebook at the following location. https://github.com/apj2n4/Machine-Learning-from-scratch/blob/master/Logistic_regression/Logistic-Regression-implementation-using-gradient-descent-in-numpy.ipynb \n",
    "The focus here will be on fitting and validating the implemented model (bugs, errors and crashes).\n"
   ]
  },
  {
   "cell_type": "code",
   "execution_count": 6,
   "metadata": {},
   "outputs": [
    {
     "data": {
      "text/html": [
       "<div>\n",
       "<style scoped>\n",
       "    .dataframe tbody tr th:only-of-type {\n",
       "        vertical-align: middle;\n",
       "    }\n",
       "\n",
       "    .dataframe tbody tr th {\n",
       "        vertical-align: top;\n",
       "    }\n",
       "\n",
       "    .dataframe thead th {\n",
       "        text-align: right;\n",
       "    }\n",
       "</style>\n",
       "<table border=\"1\" class=\"dataframe\">\n",
       "  <thead>\n",
       "    <tr style=\"text-align: right;\">\n",
       "      <th></th>\n",
       "      <th>balance</th>\n",
       "      <th>income</th>\n",
       "      <th>student_new</th>\n",
       "      <th>default_new</th>\n",
       "    </tr>\n",
       "  </thead>\n",
       "  <tbody>\n",
       "    <tr>\n",
       "      <th>0</th>\n",
       "      <td>729.526495</td>\n",
       "      <td>44361.625074</td>\n",
       "      <td>0</td>\n",
       "      <td>0</td>\n",
       "    </tr>\n",
       "    <tr>\n",
       "      <th>1</th>\n",
       "      <td>817.180407</td>\n",
       "      <td>12106.134700</td>\n",
       "      <td>1</td>\n",
       "      <td>0</td>\n",
       "    </tr>\n",
       "    <tr>\n",
       "      <th>2</th>\n",
       "      <td>1073.549164</td>\n",
       "      <td>31767.138947</td>\n",
       "      <td>0</td>\n",
       "      <td>0</td>\n",
       "    </tr>\n",
       "    <tr>\n",
       "      <th>3</th>\n",
       "      <td>529.250605</td>\n",
       "      <td>35704.493935</td>\n",
       "      <td>0</td>\n",
       "      <td>0</td>\n",
       "    </tr>\n",
       "    <tr>\n",
       "      <th>4</th>\n",
       "      <td>785.655883</td>\n",
       "      <td>38463.495879</td>\n",
       "      <td>0</td>\n",
       "      <td>0</td>\n",
       "    </tr>\n",
       "  </tbody>\n",
       "</table>\n",
       "</div>"
      ],
      "text/plain": [
       "       balance        income  student_new  default_new\n",
       "0   729.526495  44361.625074            0            0\n",
       "1   817.180407  12106.134700            1            0\n",
       "2  1073.549164  31767.138947            0            0\n",
       "3   529.250605  35704.493935            0            0\n",
       "4   785.655883  38463.495879            0            0"
      ]
     },
     "execution_count": 6,
     "metadata": {},
     "output_type": "execute_result"
    }
   ],
   "source": [
    "def encoding(x):\n",
    "    if x=='Yes':\n",
    "        return int(1)\n",
    "    else:\n",
    "        return int(0)\n",
    "\n",
    "df = pd.read_csv('Default.csv')\n",
    "df['student_new'] = 0\n",
    "df['default_new'] = 0\n",
    "\n",
    "df['student_new']=df['student'].apply(encoding)\n",
    "df['default_new'] = df['default'].apply(encoding)\n",
    "df =df.drop(labels=['default','student'],axis=1)\n",
    "df.head()"
   ]
  },
  {
   "cell_type": "markdown",
   "metadata": {},
   "source": [
    "### 6.2. Data Cleanup and conversion to numpy arrays <a class=\"anchor\" id=\"validation2\"></a>"
   ]
  },
  {
   "cell_type": "code",
   "execution_count": 7,
   "metadata": {},
   "outputs": [],
   "source": [
    "df_X = df.drop(labels=['default_new'],axis=1)\n",
    "df_y = df['default_new']\n",
    "X = df_X.to_numpy()\n",
    "y = df['default_new'].to_numpy()"
   ]
  },
  {
   "cell_type": "markdown",
   "metadata": {},
   "source": [
    "### 6.3 Train Test Split using scikit learn train test split algorithm <a class=\"anchor\" id=\"validation3\"></a>\n",
    "\n",
    "Since the response variable is highly imbalanced a stratified train test split was performed so that the training and test sets have the same ratio of *defaults - 1* to *no defaults - 0* "
   ]
  },
  {
   "cell_type": "code",
   "execution_count": 8,
   "metadata": {},
   "outputs": [],
   "source": [
    "X_train,X_test,y_train,y_test = train_test_split(X,y,test_size=0.3,random_state=50,stratify=y)\n",
    "y_train = y_train.astype(int)\n",
    "y_test = y_test.astype(int)"
   ]
  },
  {
   "cell_type": "markdown",
   "metadata": {},
   "source": [
    "The *stratity = y* in the scikit-learn *train_test_split* function makes sure that the ratio of the outcomes are the same in the training and test datasets. Cross validation was not used in this study in order to keep the programming simple."
   ]
  },
  {
   "cell_type": "code",
   "execution_count": 9,
   "metadata": {},
   "outputs": [
    {
     "name": "stdout",
     "output_type": "stream",
     "text": [
      "Training Set =  [6767  233]\n",
      "Test Set =  [2900  100]\n"
     ]
    }
   ],
   "source": [
    "print(\"Training Set = \",np.unique(y_train,return_counts=True)[1])\n",
    "print(\"Test Set = \",np.unique(y_test,return_counts=True)[1])"
   ]
  },
  {
   "cell_type": "markdown",
   "metadata": {},
   "source": [
    "### 6.4 Implemented DL Network Architecture definition <a class=\"anchor\" id=\"validation4\"></a>\n",
    "\n",
    "Following are the steps which need to performed sequentially to effectively use the implemented Deep Neural Network architecture. Please refer [5.2. Member Functions](#python_class2) for more details"
   ]
  },
  {
   "cell_type": "code",
   "execution_count": 10,
   "metadata": {},
   "outputs": [
    {
     "name": "stdout",
     "output_type": "stream",
     "text": [
      "Structure of the neural network\n",
      "Layer: 1  Node Count: 20  Activation Function: tanh\n",
      "Layer: 2  Node Count: 15  Activation Function: leakyRELU\n",
      "Layer: 3  Node Count: 1  Activation Function: sigmoid\n"
     ]
    }
   ],
   "source": [
    "# Creation of a class object and initializing the network\n",
    "nn1 = dense_NN()\n",
    "# Data Input \n",
    "nn1.input_data(X_train,y_train)\n",
    "\n",
    "# Adding layers using the add_layer function. 2 layers, a tanh and leakyRELU were added.\n",
    "nn1.add_layer(nodes=20,act_fun='tanh')\n",
    "nn1.add_layer(15,act_fun='leakyRELU')\n",
    "\n",
    "# Addition of the final single node sigmoid layer is mandatory for binary classification task\n",
    "nn1.add_layer(1,act_fun='sigmoid')\n",
    "\n",
    "# This randomly initializes all the weight matrices and assigns zeros to the bias arrays\n",
    "nn1.nn_compile()\n",
    "\n",
    "print(\"Structure of the neural network\")\n",
    "nn1.summary()"
   ]
  },
  {
   "cell_type": "markdown",
   "metadata": {},
   "source": [
    "### 6.5 The Fitting process <a class=\"anchor\" id=\"validation5\"></a>\n",
    "\n",
    "With the neural network defined as above the next step is to train the network. Two parameters, training rate $\\alpha$ and number of epochs (number of forward and backward propagations through the network) need to be input. These again are user inputs. There is a verbose flag, which can be made to print out the value of cost function at each epoch to track the convergence of the fitting process."
   ]
  },
  {
   "cell_type": "code",
   "execution_count": 11,
   "metadata": {
    "scrolled": true
   },
   "outputs": [],
   "source": [
    "nn1.fit(alpha=0.1,epochs=500,verbose=False)"
   ]
  },
  {
   "cell_type": "markdown",
   "metadata": {},
   "source": [
    "The values of the cost function at each iteration is stored in a list (*cost_list*) which is available for post processing. The below plot shows the convergence of cost function with each iteration."
   ]
  },
  {
   "cell_type": "code",
   "execution_count": 12,
   "metadata": {},
   "outputs": [
    {
     "data": {
      "image/png": "[encoded data removed]",
      "text/plain": [
       "<Figure size 432x288 with 1 Axes>"
      ]
     },
     "metadata": {
      "needs_background": "light"
     },
     "output_type": "display_data"
    }
   ],
   "source": [
    "plt.figure()\n",
    "plt.plot(nn1.cost_list)\n",
    "plt.xlabel(\"Epoch\")\n",
    "plt.ylabel(\"Cost\")\n",
    "plt.show()"
   ]
  },
  {
   "cell_type": "markdown",
   "metadata": {},
   "source": [
    "### 6.6 Making Predictions <a class=\"anchor\" id=\"validation6\"></a>\n",
    "The *predict* function is used for making predictions on the test set or new input data. The implementation of the predict function is straight use of the forward pass stopping at the final layer with probabilities and class label calculations. A threshold probability of 0.5 is used for the class labels' assignment."
   ]
  },
  {
   "cell_type": "code",
   "execution_count": 13,
   "metadata": {},
   "outputs": [
    {
     "name": "stdout",
     "output_type": "stream",
     "text": [
      "Predicted Probabilities\n",
      " [0.04195529 0.04195341 0.04195538 ... 0.04195361 0.04195496 0.04195466]\n",
      "\n",
      "\n",
      "Predicted Class labels\n",
      " [0. 0. 0. ... 0. 0. 0.]\n"
     ]
    }
   ],
   "source": [
    "y_prob,y_class = nn1.predict(X_test)\n",
    "print(\"Predicted Probabilities\\n\",y_prob)\n",
    "print(\"\\n\")\n",
    "print(\"Predicted Class labels\\n\",y_class)"
   ]
  },
  {
   "cell_type": "markdown",
   "metadata": {},
   "source": [
    "### 6.7 Evaluating the model performance <a class=\"anchor\" id=\"validation7\"></a>\n",
    "\n",
    "The model performance is evaluated using the Scikit-Learn *classification_report* and *confusion matrix* functions. As stated before, due to the class imbalance, the overall accuracy is high but precision, recall and f1-scores for predicting *\"1\"* is zero meaning no predictive capability of the trained model. The classification report and the confusion matrix are given below."
   ]
  },
  {
   "cell_type": "code",
   "execution_count": 25,
   "metadata": {},
   "outputs": [
    {
     "name": "stdout",
     "output_type": "stream",
     "text": [
      "Confusion Matrix \n",
      "\n",
      "[[2900    0]\n",
      " [ 100    0]]\n"
     ]
    }
   ],
   "source": [
    "from sklearn.metrics import confusion_matrix\n",
    "print(\"Confusion Matrix \\n\")\n",
    "print(confusion_matrix(y_test,y_class))"
   ]
  },
  {
   "cell_type": "code",
   "execution_count": 15,
   "metadata": {},
   "outputs": [
    {
     "name": "stdout",
     "output_type": "stream",
     "text": [
      "Classification Report \n",
      "\n",
      "              precision    recall  f1-score   support\n",
      "\n",
      "           0       0.97      1.00      0.98      2900\n",
      "           1       0.00      0.00      0.00       100\n",
      "\n",
      "    accuracy                           0.97      3000\n",
      "   macro avg       0.48      0.50      0.49      3000\n",
      "weighted avg       0.93      0.97      0.95      3000\n",
      "\n"
     ]
    },
    {
     "name": "stderr",
     "output_type": "stream",
     "text": [
      "c:\\users\\arun_laptop\\.conda\\envs\\kerastf2\\lib\\site-packages\\sklearn\\metrics\\classification.py:1437: UndefinedMetricWarning: Precision and F-score are ill-defined and being set to 0.0 in labels with no predicted samples.\n",
      "  'precision', 'predicted', average, warn_for)\n"
     ]
    }
   ],
   "source": [
    "print('Classification Report \\n')\n",
    "print(classification_report(y_test,y_class))"
   ]
  },
  {
   "cell_type": "markdown",
   "metadata": {},
   "source": [
    "### 6.8 Comparison with TensorFlow <a class=\"anchor\" id=\"validation8\"></a>\n",
    "TensorFlow is a popular open source library for performing Deep Learning. It acts as a good benchmark to compare any deep other learning libraries. The Keras API was used training and testing a TensorFlow model for the same dataset. The trained TensorFlow model was then used to evaluate the current deep learning implementation."
   ]
  },
  {
   "cell_type": "code",
   "execution_count": 16,
   "metadata": {},
   "outputs": [],
   "source": [
    "import tensorflow as tf\n",
    "from tensorflow.keras.models import Sequential\n",
    "from tensorflow.keras.layers import Dense, Activation,Dropout\n",
    "from tensorflow.keras.callbacks import EarlyStopping\n",
    "early_stop = EarlyStopping(monitor='val_loss', mode='min', verbose=1, patience=25)"
   ]
  },
  {
   "cell_type": "markdown",
   "metadata": {},
   "source": [
    "Please refer either https://www.tensorflow.org/ or https://keras.io/guides/functional_api/ on details on how to construct and train a deep learning model."
   ]
  },
  {
   "cell_type": "markdown",
   "metadata": {},
   "source": [
    "TensorFlow Dense Neural Network model construction is shown below. Convention used in the implemented network is very similar to how a Dense neural network is constructed using the Keras API."
   ]
  },
  {
   "cell_type": "code",
   "execution_count": 17,
   "metadata": {},
   "outputs": [],
   "source": [
    "tf_model = Sequential()\n",
    "tf_model.add(Dense(units=20,activation='relu'))\n",
    "tf_model.add(Dense(units=20,activation='relu'))\n",
    "tf_model.add(Dense(units=1,activation='sigmoid'))\n",
    "tf_model.compile(loss='binary_crossentropy', optimizer='adam')"
   ]
  },
  {
   "cell_type": "markdown",
   "metadata": {},
   "source": [
    "The training process using the *fit* function."
   ]
  },
  {
   "cell_type": "code",
   "execution_count": 19,
   "metadata": {
    "scrolled": true
   },
   "outputs": [
    {
     "name": "stdout",
     "output_type": "stream",
     "text": [
      "Epoch 00041: early stopping\n"
     ]
    },
    {
     "data": {
      "text/plain": [
       "<tensorflow.python.keras.callbacks.History at 0x1d8ec675308>"
      ]
     },
     "execution_count": 19,
     "metadata": {},
     "output_type": "execute_result"
    }
   ],
   "source": [
    "tf_model.fit(x=X_train,\n",
    "          y=y_train,\n",
    "          epochs=600,\n",
    "          validation_split=0.3,\n",
    "          verbose=0,\n",
    "          callbacks=[early_stop]\n",
    "         )"
   ]
  },
  {
   "cell_type": "markdown",
   "metadata": {},
   "source": [
    "Plotting training and validation losses"
   ]
  },
  {
   "cell_type": "code",
   "execution_count": 20,
   "metadata": {},
   "outputs": [
    {
     "data": {
      "text/plain": [
       "<Figure size 432x288 with 0 Axes>"
      ]
     },
     "metadata": {},
     "output_type": "display_data"
    },
    {
     "data": {
      "image/png": "[encoded data removed]",
      "text/plain": [
       "<Figure size 432x288 with 1 Axes>"
      ]
     },
     "metadata": {
      "needs_background": "light"
     },
     "output_type": "display_data"
    }
   ],
   "source": [
    "model_loss = pd.DataFrame(tf_model.history.history)\n",
    "plt.figure()\n",
    "model_loss.plot()\n",
    "plt.title(\"Losses\")\n",
    "plt.xlabel(\"Epochs\")\n",
    "plt.ylabel(\"Cost\")\n",
    "plt.show()"
   ]
  },
  {
   "cell_type": "markdown",
   "metadata": {},
   "source": [
    "Making predictions with the TensorFlow model"
   ]
  },
  {
   "cell_type": "code",
   "execution_count": 21,
   "metadata": {},
   "outputs": [],
   "source": [
    "tf_predict = tf_model.predict_classes(X_test)"
   ]
  },
  {
   "cell_type": "markdown",
   "metadata": {},
   "source": [
    "The predicted results from model are very similar to the implemented model. TensorFlow has a lot of capability for other network architectures like Convolutional Neural networks, Recurrent Neural networks, Generative Adversarial networks etc. It acts as a good benchmark for evaluating neural networks developed from scratch."
   ]
  },
  {
   "cell_type": "code",
   "execution_count": 23,
   "metadata": {},
   "outputs": [
    {
     "name": "stdout",
     "output_type": "stream",
     "text": [
      "Confusion Matrix \n",
      "\n",
      "[[2898    2]\n",
      " [ 100    0]]\n"
     ]
    }
   ],
   "source": [
    "print(\"Confusion Matrix \\n\")\n",
    "print(confusion_matrix(y_test,tf_predict))"
   ]
  },
  {
   "cell_type": "code",
   "execution_count": 24,
   "metadata": {},
   "outputs": [
    {
     "name": "stdout",
     "output_type": "stream",
     "text": [
      "Classification Report \n",
      "\n",
      "              precision    recall  f1-score   support\n",
      "\n",
      "           0       0.97      1.00      0.98      2900\n",
      "           1       0.00      0.00      0.00       100\n",
      "\n",
      "    accuracy                           0.97      3000\n",
      "   macro avg       0.48      0.50      0.49      3000\n",
      "weighted avg       0.93      0.97      0.95      3000\n",
      "\n"
     ]
    }
   ],
   "source": [
    "print('Classification Report \\n')\n",
    "print(classification_report(y_test,tf_predict))"
   ]
  },
  {
   "cell_type": "markdown",
   "metadata": {},
   "source": [
    "## 7. Conclusion <a class=\"anchor\" id=\"conclusion\"></a>\n",
    "\n",
    "In this notebook, a deep learning neural network was successfully developed from scratch using only python dictionaries and numpy arrays for binary classification task. Traditional gradient descent aglorithm was used for fitting the weights and biases. A systematic approach was followed for creating the python class with definition of data structures followed by member functions. The syntax of training and testing the network is very similar to the TensorFlow Keras API. The next steps are to test the model against more datasets and observe it's performance and to develop a framework for productionizing the model (saving and deploying). These will be explored in a future work."
   ]
  }
 ],
 "metadata": {
  "kernelspec": {
   "display_name": "Python 3",
   "language": "python",
   "name": "python3"
  },
  "language_info": {
   "codemirror_mode": {
    "name": "ipython",
    "version": 3
   },
   "file_extension": ".py",
   "mimetype": "text/x-python",
   "name": "python",
   "nbconvert_exporter": "python",
   "pygments_lexer": "ipython3",
   "version": "3.7.5"
  }
 },
 "nbformat": 4,
 "nbformat_minor": 2
}
