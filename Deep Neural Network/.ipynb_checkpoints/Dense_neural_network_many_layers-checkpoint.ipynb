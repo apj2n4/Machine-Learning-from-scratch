{
 "cells": [
  {
   "cell_type": "markdown",
   "metadata": {},
   "source": [
    "# Implementation of a Dense Neural Networks with multiple layers for Binary Classification using numpy (Deep Learning)"
   ]
  },
  {
   "cell_type": "markdown",
   "metadata": {},
   "source": [
    "## Table of Contents\n",
    "* [1. Deep Neural Networks](#Deep_neural)\n",
    "\n",
    "* [2. Forward Propagation](#Forward_prop)\n",
    "\n",
    "* [3. Back Propagation with Gradient Descent](#Back_prop)\n",
    "\n",
    "* [4. Activation Functions](#Act_fun)\n",
    "\n",
    "* [5. Python Class Implementation](#python_class)\n",
    "    * [5.1. Data Structure (Dictionary) definitions](#python_class1)\n",
    "    * [5.2. Member Functions](#python_class2)\n",
    "    * [5.3. Code Listing](#python_class3)\n",
    "    \n",
    "* [6. Validation on the Wisconsin Breast Cancer dataset and comparison with TensorFlow](#validation)\n",
    "    * [6.1. Loading the WI Breast Cancer dataset & EDA](#validation1)\n",
    "    * [6.2. Data Cleanup and conversion to numpy arrays](#validation2)\n",
    "    * [6.3. Train Test Split using scikit learn train test split algorithm](#validation3)\n",
    "    * [6.4. Implemented DL Network Architecture definition](#validation4)\n",
    "    * [6.5. The Fitting process](#validation5)\n",
    "    * [6.6. Making Predictions](#validation6)\n",
    "    * [6.7. Evaluating the model performance](#validation7)\n",
    "    * [6.8. Comparison with TensorFlow](#validation8)\n",
    "* [7. Conclusion](#conclusion)"
   ]
  },
  {
   "cell_type": "markdown",
   "metadata": {},
   "source": [
    "## 1. Deep Neural Networks <a class=\"anchor\" id=\"Deep_neural\"></a>"
   ]
  },
  {
   "cell_type": "markdown",
   "metadata": {},
   "source": [
    "The following notebook describes the implementation of a deep neural network for binary classification task using numpy library and python dictionaries. Deep Learning has revolutionized the field of machine learning in recent times with applications in the area of Computer Vision, Natual Language Processing, Sequence modeling etc. Neural networks are highly complex data structures and can be expensive to train due to the large number of parameters involved. Neural networks are another class of optimization problems similar to least square regression and maximum liklihood estimates which are used in various classification algorithms. \n",
    "\n",
    "   A dense neural network is one of the most generic type of neural network with all the nodes in one layer connected to  all the other nodes in the next layer and so on. Dense neural networks are well suited for non linear problems due to the non-linear nature of the activation functions used and dense connections between nodes. The figure below shows the architecture a dense deep neural network with 3 layers and many nodes in each layer used for the binary classification task. Please refer *Deep Learning* by Goodfellow et al. (https://www.deeplearningbook.org/) and Andrew Ng's Neural networks and Deep Learning Course (https://www.coursera.org/learn/neural-networks-deep-learning/) for more details. \n",
    "\n",
    "<br>\n",
    "<br>\n",
    "\n",
    "<img src=\"./Dense_Neural_Network.JPG\" style=\"width:850px;height:400px;\">\n",
    "<p>\n",
    "\n",
    "    \n",
    "In the above figure $X$ is the input feature matrix and $y_{true}$ is the true training label vector (0 or 1). \n",
    "\n",
    "   \n",
    "$$X=\\begin{bmatrix}\n",
    "    x_{1,1} & x_{1,2} & ....\\\\\n",
    "    x_{2,1} & x_{2,2} & ....\\\\\n",
    "    ....                    \\\\\n",
    "    . & ....                    \\\\\n",
    "    . & ....                    \\\\\n",
    "    x_{m,1} & .... & x_{m,n_0}\\\\\n",
    "    \\end{bmatrix}$$\n",
    "    \n",
    "\n",
    " $$ y = \\begin {bmatrix}\n",
    "          1 \\\\\n",
    "          0 \\\\\n",
    "          .     \\\\\n",
    "          .     \\\\\n",
    "          1 \\\\\n",
    "         \\end{bmatrix} $$\n",
    "\n",
    "Here the feature matrix X is of dimension $(m,n_0)$ and the output label y is a 1D array of dimension $(m,1)$\n",
    "\n",
    "$W's$ are the network weight matrices and $b's$ are the bias arrays. In this implementation the bias is a vector instead of a single number for each layer. $Z$ represents the linear transformation of the input data and $A$ is the activation function applied to the linear transformation. The activation functions implemented in this investigation are *Sigmoid, Rectified Linear Unit(RELU), Leaky RELU and tanh*. Since this is a binary classification task, the final node always uses the *sigmoid* activation function whose output varies between 0 and 1 - which then can be used for predicting the binary class labels. The values of the elements in the weight matrices and bias vectors need to be fit for making accurate predictions based on the training set. A loss function is defined and minimization of the loss function using gradient descent optimization algorithm is performed. The loss function is give as follows,\n",
    "\n",
    "$$ Loss_i = - y^{i}_{true} . \\log(\\sigma(Z^{i,L})) - (1-y^{i}_{true}) . \\log(1-\\sigma(Z^{i,L})) $$\n",
    "\n",
    "which is called the cross-entropy loss function (named after entropy-temperature-pressure relationship from Thermodynamics). This represents loss or error for a single training example. The objective function for gradient descent needs to consider all of the training set to best fit the weights. So, an average loss is calculated over the training set as shown below which is called the cost function.\n",
    "\n",
    "$$ Cost  J = -\\frac{1}{m}\\sum_{i=1}^{m}y^{i}_{true} . \\log(\\sigma(Z^{i,L})) + (1-y^{i}_{true}) . \\log(1-\\sigma(Z^{i,L}))$$"
   ]
  },
  {
   "cell_type": "markdown",
   "metadata": {},
   "source": [
    "## 2. Forward Propagation <a class=\"anchor\" id=\"Forward_prop\"></a>"
   ]
  },
  {
   "cell_type": "markdown",
   "metadata": {},
   "source": [
    "Transforming the input features, as we move from left to right all the way to the final node is called the forward propagation. The forward pass is a series of matrix operations dependent upon the structure of the neural network. \n",
    "\n",
    "The feature transformation in the forward pass is as follows.\n",
    "\n",
    "$$Layer_1 \\,\\,\\,\\, Z^1 = W_1.X^T + b_1,\\, A^1 = G(Z^1)$$\n",
    "\n",
    "$$Layer_2 \\,\\,\\,\\, Z^2 = W_2.A^1 + b_2,\\, A^2 = G(Z^2)$$\n",
    "\n",
    "$$Layer_3 \\,\\,\\,\\, Z^3 = W_3.A^2 + b_3,\\, A^3 = G(Z^3)$$\n",
    "\n",
    "$$.....$$\n",
    "\n",
    "$$.....$$\n",
    "\n",
    "$$Layer_L \\,\\,\\,\\, Z^L = W_L.A^{L-1} + b_L,\\, A^L = G(Z^L)$$\n",
    "\n",
    "where \n",
    "\n",
    "$\\begin{equation*}\n",
    "W_1 =\\begin{bmatrix}\n",
    "W^{1,1}_1 & W^{1,2}_1 & ... W^{1,n_0}_1\\\\\n",
    "W^{2,1}_1 & W^{2,2}_1 & ....\\\\\n",
    "....                    \\\\\n",
    "....                    \\\\\n",
    "....                    \\\\\n",
    "W^{n_1,1}_1 & .... & W^{n_1,n_0}_1\\\\\n",
    "\\end{bmatrix},\n",
    "b_1 = \\begin{bmatrix}\n",
    "b^1_1\\\\\n",
    "b^2_1\\\\\n",
    ".\\\\\n",
    ".\\\\\n",
    "b^{n_1}_1\\\\\n",
    "\\end{bmatrix},\n",
    "W_2 = \\begin{bmatrix}\n",
    "W^{1,1}_2 & W^{1,2}_2 & ... W^{1,n_1}_2\\\\\n",
    "W^{2,1}_2 & W^{2,2}_2 & ....\\\\\n",
    "....                    \\\\\n",
    "....                    \\\\\n",
    "....                    \\\\\n",
    "W^{n_2,1}_2 & .... & W^{n_2,n_1}_2\\\\\n",
    "\\end{bmatrix},\n",
    "b_2 = \\begin{bmatrix}\n",
    "b^1_2\\\\\n",
    "b^2_2\\\\\n",
    ".\\\\\n",
    ".\\\\\n",
    "b^{n_2}_2\\\\\n",
    "\\end{bmatrix},....\n",
    "W_L = \\begin{bmatrix}\n",
    "W^{1,1}_L & W^{1,2}_L & ... W^{1,n_{L-1}}_L\\\\\n",
    "W^{2,1}_L & W^{2,2}_L & ....\\\\\n",
    "....                    \\\\\n",
    "....                    \\\\\n",
    "....                    \\\\\n",
    "W^{n_L,1}_L & .... & W^{n_L,n_{L-1}}_L\\\\\n",
    "\\end{bmatrix},\n",
    "b_L = \\begin{bmatrix}\n",
    "b^1_L\\\\\n",
    "b^2_L\\\\\n",
    ".\\\\\n",
    ".\\\\\n",
    "b^{n_L}_L\\\\\n",
    "\\end{bmatrix}\n",
    "\\end{equation*}$\n",
    "\n",
    "Here L is the number of layers in the neural network, G represents the activation function of each layer. The zeroth layer of the neural network is the feature matrix $X$. The dot in the above equations represent matrix multiplication. In the above figure $n_{0}$ represents the number of features in the $X$ matrix and $m$ is the number of training examples. The weight matrix in the first layer $W_{1}$ is of size $(n_1,n_0)$ and feature matrix X is of size $(m,n_0)$. So feature matrix need to be transposed before performing the dot product. The resulting $Z^1$ is of size $(n_1,m)$. The activation function matrix $A^1$ is calculated by applying the activation function to each element of the $Z^1$ so it has the same dimensions as $Z^1$. For the next layer the linear combination matrix $Z^2$ is calculated using $A^1$, weight matrix $W_2$ and the bias vector $b_2$. The activation matrix $A^2$ is calculated by using the activation function for that layer. This transformation again changes the dimensions and the values of incoming data. This process is continued until the last layer with the prediction of the probability of binary class label using the $sigmoid$ activation function. This basically constitutes Forward propagation."
   ]
  },
  {
   "cell_type": "markdown",
   "metadata": {},
   "source": [
    "## 3. Back Propagation with Gradient Descent <a class=\"anchor\" id=\"Back_prop\"></a>"
   ]
  },
  {
   "cell_type": "markdown",
   "metadata": {},
   "source": [
    "At the end of the forward pass, the loss function is calculated for each training sample. This process is repeated for all m training examples and an overall cost function which is an average of all the losses is estimated. What values of the weights and biases which reduces this cost function is the optimization problem embodied in back propagation. Gradient descent algorithm has been used in this implementation to calculate the weights and bias arrays for each layer. The gradient of the cost function with respect to each weight and bias term in each layer is calculated and the weight and bias matrices are updated based on these gradients.\n",
    "\n",
    "$$ \\frac {\\partial J}{\\partial b^{j}_i} = \\frac{1}{m} \\sum_{i=1}^{m} Loss_i(y_{true},y_{p})$$\n",
    "\n",
    "$$ \\frac {\\partial J}{\\partial W^{j,k}_i} = \\frac{1}{m} \\sum_{i=1}^{m} Loss_i(y_{true},y_{p})$$\n",
    "\n",
    "In matrix form this can be represented as follows starting from the last layer L. Back propagation operation is performed  starting from the last layer sequentially moving to the first layer.\n",
    "\n",
    "$$\\begin{equation*}\n",
    "\\frac {\\partial J}{\\partial W_L} =\\begin{bmatrix}\n",
    "\\frac {\\partial J}{\\partial W^{1,1}_L} & \\frac {\\partial J}{\\partial W^{1,2}_L} & ... \\frac {\\partial J}{\\partial W^{1,n_{L-1}}_L}\\\\\n",
    "\\frac {\\partial J}{\\partial W^{2,1}_L} & \\frac {\\partial J}{\\partial W^{2,2}_L} & ... \\frac {\\partial J}{\\partial W^{2,{L-1}}_L}\\\\\n",
    "....                    \\\\\n",
    "....                    \\\\\n",
    "....                    \\\\\n",
    "\\frac {\\partial J}{\\partial W^{n_L,1}_L} & \\frac {\\partial J}{\\partial W^{n_L,2}_L} & ... \\frac {\\partial J}{\\partial W^{n_L,n_{L-1}}_L}\\\\\n",
    "\\end{bmatrix},\n",
    "\\frac {\\partial J}{\\partial b_L} = \\begin{bmatrix}\n",
    "\\frac {\\partial J}{\\partial b^{1}_L}\\\\\n",
    "\\frac {\\partial J}{\\partial b^{2}_L}\\\\\n",
    ".\\\\\n",
    ".\\\\\n",
    "\\frac {\\partial J}{\\partial b^{n_L}_L}\\\\\n",
    "\\end{bmatrix},\n",
    "\\frac {\\partial J}{\\partial W_{L-1}} =\\begin{bmatrix}\n",
    "\\frac {\\partial J}{\\partial W^{1,1}_{L-1}} & \\frac {\\partial J}{\\partial W^{1,2}_{L-1}} & ... \\frac {\\partial J}{\\partial W^{1,n_{L-2}}_{L-1}}\\\\\n",
    "\\frac {\\partial J}{\\partial W^{2,1}_{L-1}} & \\frac {\\partial J}{\\partial W^{2,2}_{L-1}} & ... \\frac {\\partial J}{\\partial W^{2,{L-2}}_{L-1}}\\\\\n",
    "....                    \\\\\n",
    "....                    \\\\\n",
    "....                    \\\\\n",
    "\\frac {\\partial J}{\\partial W^{n_{L-1},1}_{L-1}} & \\frac {\\partial J}{\\partial W^{n_{L-1},2}_{L-1}} & ... \\frac {\\partial J}{\\partial W^{n_{L-1},n_{L-2}}_{L-1}}\\\\\n",
    "\\end{bmatrix},\n",
    "\\frac {\\partial J}{\\partial b_{L-1}} = \\begin{bmatrix}\n",
    "\\frac {\\partial J}{\\partial b^{1}_{L-1}}\\\\\n",
    "\\frac {\\partial J}{\\partial b^{2}_{L-1}}\\\\\n",
    ".\\\\\n",
    ".\\\\\n",
    "\\frac {\\partial J}{\\partial b^{n_{L-1}}_{L-1}}\\\\\n",
    "\\end{bmatrix}, ...\\quad\n",
    "\\frac {\\partial J}{\\partial W_1} =\\begin{bmatrix}\n",
    "\\frac {\\partial J}{\\partial W^{1,1}_1} & \\frac {\\partial J}{\\partial W^{1,2}_1} & ... \\frac {\\partial J}{\\partial W^{1,n_{0}}_1}\\\\\n",
    "\\frac {\\partial J}{\\partial W^{2,1}_1} & \\frac {\\partial J}{\\partial W^{2,2}_1} & ... \\frac {\\partial J}{\\partial W^{2,{n_0}}_1}\\\\\n",
    "....\\\\\n",
    "....\\\\\n",
    "....\\\\\n",
    "\\frac {\\partial J}{\\partial W^{n_1,1}_1} & \\frac {\\partial J}{\\partial W^{n_1,2}_1} & ... \\frac {\\partial J}{\\partial W^{n_1,n_{0}}_1}\\\\\n",
    "\\end{bmatrix},\n",
    "\\frac {\\partial J}{\\partial b_1} = \\begin{bmatrix}\n",
    "\\frac {\\partial J}{\\partial b^{1}_1}\\\\\n",
    "\\frac {\\partial J}{\\partial b^{2}_1}\\\\\n",
    ".\\\\\n",
    ".\\\\\n",
    "\\frac {\\partial J}{\\partial b^{n_1}_1}\\\\\n",
    "\\end{bmatrix}\n",
    "\\end{equation*}\n",
    "$$\n",
    "\n",
    "Important point to note here is the partial derivatives of the cost function with respect to the weights and biases need to be calculated using the chain rule of differentiation. For example, partial derivative of J wrt the weights in the last layer is given as follows,\n",
    "\n",
    "$$ \\frac {\\partial J}{\\partial W_L} = \\frac {1}{m} \\frac {\\partial J}{\\partial Z^{L}}.A^{{L-1},T} $$ \n",
    "\n",
    "The dot in the above equation represents a matrix dot product.\n",
    "\n",
    "$$ \\frac {\\partial J}{\\partial b_L} = \\frac {1}{m}\\sum_{i=1}^{m}\\frac {\\partial J_i}{\\partial Z^{L}}$$\n",
    "\n",
    "here \n",
    "\n",
    "$$ \\frac {\\partial J}{\\partial Z^{L}} =  \\frac {\\partial J}{\\partial A^{L}}*\\frac{dA^{L}}{dZ^L} $$\n",
    "\n",
    "The $*$ product above is an elementwise product as the matrices $\\frac {\\partial J}{\\partial A^{L}}$ and $\\frac{dA^{L}}{dZ^L}$ are of the same size. Finally the derivative of cost function $J$ with respect to previous layers activation function is calculated as below,\n",
    "\n",
    "$$ \\frac {\\partial J}{\\partial A^{L-1}} = W^{L,T}.\\frac{\\partial J}{\\partial Z^L} $$ \n",
    "\n",
    "Once all the terms in the Jacobian (derivative) weight and bias matrices have been calculated the weight and bias matrices can be updated as follows\n",
    "\n",
    "$$W_L = W_L - \\alpha \\frac {\\partial J}{\\partial W_{L}}$$\n",
    "\n",
    "$$b_L = b_L - \\alpha \\frac {\\partial J}{\\partial b_{L}}$$\n",
    "\n",
    "here $\\alpha$ is the training rate which is a hyperparameter. \n",
    "\n",
    "One complete sweep of Forward pass and Backward pass constitutes an epoch. These sweeps are run many times and the weights updated until the cost function is minimized and converges. Depending upon the number of layers and number of nodes in each layer there could be a very large number of weights and bias terms which need to be fit. The architecture of the network is decided before hand and this becomes part of the hyperparameter tuning process."
   ]
  },
  {
   "cell_type": "markdown",
   "metadata": {},
   "source": [
    "## 4. Activation Functions <a class=\"anchor\" id=\"Act_fun\"></a>"
   ]
  },
  {
   "cell_type": "markdown",
   "metadata": {},
   "source": [
    "There are 4 activations functions implemented in the Dense Neural Network class. They are shown below"
   ]
  },
  {
   "cell_type": "code",
   "execution_count": 1,
   "metadata": {},
   "outputs": [],
   "source": [
    "import numpy as np\n",
    "import matplotlib.pyplot as plt\n",
    "%matplotlib inline"
   ]
  },
  {
   "cell_type": "code",
   "execution_count": 2,
   "metadata": {},
   "outputs": [],
   "source": [
    "def sigmoid(x):\n",
    "    return 1/(1+np.exp(-x))\n",
    "\n",
    "def RELU(x):\n",
    "    return np.maximum(0,x)\n",
    "    \n",
    "def tanh(x):\n",
    "    return np.tanh(x)\n",
    "    \n",
    "def leakyRELU(x):\n",
    "    return np.maximum(0.1*x,x)"
   ]
  },
  {
   "cell_type": "code",
   "execution_count": 3,
   "metadata": {},
   "outputs": [
    {
     "data": {
      "image/png": "[encoded data removed]",
      "text/plain": [
       "<Figure size 1008x720 with 4 Axes>"
      ]
     },
     "metadata": {
      "needs_background": "light"
     },
     "output_type": "display_data"
    }
   ],
   "source": [
    "x_var = np.arange(-10,10,0.1)\n",
    "fig = plt.figure(figsize=(14,10))\n",
    "# fig.subplots_adjust(hspace=2, wspace=1)\n",
    "ax = fig.add_subplot(2, 2, 1)\n",
    "ax.plot(x_var,sigmoid(x_var))\n",
    "ax.set_title('Sigmoid')\n",
    "ax.grid()\n",
    "\n",
    "ax = fig.add_subplot(2, 2, 2)\n",
    "ax.plot(x_var,RELU(x_var))\n",
    "ax.set_title('RELU')\n",
    "ax.grid()\n",
    "\n",
    "ax = fig.add_subplot(2, 2, 3)\n",
    "ax.plot(x_var,tanh(x_var))\n",
    "ax.set_title('tanh')\n",
    "ax.grid()\n",
    "\n",
    "ax = fig.add_subplot(2, 2, 4)\n",
    "ax.plot(x_var,leakyRELU(x_var))\n",
    "ax.set_title('Leaky RELU')\n",
    "ax.grid()"
   ]
  },
  {
   "cell_type": "markdown",
   "metadata": {},
   "source": [
    "## 5. Python Class Implementation <a class=\"anchor\" id=\"python_class\"></a>\n",
    "\n",
    "Inorder to implement the Dense deep learning neural network for binary classification, extensive use of python dictionaries and numpy arrays were made. A python class which has the appropriate data structures (dictionaries) and functions makes it convenient to code the algorithm."
   ]
  },
  {
   "cell_type": "markdown",
   "metadata": {},
   "source": [
    "### 5.1 Data Structure (Dictionary) definitions <a class=\"anchor\" id=\"python_class1\"></a>\n",
    "\n",
    "The following are the dictionaries defined in the python class. <br>\n",
    "A overall architecture dictionary stores information about number of nodes in each layer and the activation function stored as a string in each layer. This dictionary is input by the user using a member function called add_layer. The structure of the dictionary is given below.\n",
    "\n",
    "#### Neural Network Architecture <br>\n",
    "*{<br>\n",
    " Layer 1: [Number of Nodes n1, Activation Function of Layer 1], <br>\n",
    " Layer 2: [Number of Nodes n2, Activation Function of Layer 2], <br>\n",
    " . <br>\n",
    " . <br>\n",
    " Layer L: [Number of Nodes nL, Activation Function of Layer L] <br>\n",
    "}*\n",
    "\n",
    "The parameters $W,b$, the activations $Z$ and $A$, and all the derivatives $dW, db, dA. dZ$  are also defined as python dictionaries. The keys to the dictionary are again the layer index. The general structure of all the data dictionaries is as shown below,\n",
    "\n",
    "#### Weights & Derivatives of the Weights <br>\n",
    "*{<br>\n",
    "Layer 1: np.array(n1,n0), <br>\n",
    "Layer 2: np.array(n2,n1),<br>\n",
    ".<br>\n",
    ".<br>\n",
    "Layer L: np.array(nL,nL-1)<br>\n",
    "}*<br>\n",
    "\n",
    "#### Biases & Derivatives of the Biases <br>\n",
    "*{<br>\n",
    "Layer 1: np.array(n1,1), <br>\n",
    "Layer 2: np.array(n2,1),<br>\n",
    ".<br>\n",
    ".<br>\n",
    "Layer L: np.array(nL,1)<br>\n",
    "}*<br>\n",
    "\n",
    "#### Z & A Activations <br>\n",
    "\n",
    "Activations <br>\n",
    "*{<br>\n",
    "Layer 1: np.array(n1,m), <br>\n",
    "Layer 2: np.array(n2,m),<br>\n",
    ".<br>\n",
    ".<br>\n",
    "Layer L: np.array(nL,m)<br>\n",
    "}*<br>"
   ]
  },
  {
   "cell_type": "markdown",
   "metadata": {},
   "source": [
    "### 5.2 Member Functions  <a class=\"anchor\" id=\"python_class2\"></a>\n",
    "\n",
    "There are many member functions defined in the class to enable sequential population of the data structures with data and implementation of gradient descent through forward and backward propagations. \n",
    "1. *input_data* - Ingests and scales the features and stores the response in appropriate arrays\n",
    "2. *add_layer* - Function for adding layers to the neural network architecture. Takes 2 argument viz., no. of nodes in each layer and the activation function for the layer. The choices for the activation functions are *sigmoid, tanh, RELU and leakyRELU*\n",
    "3. *nn_compile* - This function tries to mimic the compilation step used in the TensorFlow except here there is no actual compilation , but initialization of all the weight (random) and bias matrices. \n",
    "4. *fit* -  This function incorporates the forward and backward propagation of the gradient descent algorithm. It takes in the number of epochs (number of iterations of gradient descent) and a learning rate\n",
    "5. *summary* - Shows the structure of the defined neural network\n",
    "6. *predict* - The predict functions calculates and returns the probability and the class label for a new data input.<br>\n",
    "\n",
    "\n",
    "The python class definition is shown below. The inputs and output are similar to TensorFlow Keras API."
   ]
  },
  {
   "cell_type": "markdown",
   "metadata": {},
   "source": [
    "### 5.3 Code Listing <a class=\"anchor\" id=\"python_class3\"></a>"
   ]
  },
  {
   "cell_type": "code",
   "execution_count": 4,
   "metadata": {},
   "outputs": [],
   "source": [
    "class dense_NN():\n",
    "    def __init__(self):\n",
    "        np.random.seed(1)\n",
    "        self.nn_struct={}\n",
    "        self.index = int(0)\n",
    "        self.W = {}\n",
    "        self.b = {}\n",
    "        self.Z = {}\n",
    "        self.A = {}\n",
    "        self.dA = {}\n",
    "        self.dZ = {}\n",
    "        self.dW = {}\n",
    "        self.dB = {}\n",
    "        #self.cost = []\n",
    "        self.cost_list=np.array([])\n",
    "    \n",
    "    ###################Scaler###################\n",
    "    def scaler_fit(self,X):\n",
    "        self.X_max = X.max(0)\n",
    "        self.X_min = X.min(0)\n",
    "            \n",
    "    def scaler_transform(self,X):\n",
    "        return (X-self.X_min)/(self.X_max-self.X_min)\n",
    "    \n",
    "    ############################################\n",
    "    \n",
    "    #################Activation functions & derivatives###################\n",
    "    ############Activation Functions############\n",
    "    def sigmoid(self,x):\n",
    "        return 1/(1+np.exp(-x))\n",
    "    \n",
    "    def RELU(self,x):\n",
    "        return np.maximum(0,x)\n",
    "    \n",
    "    def tanh(self,x):\n",
    "        return np.tanh(x)\n",
    "    \n",
    "    def leakyRELU(self,x):\n",
    "        return np.maximum(0.01*x,x)\n",
    "    \n",
    "    #############Derivatives#####################\n",
    "    def dsigmoid(self,X):\n",
    "        return self.sigmoid(X)*(1-self.sigmoid(X))\n",
    "    \n",
    "    def dRELU(self,x):\n",
    "        return np.where(x>=0.0,1,0)   \n",
    "    \n",
    "    def dtanh(self,X):\n",
    "        return (1-np.square(np.tanh(X)))\n",
    "    \n",
    "    def dleakyRELU(self,x):\n",
    "        return np.where(x>=0,0.01,1.0)\n",
    "    \n",
    "    ##############################################\n",
    "    \n",
    "    def g(self,X,fun=\"RELU\"):\n",
    "        if fun==\"RELU\":\n",
    "            return self.RELU(X)\n",
    "        if fun==\"tanh\":\n",
    "            return self.tanh(X)\n",
    "        if fun=='sigmoid':\n",
    "            return self.sigmoid(X)\n",
    "        if fun=='leakyRELU':\n",
    "            return self.leakyRELU(X)\n",
    "    \n",
    "    def g_prime(self,X,fun=\"RELU\"):\n",
    "        if fun==\"RELU\":\n",
    "            return self.dRELU(X)\n",
    "        if fun==\"tanh\":\n",
    "            return self.dtanh(X)\n",
    "        if fun=='sigmoid':\n",
    "            return self.dsigmoid(X)\n",
    "        if fun=='leakyRELU':\n",
    "            return self.dleakyRELU(X)\n",
    "    ####################################################################################\n",
    "    \n",
    "    ################################Cost Function########################################\n",
    "    def cost(self,y_true,y_pred):\n",
    "        m = y_true.shape[1]\n",
    "        return -np.sum(np.multiply(y_true,np.log(y_pred))+np.multiply((1-y_true),np.log(1-y_pred)))/m\n",
    "    \n",
    "    #####################################################################################\n",
    "           \n",
    "    def input_data(self,X,y):\n",
    "        self.scaler_fit(X)\n",
    "        X_scaled = self.scaler_transform(X)\n",
    "        self.X = X_scaled\n",
    "        self.y = y.reshape((1,-1))\n",
    "        self.m = X_scaled.T.shape[1]\n",
    "        self.n0 = X_scaled.shape[1]\n",
    "        self.A.update({0:self.X.T})\n",
    "\n",
    "    def add_layer(self,nodes=5,act_fun='RELU'):\n",
    "        self.index += 1\n",
    "        add_lay = {self.index:[nodes,act_fun]}\n",
    "        self.nn_struct.update(add_lay)\n",
    "        \n",
    "    def summary(self):\n",
    "        n_param = 0\n",
    "        L = max(sorted(self.nn_struct))\n",
    "        for i in range(1,L+1):\n",
    "            nodes = self.nn_struct[i][0]\n",
    "            act_fun = self.nn_struct[i][1]\n",
    "            print(\"Layer:\",i,\" Node Count:\",nodes,\" Activation Function:\",act_fun)\n",
    "            if i==1:\n",
    "                n_param += self.n0*nodes + nodes\n",
    "            else:\n",
    "                n_param += self.nn_struct[i-1][0]*nodes + nodes\n",
    "        print(\"Total Number of Trainable params:\",n_param)\n",
    "        \n",
    "    \n",
    "    ######################## Randomize the weight arrays#######################\n",
    "    def nn_compile(self):\n",
    "        self.L = max(sorted(self.nn_struct))\n",
    "        for key,value in sorted(self.nn_struct.items()):\n",
    "            if(key==1):\n",
    "                W = 0.02*np.random.rand(value[0],self.n0)\n",
    "                b = np.zeros((value[0],1))\n",
    "                self.W.update({key:W})\n",
    "                self.b.update({key:b})\n",
    "            else:\n",
    "                W = 0.02*np.random.rand(value[0],self.nn_struct[key-1][0])\n",
    "                b = np.zeros((value[0],1))\n",
    "                self.W.update({key:W})\n",
    "                self.b.update({key:b})\n",
    "    ###########################################################################\n",
    "    \n",
    "    def forward_prop(self,verbose=False):\n",
    "        L = max(sorted(self.nn_struct))\n",
    "        ##############Forward Propagation###############\n",
    "        for key,value in sorted(self.nn_struct.items()):\n",
    "            if(key==1):\n",
    "                Z = np.dot(self.W[key],self.X.T)+self.b[key]\n",
    "                A = self.g(Z,fun=value[1])\n",
    "            else:\n",
    "                Z = np.dot(self.W[key],self.A[key-1])+self.b[key]\n",
    "                A = self.g(Z,fun=value[1])\n",
    "            self.Z.update({key:Z})\n",
    "            self.A.update({key:A})\n",
    "        ################################################\n",
    "        cost = self.cost(self.y,self.A[L])\n",
    "        self.cost_list = np.append(self.cost_list,cost)\n",
    "        i=len(self.cost_list)\n",
    "        if verbose:\n",
    "            print(\"Epoch: \",i,\"Cross Entropy Cost: \",cost)\n",
    "    \n",
    "    def back_prop(self):\n",
    "        ############### Total Number of Layers based on Input###########\n",
    "        L = max(sorted(self.nn_struct))\n",
    "        ###############Back Propagation #################\n",
    "        dAL = - (np.divide(self.y, self.A[L]) - np.divide(1 - self.y, 1 - self.A[L]))\n",
    "        dZ = dAL*self.g_prime(self.Z[L],fun=self.nn_struct[L][1])\n",
    "        dW = np.dot(dZ,self.A[L-1].T)/self.m\n",
    "        dB = np.sum(dZ,axis=1,keepdims=True)/self.m\n",
    "        dAL_1 =  np.dot(self.W[L].T,dZ)\n",
    "        \n",
    "        self.dA.update({L:dAL})\n",
    "        self.dZ.update({L:dZ})\n",
    "        self.dW.update({L:dW})\n",
    "        self.dB.update({L:dB})\n",
    "        self.dA.update({L-1:dAL_1})\n",
    "        \n",
    "        \n",
    "        for i in range(L-1,0,-1):\n",
    "            dZ = self.dA[i]*self.g_prime(self.Z[i],fun=self.nn_struct[i][1])\n",
    "            dW = np.dot(dZ,self.A[i-1].T)/self.m\n",
    "            dB = np.sum(dZ,axis=1,keepdims=True)/self.m                    \n",
    "            dAL_1 = np.dot(self.W[i].T,dZ)\n",
    "            if(i!=1):\n",
    "                self.dA.update({i-1:dAL_1})\n",
    "            self.dZ.update({i:dZ})\n",
    "            self.dW.update({i:dW})\n",
    "            self.dB.update({i:dB})\n",
    "         \n",
    "        for i in range(1,L+1,1):\n",
    "            self.W[i]=self.W[i]-self.alpha*self.dW[i]\n",
    "            self.b[i]=self.b[i]-self.alpha*self.dB[i]\n",
    "    \n",
    "    def fit(self,alpha=0.01,epochs=100,verbose=False):\n",
    "        self.alpha = alpha\n",
    "        for i in range(1,epochs):\n",
    "            self.forward_prop(verbose)\n",
    "            if np.isnan(self.cost_list[i-1]):\n",
    "                break\n",
    "            self.back_prop()\n",
    "    \n",
    "    def predict(self,X_new):\n",
    "        L = max(sorted(self.nn_struct))\n",
    "        X_scaled = self.scaler_transform(X_new)\n",
    "        m = X_new.shape[0]\n",
    "        A_dict = {}\n",
    "        Z_dict = {}\n",
    "        for key,value in sorted(self.nn_struct.items()):\n",
    "            if(key==1):\n",
    "                Z = np.dot(self.W[key], X_scaled.T)+self.b[key]\n",
    "                A = self.g(Z,fun=value[1])\n",
    "            else:\n",
    "                Z = np.dot(self.W[key],A_dict[key-1])+self.b[key]\n",
    "                A = self.g(Z,fun=value[1])\n",
    "            Z_dict.update({key:Z})\n",
    "            A_dict.update({key:A})\n",
    "        y_pred = A_dict[L].reshape(-1)\n",
    "        y_class = np.zeros(m)\n",
    "        y_class[y_pred>0.5]=1\n",
    "        \n",
    "        return y_pred,y_class\n",
    "        "
   ]
  },
  {
   "cell_type": "markdown",
   "metadata": {},
   "source": [
    "## 6. Validation on the Wisconsin Breast Cancer dataset and comparison with TensorFlow <a class=\"anchor\" id=\"validation\"></a>"
   ]
  },
  {
   "cell_type": "markdown",
   "metadata": {},
   "source": [
    "The Wisconsin Breast Cancer diagnostic dataset was obtained from the University of Wisconsin Hospitals, Madison from Dr. William H. Wolberg. The latest version of the dataset is available on the UCI Machine Learning repository at the following link https://archive.ics.uci.edu/ml/datasets/Breast+Cancer+Wisconsin+(Diagnostic). The following is the information about the dataset from the *wdbc.names* file in the repo.\n",
    "\n",
    "### Attribute Information:<br>\n",
    "Number of instances: 569 <br>\n",
    "\n",
    "Number of attributes: 32 (ID, diagnosis, 30 real-valued input features) <br>\n",
    "\n",
    "1) ID number\n",
    "2) Diagnosis (M = malignant, B = benign)\n",
    "3-32)\n",
    "\n",
    "Ten real-valued features are computed for each cell nucleus:\n",
    "\n",
    "\ta) radius (mean of distances from center to points on the perimeter)\n",
    "\tb) texture (standard deviation of gray-scale values)\n",
    "\tc) perimeter\n",
    "\td) area\n",
    "\te) smoothness (local variation in radius lengths)\n",
    "\tf) compactness (perimeter^2 / area - 1.0)\n",
    "\tg) concavity (severity of concave portions of the contour)\n",
    "\th) concave points (number of concave portions of the contour)\n",
    "\ti) symmetry \n",
    "\tj) fractal dimension (\"coastline approximation\" - 1)\n",
    "\n",
    "Several of the papers listed above contain detailed descriptions of\n",
    "how these features are computed. \n",
    "\n",
    "The mean, standard error, and \"worst\" or largest (mean of the three\n",
    "largest values) of these features were computed for each image,\n",
    "resulting in 30 features.  For instance, field 3 is Mean Radius, field\n",
    "13 is Radius SE, field 23 is Worst Radius.\n",
    "\n",
    "All feature values are recoded with four significant digits.\n",
    "\n",
    "Missing attribute values: none <br>\n",
    "\n",
    "Class distribution: 357 benign, 212 malignant <br>\n",
    "\n",
    "The classification task here is to predict to whether for a given set of attributes whether the diagnosis is *benign* or *malignant*\n"
   ]
  },
  {
   "cell_type": "code",
   "execution_count": 5,
   "metadata": {},
   "outputs": [],
   "source": [
    "import pandas as pd\n",
    "from sklearn.model_selection import train_test_split\n",
    "from sklearn.preprocessing import MinMaxScaler\n",
    "from sklearn.linear_model import LogisticRegression\n",
    "from sklearn.metrics import classification_report\n",
    "import seaborn as sns"
   ]
  },
  {
   "cell_type": "markdown",
   "metadata": {},
   "source": [
    "### 6.1 Loading the WI Breast Cancer dataset & EDA <a class=\"anchor\" id=\"validation1\"></a>"
   ]
  },
  {
   "cell_type": "code",
   "execution_count": 6,
   "metadata": {},
   "outputs": [
    {
     "name": "stdout",
     "output_type": "stream",
     "text": [
      "<class 'pandas.core.frame.DataFrame'>\n",
      "RangeIndex: 569 entries, 0 to 568\n",
      "Data columns (total 31 columns):\n",
      "mean radius                569 non-null float64\n",
      "mean texture               569 non-null float64\n",
      "mean perimeter             569 non-null float64\n",
      "mean area                  569 non-null float64\n",
      "mean smoothness            569 non-null float64\n",
      "mean compactness           569 non-null float64\n",
      "mean concavity             569 non-null float64\n",
      "mean concave points        569 non-null float64\n",
      "mean symmetry              569 non-null float64\n",
      "mean fractal dimension     569 non-null float64\n",
      "radius error               569 non-null float64\n",
      "texture error              569 non-null float64\n",
      "perimeter error            569 non-null float64\n",
      "area error                 569 non-null float64\n",
      "smoothness error           569 non-null float64\n",
      "compactness error          569 non-null float64\n",
      "concavity error            569 non-null float64\n",
      "concave points error       569 non-null float64\n",
      "symmetry error             569 non-null float64\n",
      "fractal dimension error    569 non-null float64\n",
      "worst radius               569 non-null float64\n",
      "worst texture              569 non-null float64\n",
      "worst perimeter            569 non-null float64\n",
      "worst area                 569 non-null float64\n",
      "worst smoothness           569 non-null float64\n",
      "worst compactness          569 non-null float64\n",
      "worst concavity            569 non-null float64\n",
      "worst concave points       569 non-null float64\n",
      "worst symmetry             569 non-null float64\n",
      "worst fractal dimension    569 non-null float64\n",
      "benign_0__mal_1            569 non-null int64\n",
      "dtypes: float64(30), int64(1)\n",
      "memory usage: 137.9 KB\n"
     ]
    }
   ],
   "source": [
    "df = pd.read_csv('cancer_classification.csv')\n",
    "df.info()"
   ]
  },
  {
   "cell_type": "markdown",
   "metadata": {},
   "source": [
    "The column *benign_0__mal_1* contains the response labels and as the column header indicates *0* is associated with *benign* diagnosis and *1* with *malignant* diagonsis. A plot showing the distribution of these two categorical variables will be very instructional in deciding on what metrics to use for the machine learning model evaluation."
   ]
  },
  {
   "cell_type": "code",
   "execution_count": 7,
   "metadata": {},
   "outputs": [
    {
     "data": {
      "image/png": "[encoded data removed]",
      "text/plain": [
       "<Figure size 432x360 with 1 Axes>"
      ]
     },
     "metadata": {
      "needs_background": "light"
     },
     "output_type": "display_data"
    }
   ],
   "source": [
    "plt.figure(figsize=(6,5))\n",
    "sns.countplot(x='benign_0__mal_1',data=df)\n",
    "plt.xlabel(\"Benign = 0, Malignant = 1\")\n",
    "plt.ylabel(\"Count\")\n",
    "plt.show()"
   ]
  },
  {
   "cell_type": "markdown",
   "metadata": {},
   "source": [
    "The response variable is reasonably balanced, hence the overall accuracy metric can be used to evaluate the implemented neural network. The next part of the EDA is look at the correlation plot for the feature matrix to see if any of the X variables are correlated with each other. There are some X variables which are correlated with each other indicated by dark blue colors in the off diagonal region. For the sake of simplicity, these correlated variables weren't removed from the dataset."
   ]
  },
  {
   "cell_type": "code",
   "execution_count": 8,
   "metadata": {},
   "outputs": [
    {
     "data": {
      "text/plain": [
       "<matplotlib.axes._subplots.AxesSubplot at 0x23003556308>"
      ]
     },
     "execution_count": 8,
     "metadata": {},
     "output_type": "execute_result"
    },
    {
     "data": {
      "image/png": "[encoded data removed]",
      "text/plain": [
       "<Figure size 792x576 with 2 Axes>"
      ]
     },
     "metadata": {
      "needs_background": "light"
     },
     "output_type": "display_data"
    }
   ],
   "source": [
    "plt.figure(figsize=(11,8))\n",
    "plt.title(\"Correlation Heat Map of X Features\")\n",
    "sns.heatmap(df.drop(labels=[\"benign_0__mal_1\"],axis=1).corr(),cmap=\"YlGnBu\")"
   ]
  },
  {
   "cell_type": "markdown",
   "metadata": {},
   "source": [
    "The pairwise Pearson correlation between all the X feature variables and the response (*benign_0__mal_1*) have been plotted below using a barplot. This again can be used for feature engineering or for dropping some of the features which don't have predictive power. More domain knowledge is required before this determination is made and usually a subject matter expert is consulted."
   ]
  },
  {
   "cell_type": "code",
   "execution_count": 9,
   "metadata": {},
   "outputs": [
    {
     "data": {
      "image/png": "[encoded data removed]",
      "text/plain": [
       "<Figure size 720x504 with 1 Axes>"
      ]
     },
     "metadata": {
      "needs_background": "light"
     },
     "output_type": "display_data"
    }
   ],
   "source": [
    "plt.figure(figsize=(10,7))\n",
    "plt.title('Correlation Barplot (with respect to Response Variable)')\n",
    "plt.ylabel('Correlation Coefficient')\n",
    "(df.corr()['benign_0__mal_1']).plot(kind='bar')\n",
    "plt.show()"
   ]
  },
  {
   "cell_type": "markdown",
   "metadata": {},
   "source": [
    "That concludes the EDA. The next step is to split the dataset into train and test sets and to perform the model fitting."
   ]
  },
  {
   "cell_type": "markdown",
   "metadata": {},
   "source": [
    "### 6.2. Data Cleanup and conversion to numpy arrays <a class=\"anchor\" id=\"validation2\"></a>"
   ]
  },
  {
   "cell_type": "code",
   "execution_count": 10,
   "metadata": {},
   "outputs": [],
   "source": [
    "df_X = df.drop('benign_0__mal_1',axis=1)\n",
    "df_y = df['benign_0__mal_1']\n",
    "X = df_X.to_numpy()\n",
    "y = df_y.to_numpy()"
   ]
  },
  {
   "cell_type": "markdown",
   "metadata": {},
   "source": [
    "### 6.3 Train Test Split using scikit learn train test split algorithm <a class=\"anchor\" id=\"validation3\"></a>\n",
    "\n",
    "Even though the response variable is balanced, a stratified train test split was performed so that the training and test sets have the same ratio of *malignant - 1* to *benign - 0* "
   ]
  },
  {
   "cell_type": "code",
   "execution_count": 11,
   "metadata": {},
   "outputs": [],
   "source": [
    "X_train,X_test,y_train,y_test = train_test_split(X,y,test_size=0.3,random_state=50,stratify=y)\n",
    "y_train = y_train.astype(int)\n",
    "y_test = y_test.astype(int)"
   ]
  },
  {
   "cell_type": "markdown",
   "metadata": {},
   "source": [
    "The *stratity = y* in the scikit-learn *train_test_split* function makes sure that the ratio of the response labels are the same in the training and test datasets. Cross validation was not used in this study in order to keep the programming simple."
   ]
  },
  {
   "cell_type": "code",
   "execution_count": 12,
   "metadata": {},
   "outputs": [
    {
     "name": "stdout",
     "output_type": "stream",
     "text": [
      "Training Set =  [148 250]\n",
      "Test Set =  [ 64 107]\n"
     ]
    }
   ],
   "source": [
    "print(\"Training Set = \",np.unique(y_train,return_counts=True)[1])\n",
    "print(\"Test Set = \",np.unique(y_test,return_counts=True)[1])"
   ]
  },
  {
   "cell_type": "markdown",
   "metadata": {},
   "source": [
    "### 6.4 Implemented DL Network Architecture definition <a class=\"anchor\" id=\"validation4\"></a>\n",
    "\n",
    "Following are the steps which need to performed sequentially to effectively use the implemented Deep Neural Network architecture. Please refer [5.2. Member Functions](#python_class2) for more details. In this particular case a tanh layer with 20 nodes and a RELU layer with 15 nodes were used for constructing the network.  The summary function shows the general architecture of the network and the total number of parameters which need to be trained. It is pretty clear that even for this small network the number of parameters (951 parameters) which needs to be trained is quite large. Compare this to a logistic regression which has only 31 parameters. The last layer always needs to be a sigmoid layer with one single node."
   ]
  },
  {
   "cell_type": "code",
   "execution_count": 13,
   "metadata": {},
   "outputs": [
    {
     "name": "stdout",
     "output_type": "stream",
     "text": [
      "Structure of the neural network\n",
      "Layer: 1  Node Count: 20  Activation Function: tanh\n",
      "Layer: 2  Node Count: 15  Activation Function: RELU\n",
      "Layer: 3  Node Count: 1  Activation Function: sigmoid\n",
      "Total Number of Trainable params: 951\n"
     ]
    }
   ],
   "source": [
    "# Creation of a class object and initializing the network\n",
    "nn1 = dense_NN()\n",
    "# Data Input \n",
    "nn1.input_data(X_train,y_train)\n",
    "\n",
    "# Adding layers using the add_layer function. 2 layers, a tanh and leakyRELU were added.\n",
    "nn1.add_layer(nodes=20,act_fun='tanh')\n",
    "nn1.add_layer(15,act_fun='RELU')\n",
    "\n",
    "# Addition of the final single node sigmoid layer is mandatory for binary classification task\n",
    "nn1.add_layer(1,act_fun='sigmoid')\n",
    "\n",
    "# This randomly initializes all the weight matrices and assigns zeros to the bias arrays\n",
    "nn1.nn_compile()\n",
    "\n",
    "print(\"Structure of the neural network\")\n",
    "nn1.summary()"
   ]
  },
  {
   "cell_type": "markdown",
   "metadata": {},
   "source": [
    "### 6.5 The Fitting process <a class=\"anchor\" id=\"validation5\"></a>\n",
    "\n",
    "With the neural network defined as above the next step is to train the network. The fitting process required two hyperparameters as input, training rate $\\alpha$ and number of epochs (number of forward and backward propagations through the network). These are user inputs. There is a verbose flag, which can be made to print out the value of cost function at each epoch to track the convergence of the fitting process."
   ]
  },
  {
   "cell_type": "code",
   "execution_count": 14,
   "metadata": {
    "scrolled": true
   },
   "outputs": [],
   "source": [
    "nn1.fit(alpha=0.05,epochs=15000,verbose=False)"
   ]
  },
  {
   "cell_type": "markdown",
   "metadata": {},
   "source": [
    "The values of the cost function at each iteration is stored in a list (*cost_list*) which is available for post processing. The below plot shows the convergence of cost function with epoch."
   ]
  },
  {
   "cell_type": "code",
   "execution_count": 15,
   "metadata": {},
   "outputs": [
    {
     "data": {
      "image/png": "[encoded data removed]",
      "text/plain": [
       "<Figure size 576x432 with 1 Axes>"
      ]
     },
     "metadata": {
      "needs_background": "light"
     },
     "output_type": "display_data"
    }
   ],
   "source": [
    "plt.figure(figsize=(8,6))\n",
    "plt.plot(nn1.cost_list)\n",
    "plt.xlabel(\"Epoch\")\n",
    "plt.ylabel(\"Cost\")\n",
    "plt.show()"
   ]
  },
  {
   "cell_type": "markdown",
   "metadata": {},
   "source": [
    "### 6.6 Making Predictions <a class=\"anchor\" id=\"validation6\"></a>\n",
    "The *predict* function is used for making predictions on the test set or new input data. The implementation of the predict function is straight use of the forward pass stopping at the final layer with probabilities and class label calculations. A threshold probability of 0.5 is used for the class labels' assignment."
   ]
  },
  {
   "cell_type": "code",
   "execution_count": 16,
   "metadata": {},
   "outputs": [
    {
     "name": "stdout",
     "output_type": "stream",
     "text": [
      "Predicted Probabilities\n",
      " [9.94615906e-01 9.94615906e-01 9.94615906e-01 9.94615906e-01\n",
      " 3.88345321e-02 3.01816741e-20 6.03458862e-19 9.94615906e-01\n",
      " 9.94615906e-01 9.94615906e-01 5.17327924e-32 9.94615906e-01\n",
      " 9.94615906e-01 9.94615906e-01 9.94615906e-01 9.94615906e-01\n",
      " 9.94615906e-01 9.94615906e-01 9.94615906e-01 5.68370732e-26\n",
      " 9.94615906e-01 5.35855653e-17 3.89977991e-11 9.94615906e-01\n",
      " 9.94615906e-01 9.94615906e-01 3.23631464e-30 3.12002436e-01\n",
      " 9.94615906e-01 9.94615906e-01 9.94615906e-01 1.24242312e-10\n",
      " 6.07271893e-20 9.94615906e-01 7.35380674e-19 6.02255351e-01\n",
      " 9.94615906e-01 4.48351905e-22 4.19406693e-02 9.94615906e-01\n",
      " 9.94615906e-01 3.36910152e-14 9.94615906e-01 7.84373206e-10\n",
      " 9.94615906e-01 9.94615906e-01 9.94615906e-01 6.36106290e-02\n",
      " 7.74489108e-01 9.94615906e-01 4.06414386e-28 3.91414853e-20\n",
      " 8.97867284e-07 8.39497790e-27 9.94615906e-01 8.19194585e-20\n",
      " 2.20081402e-34 1.28316809e-09 9.94615906e-01 9.94615906e-01\n",
      " 3.64377658e-21 9.94615906e-01 9.94615906e-01 9.94615906e-01\n",
      " 9.94615906e-01 9.94615906e-01 9.94615906e-01 6.25760267e-39\n",
      " 9.88175985e-09 9.94615906e-01 9.94615906e-01 9.94615906e-01\n",
      " 5.44005796e-15 5.56368683e-03 9.94615906e-01 9.94615906e-01\n",
      " 9.02373937e-03 9.94615906e-01 9.94615906e-01 3.90348430e-34\n",
      " 9.94615906e-01 9.94615906e-01 4.38419494e-07 1.37004834e-24\n",
      " 9.94615906e-01 9.94615906e-01 4.54882332e-08 9.94615906e-01\n",
      " 9.94615906e-01 9.94615906e-01 1.99642843e-30 9.94615906e-01\n",
      " 5.40220077e-03 9.82484993e-01 1.22123561e-26 9.94615906e-01\n",
      " 4.28753467e-21 9.94615906e-01 1.90099310e-05 9.94615906e-01\n",
      " 9.94615906e-01 9.94615906e-01 9.94615906e-01 9.94615906e-01\n",
      " 9.94615906e-01 1.11891135e-11 9.88374066e-01 2.27690223e-28\n",
      " 9.94615906e-01 9.94615906e-01 5.31448801e-09 9.94615906e-01\n",
      " 9.94615906e-01 9.94615906e-01 9.94615906e-01 4.67932506e-05\n",
      " 1.14729231e-02 9.94615906e-01 9.94615906e-01 9.94615906e-01\n",
      " 9.94615906e-01 9.94615906e-01 9.94615906e-01 9.94615906e-01\n",
      " 9.94615906e-01 1.11097890e-17 9.94615906e-01 1.74090772e-12\n",
      " 1.06116956e-22 9.94615906e-01 2.42213769e-07 9.94615906e-01\n",
      " 9.94615906e-01 8.07881308e-04 9.94615906e-01 9.94615906e-01\n",
      " 4.87070041e-13 9.94615906e-01 9.94615906e-01 9.94615906e-01\n",
      " 9.94615906e-01 9.94615906e-01 5.64780817e-20 3.35512622e-21\n",
      " 8.13913940e-15 9.94615906e-01 3.67121874e-07 9.94615906e-01\n",
      " 4.18435247e-10 9.94615906e-01 9.94615906e-01 9.94615906e-01\n",
      " 9.94615906e-01 6.49023509e-28 8.24565602e-10 9.94615906e-01\n",
      " 5.42255579e-16 6.15511498e-07 8.09375829e-23 3.92993703e-25\n",
      " 9.94615906e-01 9.94615906e-01 9.82522285e-01 9.94615906e-01\n",
      " 9.94615906e-01 9.94615906e-01 9.94615906e-01 3.16308196e-20\n",
      " 5.50778359e-18 9.94615906e-01 9.94615906e-01]\n",
      "\n",
      "\n",
      "Predicted Class labels\n",
      " [1. 1. 1. 1. 0. 0. 0. 1. 1. 1. 0. 1. 1. 1. 1. 1. 1. 1. 1. 0. 1. 0. 0. 1.\n",
      " 1. 1. 0. 0. 1. 1. 1. 0. 0. 1. 0. 1. 1. 0. 0. 1. 1. 0. 1. 0. 1. 1. 1. 0.\n",
      " 1. 1. 0. 0. 0. 0. 1. 0. 0. 0. 1. 1. 0. 1. 1. 1. 1. 1. 1. 0. 0. 1. 1. 1.\n",
      " 0. 0. 1. 1. 0. 1. 1. 0. 1. 1. 0. 0. 1. 1. 0. 1. 1. 1. 0. 1. 0. 1. 0. 1.\n",
      " 0. 1. 0. 1. 1. 1. 1. 1. 1. 0. 1. 0. 1. 1. 0. 1. 1. 1. 1. 0. 0. 1. 1. 1.\n",
      " 1. 1. 1. 1. 1. 0. 1. 0. 0. 1. 0. 1. 1. 0. 1. 1. 0. 1. 1. 1. 1. 1. 0. 0.\n",
      " 0. 1. 0. 1. 0. 1. 1. 1. 1. 0. 0. 1. 0. 0. 0. 0. 1. 1. 1. 1. 1. 1. 1. 0.\n",
      " 0. 1. 1.]\n"
     ]
    }
   ],
   "source": [
    "y_prob,y_class = nn1.predict(X_test)\n",
    "print(\"Predicted Probabilities\\n\",y_prob)\n",
    "print(\"\\n\")\n",
    "print(\"Predicted Class labels\\n\",y_class)"
   ]
  },
  {
   "cell_type": "markdown",
   "metadata": {},
   "source": [
    "### 6.7 Evaluating the model performance <a class=\"anchor\" id=\"validation7\"></a>\n",
    "\n",
    "The model performance is evaluated using the Scikit-Learn *classification_report* and *confusion matrix* functions. The model is highly accurate across all measures as shown below."
   ]
  },
  {
   "cell_type": "code",
   "execution_count": 17,
   "metadata": {},
   "outputs": [
    {
     "name": "stdout",
     "output_type": "stream",
     "text": [
      "Confusion Matrix \n",
      "\n",
      "[[ 61   3]\n",
      " [  2 105]]\n"
     ]
    }
   ],
   "source": [
    "from sklearn.metrics import confusion_matrix\n",
    "print(\"Confusion Matrix \\n\")\n",
    "print(confusion_matrix(y_test,y_class))"
   ]
  },
  {
   "cell_type": "code",
   "execution_count": 18,
   "metadata": {},
   "outputs": [
    {
     "name": "stdout",
     "output_type": "stream",
     "text": [
      "Classification Report \n",
      "\n",
      "              precision    recall  f1-score   support\n",
      "\n",
      "           0       0.97      0.95      0.96        64\n",
      "           1       0.97      0.98      0.98       107\n",
      "\n",
      "    accuracy                           0.97       171\n",
      "   macro avg       0.97      0.97      0.97       171\n",
      "weighted avg       0.97      0.97      0.97       171\n",
      "\n"
     ]
    }
   ],
   "source": [
    "print('Classification Report \\n')\n",
    "print(classification_report(y_test,y_class))"
   ]
  },
  {
   "cell_type": "markdown",
   "metadata": {},
   "source": [
    "### 6.8 Comparison with TensorFlow <a class=\"anchor\" id=\"validation8\"></a>\n",
    "TensorFlow is a popular open source library for performing Deep Learning. It acts as a good benchmark to compare any deep other learning libraries. The Keras API was used training and testing a TensorFlow model for the same dataset. The trained TensorFlow model was then used to evaluate the current deep learning implementation."
   ]
  },
  {
   "cell_type": "code",
   "execution_count": 19,
   "metadata": {},
   "outputs": [],
   "source": [
    "import tensorflow as tf\n",
    "from tensorflow.keras.models import Sequential\n",
    "from tensorflow.keras.layers import Dense, Activation,Dropout\n",
    "from tensorflow.keras.callbacks import EarlyStopping\n",
    "early_stop = EarlyStopping(monitor='val_loss', mode='min', verbose=1, patience=200)"
   ]
  },
  {
   "cell_type": "markdown",
   "metadata": {},
   "source": [
    "Please refer either https://www.tensorflow.org/ or https://keras.io/guides/functional_api/ on details on how to construct and train a deep learning model."
   ]
  },
  {
   "cell_type": "markdown",
   "metadata": {},
   "source": [
    "TensorFlow Dense Neural Network model construction is shown below. Convention used in the implemented network is very similar to how a Dense neural network is constructed using the Keras API."
   ]
  },
  {
   "cell_type": "code",
   "execution_count": 20,
   "metadata": {},
   "outputs": [],
   "source": [
    "tf_model = Sequential()\n",
    "tf_model.add(Dense(units=20,activation='tanh'))\n",
    "tf_model.add(Dense(units=15,activation='relu'))\n",
    "tf_model.add(Dense(units=1,activation='sigmoid'))\n",
    "tf_model.compile(loss='binary_crossentropy', optimizer='adam')"
   ]
  },
  {
   "cell_type": "markdown",
   "metadata": {},
   "source": [
    "The training process using the *fit* function."
   ]
  },
  {
   "cell_type": "code",
   "execution_count": 21,
   "metadata": {
    "scrolled": true
   },
   "outputs": [
    {
     "name": "stdout",
     "output_type": "stream",
     "text": [
      "Epoch 00299: early stopping\n"
     ]
    },
    {
     "data": {
      "text/plain": [
       "<tensorflow.python.keras.callbacks.History at 0x23009af4248>"
      ]
     },
     "execution_count": 21,
     "metadata": {},
     "output_type": "execute_result"
    }
   ],
   "source": [
    "tf_model.fit(x=X_train,\n",
    "          y=y_train,\n",
    "          epochs=600,\n",
    "          validation_split=0.3,\n",
    "          verbose=0,\n",
    "          callbacks=[early_stop]\n",
    "         )"
   ]
  },
  {
   "cell_type": "markdown",
   "metadata": {},
   "source": [
    "Plotting training and validation losses"
   ]
  },
  {
   "cell_type": "code",
   "execution_count": 22,
   "metadata": {},
   "outputs": [
    {
     "data": {
      "text/plain": [
       "<Figure size 576x432 with 0 Axes>"
      ]
     },
     "metadata": {},
     "output_type": "display_data"
    },
    {
     "data": {
      "image/png": "[encoded data removed]",
      "text/plain": [
       "<Figure size 432x288 with 1 Axes>"
      ]
     },
     "metadata": {
      "needs_background": "light"
     },
     "output_type": "display_data"
    }
   ],
   "source": [
    "model_loss = pd.DataFrame(tf_model.history.history)\n",
    "plt.figure(figsize=(8,6))\n",
    "model_loss.plot()\n",
    "plt.title(\"Losses\")\n",
    "plt.xlabel(\"Epochs\")\n",
    "plt.ylabel(\"Cost\")\n",
    "plt.show()"
   ]
  },
  {
   "cell_type": "markdown",
   "metadata": {},
   "source": [
    "Making predictions with the TensorFlow model"
   ]
  },
  {
   "cell_type": "code",
   "execution_count": 23,
   "metadata": {},
   "outputs": [],
   "source": [
    "tf_predict = tf_model.predict_classes(X_test)"
   ]
  },
  {
   "cell_type": "code",
   "execution_count": 24,
   "metadata": {},
   "outputs": [
    {
     "name": "stdout",
     "output_type": "stream",
     "text": [
      "Confusion Matrix \n",
      "\n",
      "[[ 49  15]\n",
      " [  2 105]]\n"
     ]
    }
   ],
   "source": [
    "print(\"Confusion Matrix \\n\")\n",
    "print(confusion_matrix(y_test,tf_predict))"
   ]
  },
  {
   "cell_type": "code",
   "execution_count": 25,
   "metadata": {},
   "outputs": [
    {
     "name": "stdout",
     "output_type": "stream",
     "text": [
      "Classification Report \n",
      "\n",
      "              precision    recall  f1-score   support\n",
      "\n",
      "           0       0.96      0.77      0.85        64\n",
      "           1       0.88      0.98      0.93       107\n",
      "\n",
      "    accuracy                           0.90       171\n",
      "   macro avg       0.92      0.87      0.89       171\n",
      "weighted avg       0.91      0.90      0.90       171\n",
      "\n"
     ]
    }
   ],
   "source": [
    "print('Classification Report \\n')\n",
    "print(classification_report(y_test,tf_predict))"
   ]
  },
  {
   "cell_type": "markdown",
   "metadata": {},
   "source": [
    "The implemented model outperforms the TensorFlow model in all the test dataset metrics. This exercise serves as a good validation of the implemented model. TensorFlow has a lot of capability for other network architectures like Convolutional Neural networks, Recurrent Neural networks, Generative Adversarial networks etc. It is a good benchmark for evaluating other neural network frameworks."
   ]
  },
  {
   "cell_type": "markdown",
   "metadata": {},
   "source": [
    "## 7. Conclusion <a class=\"anchor\" id=\"conclusion\"></a>\n",
    "\n",
    "In this notebook, a deep learning neural network was successfully developed from scratch using only python dictionaries and numpy arrays for binary classification task. Traditional gradient descent aglorithm was used for fitting the weights and biases. A systematic approach was followed for creating the python class with definition of data structures followed by member functions. The syntax for training and testing the network is very similar to the TensorFlow Keras API. The next steps are to test the model against more datasets & observe it's performance, extend it to other machine learning tasks like regression & and multiclass classification and finally to develop a framework for productionizing the model (saving and deploying). These will be explored in future notebooks."
   ]
  }
 ],
 "metadata": {
  "kernelspec": {
   "display_name": "Python 3",
   "language": "python",
   "name": "python3"
  },
  "language_info": {
   "codemirror_mode": {
    "name": "ipython",
    "version": 3
   },
   "file_extension": ".py",
   "mimetype": "text/x-python",
   "name": "python",
   "nbconvert_exporter": "python",
   "pygments_lexer": "ipython3",
   "version": "3.7.5"
  }
 },
 "nbformat": 4,
 "nbformat_minor": 2
}
